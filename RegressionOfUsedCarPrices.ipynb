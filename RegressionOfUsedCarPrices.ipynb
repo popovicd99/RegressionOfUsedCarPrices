{
 "cells": [
  {
   "cell_type": "code",
   "execution_count": 1,
   "metadata": {},
   "outputs": [],
   "source": [
    "import pandas as pd\n",
    "import numpy as np\n",
    "import matplotlib.pyplot as plt\n",
    "import seaborn as sns\n",
    "import warnings\n",
    "warnings.filterwarnings(\"ignore\")"
   ]
  },
  {
   "cell_type": "markdown",
   "metadata": {},
   "source": [
    "## Dataset EDA"
   ]
  },
  {
   "cell_type": "code",
   "execution_count": 2,
   "metadata": {},
   "outputs": [],
   "source": [
    "df = pd.read_csv(\"train.csv\")"
   ]
  },
  {
   "cell_type": "code",
   "execution_count": 3,
   "metadata": {},
   "outputs": [
    {
     "data": {
      "text/html": [
       "<div>\n",
       "<style scoped>\n",
       "    .dataframe tbody tr th:only-of-type {\n",
       "        vertical-align: middle;\n",
       "    }\n",
       "\n",
       "    .dataframe tbody tr th {\n",
       "        vertical-align: top;\n",
       "    }\n",
       "\n",
       "    .dataframe thead th {\n",
       "        text-align: right;\n",
       "    }\n",
       "</style>\n",
       "<table border=\"1\" class=\"dataframe\">\n",
       "  <thead>\n",
       "    <tr style=\"text-align: right;\">\n",
       "      <th></th>\n",
       "      <th>id</th>\n",
       "      <th>brand</th>\n",
       "      <th>model</th>\n",
       "      <th>model_year</th>\n",
       "      <th>milage</th>\n",
       "      <th>fuel_type</th>\n",
       "      <th>engine</th>\n",
       "      <th>transmission</th>\n",
       "      <th>ext_col</th>\n",
       "      <th>int_col</th>\n",
       "      <th>accident</th>\n",
       "      <th>clean_title</th>\n",
       "      <th>price</th>\n",
       "    </tr>\n",
       "  </thead>\n",
       "  <tbody>\n",
       "    <tr>\n",
       "      <th>0</th>\n",
       "      <td>0</td>\n",
       "      <td>MINI</td>\n",
       "      <td>Cooper S Base</td>\n",
       "      <td>2007</td>\n",
       "      <td>213000</td>\n",
       "      <td>Gasoline</td>\n",
       "      <td>172.0HP 1.6L 4 Cylinder Engine Gasoline Fuel</td>\n",
       "      <td>A/T</td>\n",
       "      <td>Yellow</td>\n",
       "      <td>Gray</td>\n",
       "      <td>None reported</td>\n",
       "      <td>Yes</td>\n",
       "      <td>4200</td>\n",
       "    </tr>\n",
       "    <tr>\n",
       "      <th>1</th>\n",
       "      <td>1</td>\n",
       "      <td>Lincoln</td>\n",
       "      <td>LS V8</td>\n",
       "      <td>2002</td>\n",
       "      <td>143250</td>\n",
       "      <td>Gasoline</td>\n",
       "      <td>252.0HP 3.9L 8 Cylinder Engine Gasoline Fuel</td>\n",
       "      <td>A/T</td>\n",
       "      <td>Silver</td>\n",
       "      <td>Beige</td>\n",
       "      <td>At least 1 accident or damage reported</td>\n",
       "      <td>Yes</td>\n",
       "      <td>4999</td>\n",
       "    </tr>\n",
       "    <tr>\n",
       "      <th>2</th>\n",
       "      <td>2</td>\n",
       "      <td>Chevrolet</td>\n",
       "      <td>Silverado 2500 LT</td>\n",
       "      <td>2002</td>\n",
       "      <td>136731</td>\n",
       "      <td>E85 Flex Fuel</td>\n",
       "      <td>320.0HP 5.3L 8 Cylinder Engine Flex Fuel Capab...</td>\n",
       "      <td>A/T</td>\n",
       "      <td>Blue</td>\n",
       "      <td>Gray</td>\n",
       "      <td>None reported</td>\n",
       "      <td>Yes</td>\n",
       "      <td>13900</td>\n",
       "    </tr>\n",
       "    <tr>\n",
       "      <th>3</th>\n",
       "      <td>3</td>\n",
       "      <td>Genesis</td>\n",
       "      <td>G90 5.0 Ultimate</td>\n",
       "      <td>2017</td>\n",
       "      <td>19500</td>\n",
       "      <td>Gasoline</td>\n",
       "      <td>420.0HP 5.0L 8 Cylinder Engine Gasoline Fuel</td>\n",
       "      <td>Transmission w/Dual Shift Mode</td>\n",
       "      <td>Black</td>\n",
       "      <td>Black</td>\n",
       "      <td>None reported</td>\n",
       "      <td>Yes</td>\n",
       "      <td>45000</td>\n",
       "    </tr>\n",
       "    <tr>\n",
       "      <th>4</th>\n",
       "      <td>4</td>\n",
       "      <td>Mercedes-Benz</td>\n",
       "      <td>Metris Base</td>\n",
       "      <td>2021</td>\n",
       "      <td>7388</td>\n",
       "      <td>Gasoline</td>\n",
       "      <td>208.0HP 2.0L 4 Cylinder Engine Gasoline Fuel</td>\n",
       "      <td>7-Speed A/T</td>\n",
       "      <td>Black</td>\n",
       "      <td>Beige</td>\n",
       "      <td>None reported</td>\n",
       "      <td>Yes</td>\n",
       "      <td>97500</td>\n",
       "    </tr>\n",
       "    <tr>\n",
       "      <th>5</th>\n",
       "      <td>5</td>\n",
       "      <td>Audi</td>\n",
       "      <td>A6 2.0T Sport</td>\n",
       "      <td>2018</td>\n",
       "      <td>40950</td>\n",
       "      <td>Gasoline</td>\n",
       "      <td>252.0HP 2.0L 4 Cylinder Engine Gasoline Fuel</td>\n",
       "      <td>A/T</td>\n",
       "      <td>White</td>\n",
       "      <td>–</td>\n",
       "      <td>None reported</td>\n",
       "      <td>Yes</td>\n",
       "      <td>29950</td>\n",
       "    </tr>\n",
       "    <tr>\n",
       "      <th>6</th>\n",
       "      <td>6</td>\n",
       "      <td>Audi</td>\n",
       "      <td>A8 L 3.0T</td>\n",
       "      <td>2016</td>\n",
       "      <td>62200</td>\n",
       "      <td>Gasoline</td>\n",
       "      <td>333.0HP 3.0L V6 Cylinder Engine Gasoline Fuel</td>\n",
       "      <td>8-Speed A/T</td>\n",
       "      <td>Black</td>\n",
       "      <td>Black</td>\n",
       "      <td>None reported</td>\n",
       "      <td>Yes</td>\n",
       "      <td>28500</td>\n",
       "    </tr>\n",
       "    <tr>\n",
       "      <th>7</th>\n",
       "      <td>7</td>\n",
       "      <td>Chevrolet</td>\n",
       "      <td>Silverado 1500 1LZ</td>\n",
       "      <td>2016</td>\n",
       "      <td>102604</td>\n",
       "      <td>E85 Flex Fuel</td>\n",
       "      <td>355.0HP 5.3L 8 Cylinder Engine Flex Fuel Capab...</td>\n",
       "      <td>A/T</td>\n",
       "      <td>White</td>\n",
       "      <td>Gray</td>\n",
       "      <td>None reported</td>\n",
       "      <td>Yes</td>\n",
       "      <td>12500</td>\n",
       "    </tr>\n",
       "    <tr>\n",
       "      <th>8</th>\n",
       "      <td>8</td>\n",
       "      <td>Ford</td>\n",
       "      <td>F-150 XLT</td>\n",
       "      <td>2020</td>\n",
       "      <td>38352</td>\n",
       "      <td>Gasoline</td>\n",
       "      <td>2.7L V6 24V PDI DOHC Twin Turbo</td>\n",
       "      <td>10-Speed Automatic</td>\n",
       "      <td>Snowflake White Pearl Metallic</td>\n",
       "      <td>Black</td>\n",
       "      <td>None reported</td>\n",
       "      <td>Yes</td>\n",
       "      <td>62890</td>\n",
       "    </tr>\n",
       "    <tr>\n",
       "      <th>9</th>\n",
       "      <td>9</td>\n",
       "      <td>BMW</td>\n",
       "      <td>M4 Base</td>\n",
       "      <td>2015</td>\n",
       "      <td>74850</td>\n",
       "      <td>Gasoline</td>\n",
       "      <td>425.0HP 3.0L Straight 6 Cylinder Engine Gasoli...</td>\n",
       "      <td>Transmission w/Dual Shift Mode</td>\n",
       "      <td>Black</td>\n",
       "      <td>Blue</td>\n",
       "      <td>None reported</td>\n",
       "      <td>Yes</td>\n",
       "      <td>4000</td>\n",
       "    </tr>\n",
       "  </tbody>\n",
       "</table>\n",
       "</div>"
      ],
      "text/plain": [
       "   id          brand               model  model_year  milage      fuel_type  \\\n",
       "0   0           MINI       Cooper S Base        2007  213000       Gasoline   \n",
       "1   1        Lincoln               LS V8        2002  143250       Gasoline   \n",
       "2   2      Chevrolet   Silverado 2500 LT        2002  136731  E85 Flex Fuel   \n",
       "3   3        Genesis    G90 5.0 Ultimate        2017   19500       Gasoline   \n",
       "4   4  Mercedes-Benz         Metris Base        2021    7388       Gasoline   \n",
       "5   5           Audi       A6 2.0T Sport        2018   40950       Gasoline   \n",
       "6   6           Audi           A8 L 3.0T        2016   62200       Gasoline   \n",
       "7   7      Chevrolet  Silverado 1500 1LZ        2016  102604  E85 Flex Fuel   \n",
       "8   8           Ford           F-150 XLT        2020   38352       Gasoline   \n",
       "9   9            BMW             M4 Base        2015   74850       Gasoline   \n",
       "\n",
       "                                              engine  \\\n",
       "0       172.0HP 1.6L 4 Cylinder Engine Gasoline Fuel   \n",
       "1       252.0HP 3.9L 8 Cylinder Engine Gasoline Fuel   \n",
       "2  320.0HP 5.3L 8 Cylinder Engine Flex Fuel Capab...   \n",
       "3       420.0HP 5.0L 8 Cylinder Engine Gasoline Fuel   \n",
       "4       208.0HP 2.0L 4 Cylinder Engine Gasoline Fuel   \n",
       "5       252.0HP 2.0L 4 Cylinder Engine Gasoline Fuel   \n",
       "6      333.0HP 3.0L V6 Cylinder Engine Gasoline Fuel   \n",
       "7  355.0HP 5.3L 8 Cylinder Engine Flex Fuel Capab...   \n",
       "8                    2.7L V6 24V PDI DOHC Twin Turbo   \n",
       "9  425.0HP 3.0L Straight 6 Cylinder Engine Gasoli...   \n",
       "\n",
       "                     transmission                         ext_col int_col  \\\n",
       "0                             A/T                          Yellow    Gray   \n",
       "1                             A/T                          Silver   Beige   \n",
       "2                             A/T                            Blue    Gray   \n",
       "3  Transmission w/Dual Shift Mode                           Black   Black   \n",
       "4                     7-Speed A/T                           Black   Beige   \n",
       "5                             A/T                           White       –   \n",
       "6                     8-Speed A/T                           Black   Black   \n",
       "7                             A/T                           White    Gray   \n",
       "8              10-Speed Automatic  Snowflake White Pearl Metallic   Black   \n",
       "9  Transmission w/Dual Shift Mode                           Black    Blue   \n",
       "\n",
       "                                 accident clean_title  price  \n",
       "0                           None reported         Yes   4200  \n",
       "1  At least 1 accident or damage reported         Yes   4999  \n",
       "2                           None reported         Yes  13900  \n",
       "3                           None reported         Yes  45000  \n",
       "4                           None reported         Yes  97500  \n",
       "5                           None reported         Yes  29950  \n",
       "6                           None reported         Yes  28500  \n",
       "7                           None reported         Yes  12500  \n",
       "8                           None reported         Yes  62890  \n",
       "9                           None reported         Yes   4000  "
      ]
     },
     "execution_count": 3,
     "metadata": {},
     "output_type": "execute_result"
    }
   ],
   "source": [
    "df.head(10)"
   ]
  },
  {
   "cell_type": "code",
   "execution_count": 4,
   "metadata": {},
   "outputs": [],
   "source": [
    "df.drop(columns=\"id\",inplace=True)"
   ]
  },
  {
   "cell_type": "code",
   "execution_count": 5,
   "metadata": {},
   "outputs": [
    {
     "data": {
      "text/plain": [
       "(188533, 12)"
      ]
     },
     "execution_count": 5,
     "metadata": {},
     "output_type": "execute_result"
    }
   ],
   "source": [
    "df.shape"
   ]
  },
  {
   "cell_type": "code",
   "execution_count": 6,
   "metadata": {},
   "outputs": [
    {
     "data": {
      "text/html": [
       "<div>\n",
       "<style scoped>\n",
       "    .dataframe tbody tr th:only-of-type {\n",
       "        vertical-align: middle;\n",
       "    }\n",
       "\n",
       "    .dataframe tbody tr th {\n",
       "        vertical-align: top;\n",
       "    }\n",
       "\n",
       "    .dataframe thead th {\n",
       "        text-align: right;\n",
       "    }\n",
       "</style>\n",
       "<table border=\"1\" class=\"dataframe\">\n",
       "  <thead>\n",
       "    <tr style=\"text-align: right;\">\n",
       "      <th></th>\n",
       "      <th>model_year</th>\n",
       "      <th>milage</th>\n",
       "      <th>price</th>\n",
       "    </tr>\n",
       "  </thead>\n",
       "  <tbody>\n",
       "    <tr>\n",
       "      <th>count</th>\n",
       "      <td>188533.000000</td>\n",
       "      <td>188533.000000</td>\n",
       "      <td>1.885330e+05</td>\n",
       "    </tr>\n",
       "    <tr>\n",
       "      <th>mean</th>\n",
       "      <td>2015.829998</td>\n",
       "      <td>65705.295174</td>\n",
       "      <td>4.387802e+04</td>\n",
       "    </tr>\n",
       "    <tr>\n",
       "      <th>std</th>\n",
       "      <td>5.660967</td>\n",
       "      <td>49798.158076</td>\n",
       "      <td>7.881952e+04</td>\n",
       "    </tr>\n",
       "    <tr>\n",
       "      <th>min</th>\n",
       "      <td>1974.000000</td>\n",
       "      <td>100.000000</td>\n",
       "      <td>2.000000e+03</td>\n",
       "    </tr>\n",
       "    <tr>\n",
       "      <th>25%</th>\n",
       "      <td>2013.000000</td>\n",
       "      <td>24115.000000</td>\n",
       "      <td>1.700000e+04</td>\n",
       "    </tr>\n",
       "    <tr>\n",
       "      <th>50%</th>\n",
       "      <td>2017.000000</td>\n",
       "      <td>57785.000000</td>\n",
       "      <td>3.082500e+04</td>\n",
       "    </tr>\n",
       "    <tr>\n",
       "      <th>75%</th>\n",
       "      <td>2020.000000</td>\n",
       "      <td>95400.000000</td>\n",
       "      <td>4.990000e+04</td>\n",
       "    </tr>\n",
       "    <tr>\n",
       "      <th>max</th>\n",
       "      <td>2024.000000</td>\n",
       "      <td>405000.000000</td>\n",
       "      <td>2.954083e+06</td>\n",
       "    </tr>\n",
       "  </tbody>\n",
       "</table>\n",
       "</div>"
      ],
      "text/plain": [
       "          model_year         milage         price\n",
       "count  188533.000000  188533.000000  1.885330e+05\n",
       "mean     2015.829998   65705.295174  4.387802e+04\n",
       "std         5.660967   49798.158076  7.881952e+04\n",
       "min      1974.000000     100.000000  2.000000e+03\n",
       "25%      2013.000000   24115.000000  1.700000e+04\n",
       "50%      2017.000000   57785.000000  3.082500e+04\n",
       "75%      2020.000000   95400.000000  4.990000e+04\n",
       "max      2024.000000  405000.000000  2.954083e+06"
      ]
     },
     "execution_count": 6,
     "metadata": {},
     "output_type": "execute_result"
    }
   ],
   "source": [
    "df.describe()"
   ]
  },
  {
   "cell_type": "code",
   "execution_count": 7,
   "metadata": {},
   "outputs": [
    {
     "data": {
      "text/plain": [
       "brand           object\n",
       "model           object\n",
       "model_year       int64\n",
       "milage           int64\n",
       "fuel_type       object\n",
       "engine          object\n",
       "transmission    object\n",
       "ext_col         object\n",
       "int_col         object\n",
       "accident        object\n",
       "clean_title     object\n",
       "price            int64\n",
       "dtype: object"
      ]
     },
     "execution_count": 7,
     "metadata": {},
     "output_type": "execute_result"
    }
   ],
   "source": [
    "df.dtypes"
   ]
  },
  {
   "cell_type": "code",
   "execution_count": 8,
   "metadata": {},
   "outputs": [
    {
     "data": {
      "text/plain": [
       "clean_title    21419\n",
       "fuel_type       5083\n",
       "accident        2452\n",
       "dtype: int64"
      ]
     },
     "execution_count": 8,
     "metadata": {},
     "output_type": "execute_result"
    }
   ],
   "source": [
    "df.isna().sum()[df.isna().sum()>0].sort_values(ascending=False)"
   ]
  },
  {
   "cell_type": "code",
   "execution_count": 9,
   "metadata": {},
   "outputs": [
    {
     "data": {
      "text/plain": [
       "57"
      ]
     },
     "execution_count": 9,
     "metadata": {},
     "output_type": "execute_result"
    }
   ],
   "source": [
    "df[\"brand\"].nunique()"
   ]
  },
  {
   "cell_type": "code",
   "execution_count": 10,
   "metadata": {},
   "outputs": [
    {
     "data": {
      "text/plain": [
       "7"
      ]
     },
     "execution_count": 10,
     "metadata": {},
     "output_type": "execute_result"
    }
   ],
   "source": [
    "df[\"fuel_type\"].nunique()"
   ]
  },
  {
   "cell_type": "code",
   "execution_count": 11,
   "metadata": {},
   "outputs": [
    {
     "data": {
      "text/plain": [
       "fuel_type\n",
       "Gasoline          165940\n",
       "Hybrid              6832\n",
       "E85 Flex Fuel       5406\n",
       "Diesel              3955\n",
       "–                    781\n",
       "Plug-In Hybrid       521\n",
       "not supported         15\n",
       "Name: count, dtype: int64"
      ]
     },
     "execution_count": 11,
     "metadata": {},
     "output_type": "execute_result"
    }
   ],
   "source": [
    "df[\"fuel_type\"].value_counts()"
   ]
  },
  {
   "cell_type": "code",
   "execution_count": 12,
   "metadata": {},
   "outputs": [
    {
     "data": {
      "text/html": [
       "<div>\n",
       "<style scoped>\n",
       "    .dataframe tbody tr th:only-of-type {\n",
       "        vertical-align: middle;\n",
       "    }\n",
       "\n",
       "    .dataframe tbody tr th {\n",
       "        vertical-align: top;\n",
       "    }\n",
       "\n",
       "    .dataframe thead th {\n",
       "        text-align: right;\n",
       "    }\n",
       "</style>\n",
       "<table border=\"1\" class=\"dataframe\">\n",
       "  <thead>\n",
       "    <tr style=\"text-align: right;\">\n",
       "      <th></th>\n",
       "      <th>brand</th>\n",
       "      <th>model</th>\n",
       "      <th>model_year</th>\n",
       "      <th>milage</th>\n",
       "      <th>fuel_type</th>\n",
       "      <th>engine</th>\n",
       "      <th>transmission</th>\n",
       "      <th>ext_col</th>\n",
       "      <th>int_col</th>\n",
       "      <th>accident</th>\n",
       "      <th>clean_title</th>\n",
       "      <th>price</th>\n",
       "    </tr>\n",
       "  </thead>\n",
       "  <tbody>\n",
       "    <tr>\n",
       "      <th>532</th>\n",
       "      <td>Dodge</td>\n",
       "      <td>Challenger R/T Scat Pack</td>\n",
       "      <td>2021</td>\n",
       "      <td>35000</td>\n",
       "      <td>–</td>\n",
       "      <td>–</td>\n",
       "      <td>8-Speed A/T</td>\n",
       "      <td>Blue</td>\n",
       "      <td>Gray</td>\n",
       "      <td>None reported</td>\n",
       "      <td>Yes</td>\n",
       "      <td>48000</td>\n",
       "    </tr>\n",
       "    <tr>\n",
       "      <th>1155</th>\n",
       "      <td>Ford</td>\n",
       "      <td>Mustang GT Premium</td>\n",
       "      <td>2017</td>\n",
       "      <td>143600</td>\n",
       "      <td>–</td>\n",
       "      <td>–</td>\n",
       "      <td>6-Speed M/T</td>\n",
       "      <td>White</td>\n",
       "      <td>Black</td>\n",
       "      <td>At least 1 accident or damage reported</td>\n",
       "      <td>Yes</td>\n",
       "      <td>31000</td>\n",
       "    </tr>\n",
       "    <tr>\n",
       "      <th>1307</th>\n",
       "      <td>Toyota</td>\n",
       "      <td>Land Cruiser Base</td>\n",
       "      <td>1994</td>\n",
       "      <td>138033</td>\n",
       "      <td>–</td>\n",
       "      <td>–</td>\n",
       "      <td>A/T</td>\n",
       "      <td>Green</td>\n",
       "      <td>Beige</td>\n",
       "      <td>None reported</td>\n",
       "      <td>Yes</td>\n",
       "      <td>11999</td>\n",
       "    </tr>\n",
       "    <tr>\n",
       "      <th>1362</th>\n",
       "      <td>Ford</td>\n",
       "      <td>Mustang EcoBoost Premium</td>\n",
       "      <td>2016</td>\n",
       "      <td>43000</td>\n",
       "      <td>–</td>\n",
       "      <td>–</td>\n",
       "      <td>A/T</td>\n",
       "      <td>Blue</td>\n",
       "      <td>Black</td>\n",
       "      <td>None reported</td>\n",
       "      <td>Yes</td>\n",
       "      <td>15500</td>\n",
       "    </tr>\n",
       "    <tr>\n",
       "      <th>1741</th>\n",
       "      <td>Chevrolet</td>\n",
       "      <td>Protege DX</td>\n",
       "      <td>1993</td>\n",
       "      <td>94200</td>\n",
       "      <td>–</td>\n",
       "      <td>–</td>\n",
       "      <td>A/T</td>\n",
       "      <td>Red</td>\n",
       "      <td>Gray</td>\n",
       "      <td>None reported</td>\n",
       "      <td>Yes</td>\n",
       "      <td>7599</td>\n",
       "    </tr>\n",
       "    <tr>\n",
       "      <th>...</th>\n",
       "      <td>...</td>\n",
       "      <td>...</td>\n",
       "      <td>...</td>\n",
       "      <td>...</td>\n",
       "      <td>...</td>\n",
       "      <td>...</td>\n",
       "      <td>...</td>\n",
       "      <td>...</td>\n",
       "      <td>...</td>\n",
       "      <td>...</td>\n",
       "      <td>...</td>\n",
       "      <td>...</td>\n",
       "    </tr>\n",
       "    <tr>\n",
       "      <th>187399</th>\n",
       "      <td>Mazda</td>\n",
       "      <td>MX-5 Miata Base</td>\n",
       "      <td>1993</td>\n",
       "      <td>90200</td>\n",
       "      <td>–</td>\n",
       "      <td>–</td>\n",
       "      <td>5-Speed M/T</td>\n",
       "      <td>Gray</td>\n",
       "      <td>Black</td>\n",
       "      <td>At least 1 accident or damage reported</td>\n",
       "      <td>Yes</td>\n",
       "      <td>11500</td>\n",
       "    </tr>\n",
       "    <tr>\n",
       "      <th>187495</th>\n",
       "      <td>Nissan</td>\n",
       "      <td>Pathfinder SL</td>\n",
       "      <td>2014</td>\n",
       "      <td>87305</td>\n",
       "      <td>–</td>\n",
       "      <td>284.0HP 3.5L V6 Cylinder Engine Gasoline Fuel</td>\n",
       "      <td>A/T</td>\n",
       "      <td>Brown</td>\n",
       "      <td>Gray</td>\n",
       "      <td>At least 1 accident or damage reported</td>\n",
       "      <td>Yes</td>\n",
       "      <td>10000</td>\n",
       "    </tr>\n",
       "    <tr>\n",
       "      <th>187664</th>\n",
       "      <td>Mercedes-Benz</td>\n",
       "      <td>SLS AMG Base</td>\n",
       "      <td>1993</td>\n",
       "      <td>14586</td>\n",
       "      <td>–</td>\n",
       "      <td>–</td>\n",
       "      <td>A/T</td>\n",
       "      <td>Red</td>\n",
       "      <td>Silver</td>\n",
       "      <td>None reported</td>\n",
       "      <td>Yes</td>\n",
       "      <td>65000</td>\n",
       "    </tr>\n",
       "    <tr>\n",
       "      <th>187820</th>\n",
       "      <td>Chrysler</td>\n",
       "      <td>Pacifica Touring</td>\n",
       "      <td>2017</td>\n",
       "      <td>57300</td>\n",
       "      <td>–</td>\n",
       "      <td>–</td>\n",
       "      <td>9-Speed A/T</td>\n",
       "      <td>Blue</td>\n",
       "      <td>Black</td>\n",
       "      <td>None reported</td>\n",
       "      <td>Yes</td>\n",
       "      <td>31700</td>\n",
       "    </tr>\n",
       "    <tr>\n",
       "      <th>188189</th>\n",
       "      <td>Chrysler</td>\n",
       "      <td>300 Touring</td>\n",
       "      <td>1994</td>\n",
       "      <td>79785</td>\n",
       "      <td>–</td>\n",
       "      <td>–</td>\n",
       "      <td>A/T</td>\n",
       "      <td>Green</td>\n",
       "      <td>Beige</td>\n",
       "      <td>At least 1 accident or damage reported</td>\n",
       "      <td>Yes</td>\n",
       "      <td>9499</td>\n",
       "    </tr>\n",
       "  </tbody>\n",
       "</table>\n",
       "<p>781 rows × 12 columns</p>\n",
       "</div>"
      ],
      "text/plain": [
       "                brand                     model  model_year  milage fuel_type  \\\n",
       "532             Dodge  Challenger R/T Scat Pack        2021   35000         –   \n",
       "1155             Ford        Mustang GT Premium        2017  143600         –   \n",
       "1307           Toyota         Land Cruiser Base        1994  138033         –   \n",
       "1362             Ford  Mustang EcoBoost Premium        2016   43000         –   \n",
       "1741        Chevrolet                Protege DX        1993   94200         –   \n",
       "...               ...                       ...         ...     ...       ...   \n",
       "187399          Mazda           MX-5 Miata Base        1993   90200         –   \n",
       "187495         Nissan             Pathfinder SL        2014   87305         –   \n",
       "187664  Mercedes-Benz              SLS AMG Base        1993   14586         –   \n",
       "187820       Chrysler          Pacifica Touring        2017   57300         –   \n",
       "188189       Chrysler               300 Touring        1994   79785         –   \n",
       "\n",
       "                                               engine transmission ext_col  \\\n",
       "532                                                 –  8-Speed A/T    Blue   \n",
       "1155                                                –  6-Speed M/T   White   \n",
       "1307                                                –          A/T   Green   \n",
       "1362                                                –          A/T    Blue   \n",
       "1741                                                –          A/T     Red   \n",
       "...                                               ...          ...     ...   \n",
       "187399                                              –  5-Speed M/T    Gray   \n",
       "187495  284.0HP 3.5L V6 Cylinder Engine Gasoline Fuel          A/T   Brown   \n",
       "187664                                              –          A/T     Red   \n",
       "187820                                              –  9-Speed A/T    Blue   \n",
       "188189                                              –          A/T   Green   \n",
       "\n",
       "       int_col                                accident clean_title  price  \n",
       "532       Gray                           None reported         Yes  48000  \n",
       "1155     Black  At least 1 accident or damage reported         Yes  31000  \n",
       "1307     Beige                           None reported         Yes  11999  \n",
       "1362     Black                           None reported         Yes  15500  \n",
       "1741      Gray                           None reported         Yes   7599  \n",
       "...        ...                                     ...         ...    ...  \n",
       "187399   Black  At least 1 accident or damage reported         Yes  11500  \n",
       "187495    Gray  At least 1 accident or damage reported         Yes  10000  \n",
       "187664  Silver                           None reported         Yes  65000  \n",
       "187820   Black                           None reported         Yes  31700  \n",
       "188189   Beige  At least 1 accident or damage reported         Yes   9499  \n",
       "\n",
       "[781 rows x 12 columns]"
      ]
     },
     "execution_count": 12,
     "metadata": {},
     "output_type": "execute_result"
    }
   ],
   "source": [
    "df.loc[(df[\"fuel_type\"]== \"–\"),:]"
   ]
  },
  {
   "cell_type": "code",
   "execution_count": 13,
   "metadata": {},
   "outputs": [
    {
     "data": {
      "text/html": [
       "<div>\n",
       "<style scoped>\n",
       "    .dataframe tbody tr th:only-of-type {\n",
       "        vertical-align: middle;\n",
       "    }\n",
       "\n",
       "    .dataframe tbody tr th {\n",
       "        vertical-align: top;\n",
       "    }\n",
       "\n",
       "    .dataframe thead th {\n",
       "        text-align: right;\n",
       "    }\n",
       "</style>\n",
       "<table border=\"1\" class=\"dataframe\">\n",
       "  <thead>\n",
       "    <tr style=\"text-align: right;\">\n",
       "      <th></th>\n",
       "      <th>brand</th>\n",
       "      <th>model</th>\n",
       "      <th>model_year</th>\n",
       "      <th>milage</th>\n",
       "      <th>fuel_type</th>\n",
       "      <th>engine</th>\n",
       "      <th>transmission</th>\n",
       "      <th>ext_col</th>\n",
       "      <th>int_col</th>\n",
       "      <th>accident</th>\n",
       "      <th>clean_title</th>\n",
       "      <th>price</th>\n",
       "    </tr>\n",
       "  </thead>\n",
       "  <tbody>\n",
       "    <tr>\n",
       "      <th>2138</th>\n",
       "      <td>Saturn</td>\n",
       "      <td>Sky Base</td>\n",
       "      <td>2008</td>\n",
       "      <td>125800</td>\n",
       "      <td>–</td>\n",
       "      <td>140.0HP 1.8L 4 Cylinder Engine Gasoline Fuel</td>\n",
       "      <td>A/T</td>\n",
       "      <td>Blue</td>\n",
       "      <td>Black</td>\n",
       "      <td>None reported</td>\n",
       "      <td>Yes</td>\n",
       "      <td>9950</td>\n",
       "    </tr>\n",
       "    <tr>\n",
       "      <th>2741</th>\n",
       "      <td>Bentley</td>\n",
       "      <td>Continental GT W12</td>\n",
       "      <td>2022</td>\n",
       "      <td>13232</td>\n",
       "      <td>–</td>\n",
       "      <td>582.0HP 6.0L 12 Cylinder Engine Gasoline Fuel</td>\n",
       "      <td>8-Speed A/T</td>\n",
       "      <td>White</td>\n",
       "      <td>Black</td>\n",
       "      <td>None reported</td>\n",
       "      <td>Yes</td>\n",
       "      <td>52000</td>\n",
       "    </tr>\n",
       "    <tr>\n",
       "      <th>8607</th>\n",
       "      <td>Ford</td>\n",
       "      <td>Excursion XLT 4WD</td>\n",
       "      <td>2000</td>\n",
       "      <td>93000</td>\n",
       "      <td>–</td>\n",
       "      <td>310.0HP 6.8L 10 Cylinder Engine Gasoline Fuel</td>\n",
       "      <td>A/T</td>\n",
       "      <td>Silver</td>\n",
       "      <td>Black</td>\n",
       "      <td>At least 1 accident or damage reported</td>\n",
       "      <td>Yes</td>\n",
       "      <td>28500</td>\n",
       "    </tr>\n",
       "    <tr>\n",
       "      <th>15550</th>\n",
       "      <td>RAM</td>\n",
       "      <td>1500 Rebel</td>\n",
       "      <td>2018</td>\n",
       "      <td>11000</td>\n",
       "      <td>–</td>\n",
       "      <td>395.0HP 5.7L 8 Cylinder Engine Gasoline/Mild E...</td>\n",
       "      <td>A/T</td>\n",
       "      <td>White</td>\n",
       "      <td>Black</td>\n",
       "      <td>None reported</td>\n",
       "      <td>Yes</td>\n",
       "      <td>105000</td>\n",
       "    </tr>\n",
       "    <tr>\n",
       "      <th>23676</th>\n",
       "      <td>Nissan</td>\n",
       "      <td>Juke SL</td>\n",
       "      <td>2019</td>\n",
       "      <td>46000</td>\n",
       "      <td>–</td>\n",
       "      <td>188.0HP 1.6L 4 Cylinder Engine Gasoline Fuel</td>\n",
       "      <td>CVT Transmission</td>\n",
       "      <td>White</td>\n",
       "      <td>Gray</td>\n",
       "      <td>At least 1 accident or damage reported</td>\n",
       "      <td>Yes</td>\n",
       "      <td>59000</td>\n",
       "    </tr>\n",
       "    <tr>\n",
       "      <th>105015</th>\n",
       "      <td>Toyota</td>\n",
       "      <td>Tacoma TRD Pro</td>\n",
       "      <td>2018</td>\n",
       "      <td>31678</td>\n",
       "      <td>–</td>\n",
       "      <td>3.5 Liter</td>\n",
       "      <td>Automatic</td>\n",
       "      <td>Midnight Black Metallic</td>\n",
       "      <td>Graphite w/Gun Metal</td>\n",
       "      <td>None reported</td>\n",
       "      <td>NaN</td>\n",
       "      <td>40998</td>\n",
       "    </tr>\n",
       "    <tr>\n",
       "      <th>112813</th>\n",
       "      <td>RAM</td>\n",
       "      <td>1500 Classic Tradesman</td>\n",
       "      <td>2017</td>\n",
       "      <td>133338</td>\n",
       "      <td>–</td>\n",
       "      <td>3.6L V6 24V MPFI DOHC</td>\n",
       "      <td>8-Speed Automatic</td>\n",
       "      <td>Ruby Flare Pearl</td>\n",
       "      <td>Black</td>\n",
       "      <td>At least 1 accident or damage reported</td>\n",
       "      <td>Yes</td>\n",
       "      <td>45999</td>\n",
       "    </tr>\n",
       "    <tr>\n",
       "      <th>128224</th>\n",
       "      <td>BMW</td>\n",
       "      <td>M3 Base</td>\n",
       "      <td>2008</td>\n",
       "      <td>58000</td>\n",
       "      <td>–</td>\n",
       "      <td>333.0HP 3.2L Straight 6 Cylinder Engine Gasoli...</td>\n",
       "      <td>6-Speed M/T</td>\n",
       "      <td>White</td>\n",
       "      <td>Black</td>\n",
       "      <td>At least 1 accident or damage reported</td>\n",
       "      <td>Yes</td>\n",
       "      <td>41500</td>\n",
       "    </tr>\n",
       "    <tr>\n",
       "      <th>187495</th>\n",
       "      <td>Nissan</td>\n",
       "      <td>Pathfinder SL</td>\n",
       "      <td>2014</td>\n",
       "      <td>87305</td>\n",
       "      <td>–</td>\n",
       "      <td>284.0HP 3.5L V6 Cylinder Engine Gasoline Fuel</td>\n",
       "      <td>A/T</td>\n",
       "      <td>Brown</td>\n",
       "      <td>Gray</td>\n",
       "      <td>At least 1 accident or damage reported</td>\n",
       "      <td>Yes</td>\n",
       "      <td>10000</td>\n",
       "    </tr>\n",
       "  </tbody>\n",
       "</table>\n",
       "</div>"
      ],
      "text/plain": [
       "          brand                   model  model_year  milage fuel_type  \\\n",
       "2138     Saturn                Sky Base        2008  125800         –   \n",
       "2741    Bentley      Continental GT W12        2022   13232         –   \n",
       "8607       Ford       Excursion XLT 4WD        2000   93000         –   \n",
       "15550       RAM              1500 Rebel        2018   11000         –   \n",
       "23676    Nissan                 Juke SL        2019   46000         –   \n",
       "105015   Toyota          Tacoma TRD Pro        2018   31678         –   \n",
       "112813      RAM  1500 Classic Tradesman        2017  133338         –   \n",
       "128224      BMW                 M3 Base        2008   58000         –   \n",
       "187495   Nissan           Pathfinder SL        2014   87305         –   \n",
       "\n",
       "                                                   engine       transmission  \\\n",
       "2138         140.0HP 1.8L 4 Cylinder Engine Gasoline Fuel                A/T   \n",
       "2741        582.0HP 6.0L 12 Cylinder Engine Gasoline Fuel        8-Speed A/T   \n",
       "8607        310.0HP 6.8L 10 Cylinder Engine Gasoline Fuel                A/T   \n",
       "15550   395.0HP 5.7L 8 Cylinder Engine Gasoline/Mild E...                A/T   \n",
       "23676        188.0HP 1.6L 4 Cylinder Engine Gasoline Fuel   CVT Transmission   \n",
       "105015                                          3.5 Liter          Automatic   \n",
       "112813                              3.6L V6 24V MPFI DOHC  8-Speed Automatic   \n",
       "128224  333.0HP 3.2L Straight 6 Cylinder Engine Gasoli...        6-Speed M/T   \n",
       "187495      284.0HP 3.5L V6 Cylinder Engine Gasoline Fuel                A/T   \n",
       "\n",
       "                        ext_col               int_col  \\\n",
       "2138                       Blue                 Black   \n",
       "2741                      White                 Black   \n",
       "8607                     Silver                 Black   \n",
       "15550                     White                 Black   \n",
       "23676                     White                  Gray   \n",
       "105015  Midnight Black Metallic  Graphite w/Gun Metal   \n",
       "112813         Ruby Flare Pearl                 Black   \n",
       "128224                    White                 Black   \n",
       "187495                    Brown                  Gray   \n",
       "\n",
       "                                      accident clean_title   price  \n",
       "2138                             None reported         Yes    9950  \n",
       "2741                             None reported         Yes   52000  \n",
       "8607    At least 1 accident or damage reported         Yes   28500  \n",
       "15550                            None reported         Yes  105000  \n",
       "23676   At least 1 accident or damage reported         Yes   59000  \n",
       "105015                           None reported         NaN   40998  \n",
       "112813  At least 1 accident or damage reported         Yes   45999  \n",
       "128224  At least 1 accident or damage reported         Yes   41500  \n",
       "187495  At least 1 accident or damage reported         Yes   10000  "
      ]
     },
     "execution_count": 13,
     "metadata": {},
     "output_type": "execute_result"
    }
   ],
   "source": [
    "df.loc[(df[\"fuel_type\"]== \"–\")&(df[\"engine\"]!= \"–\"),:]"
   ]
  },
  {
   "cell_type": "code",
   "execution_count": 14,
   "metadata": {},
   "outputs": [
    {
     "data": {
      "text/plain": [
       "1117"
      ]
     },
     "execution_count": 14,
     "metadata": {},
     "output_type": "execute_result"
    }
   ],
   "source": [
    "df[\"engine\"].nunique()"
   ]
  },
  {
   "cell_type": "markdown",
   "metadata": {},
   "source": [
    "Extracting horsepower from the engine column."
   ]
  },
  {
   "cell_type": "code",
   "execution_count": 15,
   "metadata": {},
   "outputs": [],
   "source": [
    "engine_split = df[\"engine\"].str.split(\"HP\",expand=True)"
   ]
  },
  {
   "cell_type": "code",
   "execution_count": 16,
   "metadata": {},
   "outputs": [
    {
     "data": {
      "text/plain": [
       "array(['172.0', '252.0', '320.0', '420.0', '208.0', '333.0', '355.0',\n",
       "       '2.7L V6 24V PDI DOHC Twin Turbo', '425.0', '312.0',\n",
       "       'Electric Motor Electric Fuel System', '523.0', '503.0', '395.0',\n",
       "       '310.0', '469.0', '5.2L V10 40V PDI DOHC', '429.0', '210.0',\n",
       "       '335.0', '316.0', '381.0', '450.0', '236.0', '211.0', '220.0',\n",
       "       '255.0', '518.0', '268.0', '174.0', '240.0', '248.0', '563.0',\n",
       "       '241.0', '3.6L V6 24V GDI DOHC', '230.0', '430.0',\n",
       "       '4.0L V8 32V GDI DOHC Twin Turbo', '835.0', '5.7L V8 16V MPFI OHV',\n",
       "       '300.0', '280.0', '295.0', 'Dual Motor - Standard', '348.0',\n",
       "       '560.0', '285.0', '302.0', '3.0L V6 24V GDI DOHC Twin Turbo',\n",
       "       '490.0', '200.0', '416.0', '179.0',\n",
       "       '3.8L V8 32V MPFI DOHC Twin Turbo',\n",
       "       '3.4L V6 24V PDI DOHC Twin Turbo Hybrid', '385.0', '160.0',\n",
       "       '270.0', '3.5L V6 24V PDI DOHC Twin Turbo', '350.0', '190.0',\n",
       "       '181.0', '2.0L I4 16V PDI DOHC Turbo', '265.0', '345.0', '400.0',\n",
       "       '261.0', '536.0', '402.0', '382.0', '180.0', '617.0',\n",
       "       '2.4L I4 16V GDI DOHC', '173.0', '389.0', '318.0',\n",
       "       '2.0 Liter DOHC Turbo', '3.6L V6 24V MPFI DOHC', '325.0', '365.0',\n",
       "       '340.0', '235.0', '169.0', '6.0L V8 16V MPFI OHV Flexible Fuel',\n",
       "       '710.0', '225.0', '2.0L I4 16V GDI DOHC Turbo',\n",
       "       '2.3L I4 16V GDI DOHC Turbo', '366.0', '284.0', '260.0', '670.0',\n",
       "       '480.0', '440.0', '301.0', '380.0', '616.0', 'Electric', '317.0',\n",
       "       '435.0', '305.0', '471.0', '443.0', '5.3L V8 16V GDI OHV', '328.0',\n",
       "       '550.0', '201.0', '276.0', '582.0', '290.0', '362.0', '2.0 Liter',\n",
       "       '184.0', '3.0L V6 24V GDI DOHC Turbo', '120.0', '275.0', '510.0',\n",
       "       '3.8L V6 24V GDI DOHC', '414.0', '3.8L H6 24V GDI DOHC Twin Turbo',\n",
       "       '375.0', '2.0 Liter Turbo', '455.0', '520.0', '306.0', '292.0',\n",
       "       '403.0', '454.0', '3.0 Liter Turbo', '496.0', '166.0', '288.0',\n",
       "       '2.0 Liter TFSI', '640.0', '293.0', '147.0', '3.5 Liter',\n",
       "       '2.5L H4 16V MPFI DOHC', '4.4L V8 32V GDI DOHC Twin Turbo',\n",
       "       '263.0', '170.0', '577.0', '449.0', '296.0', '291.0', '467.0',\n",
       "       '354.0', '283.0', '5.6 Liter', '603.0', '4.6L V8 32V MPFI DOHC',\n",
       "       '386.0', '264.0', '204.0', '4.0L V8 32V MPFI DOHC Twin Turbo',\n",
       "       '215.0', '2.5L I4 16V GDI DOHC', '412.0', '150.0', '453.0',\n",
       "       '140.0', '3.6L V6 24V MPFI DOHC Hybrid', '707.0', '242.0', '445.0',\n",
       "       '2.0L I4 16V GDI SOHC Turbo', '1.5L I3 12V PDI DOHC Turbo',\n",
       "       '410.0', '5.0L V8 32V GDI DOHC Supercharged', '500.0', '5.0 Liter',\n",
       "       '188.0', '557.0', '142.0', '199.0', '315.0',\n",
       "       '4.0L H6 24V GDI DOHC', '282.0', '247.0', '6.3L V12 48V GDI DOHC',\n",
       "       '182.0', '6.7L I6 24V DDI OHV Turbo Diesel', '605.0',\n",
       "       '3.4L H6 24V MPFI DOHC', '161.0', '475.0', '202.0', '349.0',\n",
       "       '152.0', '2.7L V6 24V GDI DOHC Twin Turbo', '228.0', '154.0',\n",
       "       '383.0', '526.0', '760.0', '630.0', '212.0', '–', '3.6 Liter DOHC',\n",
       "       '287.0', '717.0', '521.0', '232.0', '3.6 Liter SIDI DOHC',\n",
       "       '2.0L I4 16V GDI DOHC Turbo Hybrid', '444.0',\n",
       "       '5.0L V8 32V PDI DOHC', '3.0L H6 24V GDI DOHC Twin Turbo', '641.0',\n",
       "       '308.0', '3.5L V6 24V PDI DOHC', '175.0', '542.0', '463.0',\n",
       "       '130.0', '6.4L V8 16V MPFI OHV', '405.0', '460.0', '330.0',\n",
       "       '227.0', '3.6L V6 24V MPFI DOHC Flexible Fuel', '321.0',\n",
       "       '6.7L V12 48V GDI DOHC Twin Turbo', '153.0',\n",
       "       '3.4L V6 24V PDI DOHC Twin Turbo', '4.0 Liter Twin Turbo', '379.0',\n",
       "       '424.0', '329.0', '189.0', '485.0', '3.8L H6 24V MPFI DOHC',\n",
       "       '214.0', '390.0', 'Intercooled Turbo Diesel V-8 6.7 L/406',\n",
       "       '218.0', '311.0', '115.0', '158.0', '778.0', '155.0',\n",
       "       '2.5L I4 16V PDI DOHC Turbo', '360.0', '239.0', '4.0 Liter TFSI',\n",
       "       '591.0', '3.3L V6 24V GDI DOHC', '3.6 Liter',\n",
       "       '2.5L I4 16V GDI DOHC Turbo', '271.0', '272.0', '3.5 Liter DOHC',\n",
       "       '332.0', '4.7L 8 Cylinder Engine Gasoline Fuel',\n",
       "       '5.7L V8 32V MPFI DOHC', '303.0', '3.0 Liter DOHC Twin Turbo',\n",
       "       '601.0', '562.0', '133.0', '224.0', '2.0L I4 16V GDI DOHC',\n",
       "       '2.0L I4 16V MPFI DOHC', '411.0', '273.0',\n",
       "       '3.0L I6 24V DDI DOHC Turbo Diesel', '482.0',\n",
       "       '2.5L I4 16V PDI DOHC', '6.2L V8 16V GDI OHV',\n",
       "       '3.0L I6 24V GDI DOHC Turbo', '3.5L V6 24V GDI SOHC', '187.0',\n",
       "       '580.0', '191.0', '245.0', '195.0', '5.6L V8 32V GDI DOHC',\n",
       "       '3.5L V6 24V MPFI DOHC', '217.0', '2.5L H4 16V GDI DOHC', '206.0',\n",
       "       '397.0', '278.0', '6.4 Liter', '256.0', '456.0', 'V6', '138.0',\n",
       "       '3.0 Liter', '409.0', '134.0', '3.5L V6 24V PDI DOHC Hybrid',\n",
       "       '6.0L V8 16V MPFI OHV', '473.0', '2.4L I4 16V MPFI DOHC',\n",
       "       '2.0L I4 16V GDI DOHC Turbo Flexible Fuel', '437.0',\n",
       "       '5.2L V10 40V GDI DOHC', '540.0', '176.0', '610.0',\n",
       "       '1.3L I3 12V GDI DOHC Turbo', '266.0', '650.0',\n",
       "       '2.0L I4 16V GDI DOHC Hybrid', '600.0', '3.0 Liter TFSI', '451.0',\n",
       "       '148.0', '281.0', '759.0', '6.5L V12 48V MPFI DOHC',\n",
       "       '1.6L I4 16V GDI DOHC Turbo', '369.0', '237.0', '118.0',\n",
       "       '3.5 Liter SOHC', '575.0', '394.0', '136.0',\n",
       "       '3.0 Liter Twin Turbo', '185.0', '5.4 Liter', '3.6L V6 GDI DOHC',\n",
       "       '729.0', '788.0', '323.0', '2.5 Liter', '797.0', '205.0', '534.0',\n",
       "       '378.0', 'Standard Range Battery', '426.0', '502.0', '552.0',\n",
       "       '4.7 Liter Twin Turbo', '156.0', '168.0', '4.6 Liter', '167.0',\n",
       "       '192.0', '250.0', '571.0', '3.5L V6 24V GDI DOHC Twin Turbo',\n",
       "       '6.7L V8 32V DDI OHV Turbo Diesel', '262.0', '505.0', '286.0',\n",
       "       '132.0', '3.5L 24V SOHC I-VTEC V6', '3.2L V6 24V MPFI DOHC',\n",
       "       '1.5L I4 16V GDI DOHC Turbo', '2.5L I4 16V MPFI DOHC', '171.0',\n",
       "       '2.9L V6 24V GDI DOHC Twin Turbo', '2.4 Liter', '2.5L I4 16V',\n",
       "       '104.0', '122.0', '326.0', '808.0', '404.0', '422.0', '401.0',\n",
       "       '4.0 Liter', '3.0 Liter GTDI',\n",
       "       '3.5L V6 24V PDI DOHC Twin Turbo Hybrid', '277.0', '567.0',\n",
       "       '244.0', '353.0', '493.0', '246.0', '304.0', '346.0', '4.4 Liter',\n",
       "       '2.4L H4 16V GDI DOHC Turbo',\n",
       "       '6.0L 8 Cylinder Engine Gasoline Fuel', '470.0',\n",
       "       '6.0L W12 48V PDI DOHC Twin Turbo', '4.4 Liter Twin Turbo',\n",
       "       '1020.0', '12 Cylinder Engine', '70.0', '165.0',\n",
       "       '4.0L V6 24V MPFI DOHC', '602.0', '186.0', '3.2L H6 24V MPFI DOHC',\n",
       "       '258.0', '6.8L V12 48V GDI DOHC Twin Turbo',\n",
       "       '2.4L I4 16V MPFI SOHC',\n",
       "       'Intercooled Turbo Premium Unleaded I-4 2.0 L/122',\n",
       "       '1.3L I3 12V MPFI DOHC Turbo', '4.2L V8 32V GDI DOHC', '572.0',\n",
       "       '525.0', '159.0', '107.0', '197.0', '2.4L I4 16V PDI DOHC Turbo',\n",
       "       '545.0', '6.6L V8 32V DDI OHV Turbo Diesel', '573.0', '231.0',\n",
       "       '5.4 Liter SC DOHC', '6.6L V8 16V GDI OHV', '611.0', '624.0',\n",
       "       '207.0', '2.7 Liter DOHC Turbo', '4.2L V8 32V GDI DOHC Twin Turbo',\n",
       "       '370.0', '298.0', '344.0', '177.0',\n",
       "       '3.0L V6 24V PDI DOHC Twin Turbo', '6.2 Liter', '4.0L',\n",
       "       '1.6L I4 16V GDI DOHC Turbo Hybrid', '1.5L I3 12V GDI DOHC Turbo',\n",
       "       '5.3L V8 16V MPFI OHV Flexible Fuel', '6.6 Liter Twin Turbo',\n",
       "       '2.5L I4 16V MPFI DOHC Hybrid', '702.0', '3.0 Liter SC ULEV',\n",
       "       '3.5L V6 24V GDI DOHC', '203.0', 'I4', '2.5L',\n",
       "       '3.0L I6 24V GDI DOHC Twin Turbo', '565.0',\n",
       "       '2.0 Liter Supercharged', '222.0', '2.0 Liter TSI',\n",
       "       '5.0L 8 Cylinder', '2.0L I4 16V MPFI DOHC Hybrid', '543.0', 'V8',\n",
       "       '6.2L V8 16V MPFI SOHC Flexible Fuel', '2.0 Liter DOHC T/C',\n",
       "       '3.0L V6 24V GDI DOHC Supercharged',\n",
       "       '3.8L V8 32V GDI DOHC Twin Turbo', '143.0', '221.0', '651.0',\n",
       "       '3.8L V6 24V MPFI DOHC Twin Turbo', '660.0', '3.0L', '162.0',\n",
       "       '219.0', '4.0 Liter Turbo', '621.0', '1.2L I3 12V GDI DOHC Turbo',\n",
       "       '691.0', '3.9L V8 32V GDI DOHC Twin Turbo',\n",
       "       '2.7L I4 16V GDI DOHC Turbo', '553.0', '146.0', '198.0',\n",
       "       '5.7 Liter', '1.6L I4 16V MPFI DOHC', '645.0',\n",
       "       '2.5L 4 Cylinder Engine Gasoline Fuel', '279.0', '106.0', '483.0',\n",
       "       '5.2L V12 48V GDI DOHC Twin Turbo',\n",
       "       '8.0L W16 64V GDI DOHC Twin Turbo', '3.0 Liter DOHC Turbo',\n",
       "       '120 AH', '101.0', '417.0', '2.9 Liter Turbo', '109.0',\n",
       "       '1.6L I4 16V GDI DOHC Hybrid', '2.5L I4 16V PDI DOHC Hybrid',\n",
       "       '4.4 Liter DOHC Twin Turbo', '131.0',\n",
       "       '6.2L V8 16V GDI OHV Supercharged', '415.0', '319.0',\n",
       "       '6.8L V12 48V GDI DOHC', '393.0', '324.0', '357.0', '556.0',\n",
       "       'Battery Electric', '137.0', '342.0', '151.0', '294.0', '126.0',\n",
       "       '5.3 Liter', '3.2L V6 18V MPFI SOHC',\n",
       "       '2.0L I4 16V GDI DOHC Flexible Fuel', '145.0',\n",
       "       '3.0L V6 Cylinder Engine Diesel Fuel', '372.0', '5.5 Liter',\n",
       "       '1.8 Liter', '620.0', '243.0', '555.0', '1.5 Liter Turbo', '141.0',\n",
       "       '3.5 Liter GTDI', '363.0', '6.4L V8 32V DDI OHV Twin Turbo Diesel',\n",
       "       '111.2Ah / FR 70kW / RR 160kW (697V)', '253.0', '495.0', '533.0',\n",
       "       '121.0', '5.8L V8 32V MPFI DOHC Supercharged',\n",
       "       '1.4L I4 16V GDI DOHC Turbo', 'Dual AC Electric Motors', '193.0',\n",
       "       '715.0', '341.0', '4.4 Liter GDI DOHC Twin Turbo', '178.0',\n",
       "       '638.0', '226.0', '407.0', '76.0', '6.2L V8 32V MPFI DOHC',\n",
       "       '322.0', '139.0', '1.6L I4 16V GDI DOHC', '164.0', '111.0',\n",
       "       '3.8L V6 12V MPFI OHV', '78.0', '313.0'], dtype=object)"
      ]
     },
     "execution_count": 16,
     "metadata": {},
     "output_type": "execute_result"
    }
   ],
   "source": [
    "engine_split[0].unique()"
   ]
  },
  {
   "cell_type": "code",
   "execution_count": 17,
   "metadata": {},
   "outputs": [],
   "source": [
    "engine_split[0] = engine_split[0].apply(lambda x: x if (len(x)==5)or(len(x)==4) else 0)"
   ]
  },
  {
   "cell_type": "code",
   "execution_count": 18,
   "metadata": {},
   "outputs": [
    {
     "data": {
      "text/plain": [
       "array(['172.0', '252.0', '320.0', '420.0', '208.0', '333.0', '355.0', 0,\n",
       "       '425.0', '312.0', '523.0', '503.0', '395.0', '310.0', '469.0',\n",
       "       '429.0', '210.0', '335.0', '316.0', '381.0', '450.0', '236.0',\n",
       "       '211.0', '220.0', '255.0', '518.0', '268.0', '174.0', '240.0',\n",
       "       '248.0', '563.0', '241.0', '230.0', '430.0', '835.0', '300.0',\n",
       "       '280.0', '295.0', '348.0', '560.0', '285.0', '302.0', '490.0',\n",
       "       '200.0', '416.0', '179.0', '385.0', '160.0', '270.0', '350.0',\n",
       "       '190.0', '181.0', '265.0', '345.0', '400.0', '261.0', '536.0',\n",
       "       '402.0', '382.0', '180.0', '617.0', '173.0', '389.0', '318.0',\n",
       "       '325.0', '365.0', '340.0', '235.0', '169.0', '710.0', '225.0',\n",
       "       '366.0', '284.0', '260.0', '670.0', '480.0', '440.0', '301.0',\n",
       "       '380.0', '616.0', '317.0', '435.0', '305.0', '471.0', '443.0',\n",
       "       '328.0', '550.0', '201.0', '276.0', '582.0', '290.0', '362.0',\n",
       "       '184.0', '120.0', '275.0', '510.0', '414.0', '375.0', '455.0',\n",
       "       '520.0', '306.0', '292.0', '403.0', '454.0', '496.0', '166.0',\n",
       "       '288.0', '640.0', '293.0', '147.0', '263.0', '170.0', '577.0',\n",
       "       '449.0', '296.0', '291.0', '467.0', '354.0', '283.0', '603.0',\n",
       "       '386.0', '264.0', '204.0', '215.0', '412.0', '150.0', '453.0',\n",
       "       '140.0', '707.0', '242.0', '445.0', '410.0', '500.0', '188.0',\n",
       "       '557.0', '142.0', '199.0', '315.0', '282.0', '247.0', '182.0',\n",
       "       '605.0', '161.0', '475.0', '202.0', '349.0', '152.0', '228.0',\n",
       "       '154.0', '383.0', '526.0', '760.0', '630.0', '212.0', '287.0',\n",
       "       '717.0', '521.0', '232.0', '444.0', '641.0', '308.0', '175.0',\n",
       "       '542.0', '463.0', '130.0', '405.0', '460.0', '330.0', '227.0',\n",
       "       '321.0', '153.0', '379.0', '424.0', '329.0', '189.0', '485.0',\n",
       "       '214.0', '390.0', '218.0', '311.0', '115.0', '158.0', '778.0',\n",
       "       '155.0', '360.0', '239.0', '591.0', '271.0', '272.0', '332.0',\n",
       "       '303.0', '601.0', '562.0', '133.0', '224.0', '411.0', '273.0',\n",
       "       '482.0', '187.0', '580.0', '191.0', '245.0', '195.0', '217.0',\n",
       "       '206.0', '397.0', '278.0', '256.0', '456.0', '138.0', '409.0',\n",
       "       '134.0', '473.0', '437.0', '540.0', '176.0', '610.0', '266.0',\n",
       "       '650.0', '600.0', '451.0', '148.0', '281.0', '759.0', '369.0',\n",
       "       '237.0', '118.0', '575.0', '394.0', '136.0', '185.0', '729.0',\n",
       "       '788.0', '323.0', '797.0', '205.0', '534.0', '378.0', '426.0',\n",
       "       '502.0', '552.0', '156.0', '168.0', '167.0', '192.0', '250.0',\n",
       "       '571.0', '262.0', '505.0', '286.0', '132.0', '171.0', '104.0',\n",
       "       '122.0', '326.0', '808.0', '404.0', '422.0', '401.0', '277.0',\n",
       "       '567.0', '244.0', '353.0', '493.0', '246.0', '304.0', '346.0',\n",
       "       '470.0', '70.0', '165.0', '602.0', '186.0', '258.0', '572.0',\n",
       "       '525.0', '159.0', '107.0', '197.0', '545.0', '573.0', '231.0',\n",
       "       '611.0', '624.0', '207.0', '370.0', '298.0', '344.0', '177.0',\n",
       "       '4.0L', '702.0', '203.0', '2.5L', '565.0', '222.0', '543.0',\n",
       "       '143.0', '221.0', '651.0', '660.0', '3.0L', '162.0', '219.0',\n",
       "       '621.0', '691.0', '553.0', '146.0', '198.0', '645.0', '279.0',\n",
       "       '106.0', '483.0', '101.0', '417.0', '109.0', '131.0', '415.0',\n",
       "       '319.0', '393.0', '324.0', '357.0', '556.0', '137.0', '342.0',\n",
       "       '151.0', '294.0', '126.0', '145.0', '372.0', '620.0', '243.0',\n",
       "       '555.0', '141.0', '363.0', '253.0', '495.0', '533.0', '121.0',\n",
       "       '193.0', '715.0', '341.0', '178.0', '638.0', '226.0', '407.0',\n",
       "       '76.0', '322.0', '139.0', '164.0', '111.0', '78.0', '313.0'],\n",
       "      dtype=object)"
      ]
     },
     "execution_count": 18,
     "metadata": {},
     "output_type": "execute_result"
    }
   ],
   "source": [
    "engine_split[0].unique()"
   ]
  },
  {
   "cell_type": "code",
   "execution_count": 19,
   "metadata": {},
   "outputs": [],
   "source": [
    "engine_split[0] = engine_split[0].apply(lambda x: 0 if \"L\" in str(x) else x)"
   ]
  },
  {
   "cell_type": "code",
   "execution_count": 20,
   "metadata": {},
   "outputs": [],
   "source": [
    "engine_split[0] = engine_split[0].str.split(\".\",expand=True)[0]"
   ]
  },
  {
   "cell_type": "code",
   "execution_count": 21,
   "metadata": {},
   "outputs": [],
   "source": [
    "engine_split[0].fillna(0,inplace=True)"
   ]
  },
  {
   "cell_type": "code",
   "execution_count": 22,
   "metadata": {},
   "outputs": [],
   "source": [
    "df[\"horsepower\"] = engine_split[0]"
   ]
  },
  {
   "cell_type": "markdown",
   "metadata": {},
   "source": [
    "Extracting engine capacity from the engine column."
   ]
  },
  {
   "cell_type": "code",
   "execution_count": 23,
   "metadata": {},
   "outputs": [],
   "source": [
    "engine_split = df[\"engine\"].str.split(\"([0-9]+.[0-9]L)|([0-9]+.[0-9][0-9]L)|([0-9]+.[0-9]+ L)\",expand=True,regex=True)"
   ]
  },
  {
   "cell_type": "code",
   "execution_count": 24,
   "metadata": {},
   "outputs": [
    {
     "data": {
      "text/html": [
       "<div>\n",
       "<style scoped>\n",
       "    .dataframe tbody tr th:only-of-type {\n",
       "        vertical-align: middle;\n",
       "    }\n",
       "\n",
       "    .dataframe tbody tr th {\n",
       "        vertical-align: top;\n",
       "    }\n",
       "\n",
       "    .dataframe thead th {\n",
       "        text-align: right;\n",
       "    }\n",
       "</style>\n",
       "<table border=\"1\" class=\"dataframe\">\n",
       "  <thead>\n",
       "    <tr style=\"text-align: right;\">\n",
       "      <th></th>\n",
       "      <th>0</th>\n",
       "      <th>1</th>\n",
       "      <th>2</th>\n",
       "      <th>3</th>\n",
       "      <th>4</th>\n",
       "    </tr>\n",
       "  </thead>\n",
       "  <tbody>\n",
       "    <tr>\n",
       "      <th>0</th>\n",
       "      <td>172.0HP</td>\n",
       "      <td>1.6L</td>\n",
       "      <td>None</td>\n",
       "      <td>None</td>\n",
       "      <td>4 Cylinder Engine Gasoline Fuel</td>\n",
       "    </tr>\n",
       "    <tr>\n",
       "      <th>1</th>\n",
       "      <td>252.0HP</td>\n",
       "      <td>3.9L</td>\n",
       "      <td>None</td>\n",
       "      <td>None</td>\n",
       "      <td>8 Cylinder Engine Gasoline Fuel</td>\n",
       "    </tr>\n",
       "    <tr>\n",
       "      <th>2</th>\n",
       "      <td>320.0HP</td>\n",
       "      <td>5.3L</td>\n",
       "      <td>None</td>\n",
       "      <td>None</td>\n",
       "      <td>8 Cylinder Engine Flex Fuel Capability</td>\n",
       "    </tr>\n",
       "    <tr>\n",
       "      <th>3</th>\n",
       "      <td>420.0HP</td>\n",
       "      <td>5.0L</td>\n",
       "      <td>None</td>\n",
       "      <td>None</td>\n",
       "      <td>8 Cylinder Engine Gasoline Fuel</td>\n",
       "    </tr>\n",
       "    <tr>\n",
       "      <th>4</th>\n",
       "      <td>208.0HP</td>\n",
       "      <td>2.0L</td>\n",
       "      <td>None</td>\n",
       "      <td>None</td>\n",
       "      <td>4 Cylinder Engine Gasoline Fuel</td>\n",
       "    </tr>\n",
       "  </tbody>\n",
       "</table>\n",
       "</div>"
      ],
      "text/plain": [
       "          0     1     2     3                                        4\n",
       "0  172.0HP   1.6L  None  None          4 Cylinder Engine Gasoline Fuel\n",
       "1  252.0HP   3.9L  None  None          8 Cylinder Engine Gasoline Fuel\n",
       "2  320.0HP   5.3L  None  None   8 Cylinder Engine Flex Fuel Capability\n",
       "3  420.0HP   5.0L  None  None          8 Cylinder Engine Gasoline Fuel\n",
       "4  208.0HP   2.0L  None  None          4 Cylinder Engine Gasoline Fuel"
      ]
     },
     "execution_count": 24,
     "metadata": {},
     "output_type": "execute_result"
    }
   ],
   "source": [
    "engine_split.head()"
   ]
  },
  {
   "cell_type": "code",
   "execution_count": 25,
   "metadata": {},
   "outputs": [],
   "source": [
    "import re"
   ]
  },
  {
   "cell_type": "code",
   "execution_count": 26,
   "metadata": {},
   "outputs": [],
   "source": [
    "def makeLColumn(x):\n",
    "    if re.search(\"([0-9]+.[0-9]L)\",str(x[0]))!=None:\n",
    "        return x[0]\n",
    "    elif re.search(\"([0-9]+.[0-9]L)\",str(x[1]))!=None:\n",
    "        return x[1]\n",
    "    elif (re.search(\"([0-9]+.[0-9]+ L)\",str(x[2]))!=None)|(re.search(\"([0-9]+.[0-9][0-9]L)\",str(x[2]))!=None):\n",
    "        return x[2].replace(\" L\",\"L\")\n",
    "    elif re.search(\"([0-9]+.[0-9]+ L)\",str(x[3]))!=None:\n",
    "        return x[3].replace(\" L\",\"L\")\n",
    "    else:\n",
    "        if (\"Electric\" in x[0])or((\"Dual\" in x[0]))or((\"Standard\" in x[0])):\n",
    "            #return \"Electric\"       \n",
    "            return \"0L\"\n",
    "        elif \"111.2Ah\" in x[0]:\n",
    "            #return \"Electric\"\n",
    "            return \"0L\"\n",
    "        elif x[0]==\"–\":\n",
    "            #return \"unknown\"\n",
    "            return \"0L\"\n",
    "        return \"0L\""
   ]
  },
  {
   "cell_type": "code",
   "execution_count": 27,
   "metadata": {},
   "outputs": [
    {
     "data": {
      "text/plain": [
       "array(['1.6L', '3.9L', '5.3L', '5.0L', '2.0L', '3.0L', '2.7L', '3.6L',\n",
       "       None, '6.2L', '4.4L', '4.0L', '4.6L', '5.2L', '3.7L', '5.7L',\n",
       "       '6.7L', '3.5L', '2.8L', '5.5L', '5.4L', '6.8L', '3.8L', '2.5L',\n",
       "       '3.4L', '2.4L', '3.3L', '2.3L', '3.2L', '4.7L', '1.8L', '6.0L',\n",
       "       '4.8L', '5.6L', '4.3L', '4.2L', '1.5L', '6.4L', '8.3L', '6.3L',\n",
       "       '2.1L', '1.4L', '4.5L', '1.3L', '2.9L', '1.7L', '6.6L', '2.2L',\n",
       "       '6.1L', '7.3L', '6.5L', '7.0L', '1.0L', '5.9L', '8.1L', '5.8L',\n",
       "       '1.2L', '8.4L', '8.0L', '7.4L'], dtype=object)"
      ]
     },
     "execution_count": 27,
     "metadata": {},
     "output_type": "execute_result"
    }
   ],
   "source": [
    "engine_split[1].unique()"
   ]
  },
  {
   "cell_type": "code",
   "execution_count": 28,
   "metadata": {},
   "outputs": [],
   "source": [
    "temp = pd.Series(engine_split.apply(makeLColumn,axis=1,result_type=\"expand\"))"
   ]
  },
  {
   "cell_type": "code",
   "execution_count": 29,
   "metadata": {},
   "outputs": [],
   "source": [
    "df[\"engine_capacity\"] = temp"
   ]
  },
  {
   "cell_type": "markdown",
   "metadata": {},
   "source": [
    "Extracting cylider from the engine column."
   ]
  },
  {
   "cell_type": "code",
   "execution_count": 30,
   "metadata": {},
   "outputs": [],
   "source": [
    "engine_split = df[\"engine\"].str.split(\"([0-9][0-9]+.Cylinder)|(V[0-9]+.Cylinder)|([0-9]+.Cylinder)|(V[0-9])|([0-9][0-9]V)\",expand=True,regex=True)"
   ]
  },
  {
   "cell_type": "code",
   "execution_count": 31,
   "metadata": {},
   "outputs": [
    {
     "data": {
      "text/html": [
       "<div>\n",
       "<style scoped>\n",
       "    .dataframe tbody tr th:only-of-type {\n",
       "        vertical-align: middle;\n",
       "    }\n",
       "\n",
       "    .dataframe tbody tr th {\n",
       "        vertical-align: top;\n",
       "    }\n",
       "\n",
       "    .dataframe thead th {\n",
       "        text-align: right;\n",
       "    }\n",
       "</style>\n",
       "<table border=\"1\" class=\"dataframe\">\n",
       "  <thead>\n",
       "    <tr style=\"text-align: right;\">\n",
       "      <th></th>\n",
       "      <th>0</th>\n",
       "      <th>1</th>\n",
       "      <th>2</th>\n",
       "      <th>3</th>\n",
       "      <th>4</th>\n",
       "      <th>5</th>\n",
       "      <th>6</th>\n",
       "      <th>7</th>\n",
       "      <th>8</th>\n",
       "      <th>9</th>\n",
       "      <th>10</th>\n",
       "      <th>11</th>\n",
       "      <th>12</th>\n",
       "    </tr>\n",
       "  </thead>\n",
       "  <tbody>\n",
       "    <tr>\n",
       "      <th>0</th>\n",
       "      <td>172.0HP 1.6L</td>\n",
       "      <td>None</td>\n",
       "      <td>None</td>\n",
       "      <td>4 Cylinder</td>\n",
       "      <td>None</td>\n",
       "      <td>None</td>\n",
       "      <td>Engine Gasoline Fuel</td>\n",
       "      <td>None</td>\n",
       "      <td>None</td>\n",
       "      <td>None</td>\n",
       "      <td>None</td>\n",
       "      <td>None</td>\n",
       "      <td>None</td>\n",
       "    </tr>\n",
       "    <tr>\n",
       "      <th>1</th>\n",
       "      <td>252.0HP 3.9L</td>\n",
       "      <td>None</td>\n",
       "      <td>None</td>\n",
       "      <td>8 Cylinder</td>\n",
       "      <td>None</td>\n",
       "      <td>None</td>\n",
       "      <td>Engine Gasoline Fuel</td>\n",
       "      <td>None</td>\n",
       "      <td>None</td>\n",
       "      <td>None</td>\n",
       "      <td>None</td>\n",
       "      <td>None</td>\n",
       "      <td>None</td>\n",
       "    </tr>\n",
       "    <tr>\n",
       "      <th>2</th>\n",
       "      <td>320.0HP 5.3L</td>\n",
       "      <td>None</td>\n",
       "      <td>None</td>\n",
       "      <td>8 Cylinder</td>\n",
       "      <td>None</td>\n",
       "      <td>None</td>\n",
       "      <td>Engine Flex Fuel Capability</td>\n",
       "      <td>None</td>\n",
       "      <td>None</td>\n",
       "      <td>None</td>\n",
       "      <td>None</td>\n",
       "      <td>None</td>\n",
       "      <td>None</td>\n",
       "    </tr>\n",
       "    <tr>\n",
       "      <th>3</th>\n",
       "      <td>420.0HP 5.0L</td>\n",
       "      <td>None</td>\n",
       "      <td>None</td>\n",
       "      <td>8 Cylinder</td>\n",
       "      <td>None</td>\n",
       "      <td>None</td>\n",
       "      <td>Engine Gasoline Fuel</td>\n",
       "      <td>None</td>\n",
       "      <td>None</td>\n",
       "      <td>None</td>\n",
       "      <td>None</td>\n",
       "      <td>None</td>\n",
       "      <td>None</td>\n",
       "    </tr>\n",
       "    <tr>\n",
       "      <th>4</th>\n",
       "      <td>208.0HP 2.0L</td>\n",
       "      <td>None</td>\n",
       "      <td>None</td>\n",
       "      <td>4 Cylinder</td>\n",
       "      <td>None</td>\n",
       "      <td>None</td>\n",
       "      <td>Engine Gasoline Fuel</td>\n",
       "      <td>None</td>\n",
       "      <td>None</td>\n",
       "      <td>None</td>\n",
       "      <td>None</td>\n",
       "      <td>None</td>\n",
       "      <td>None</td>\n",
       "    </tr>\n",
       "  </tbody>\n",
       "</table>\n",
       "</div>"
      ],
      "text/plain": [
       "              0     1     2           3     4     5   \\\n",
       "0  172.0HP 1.6L   None  None  4 Cylinder  None  None   \n",
       "1  252.0HP 3.9L   None  None  8 Cylinder  None  None   \n",
       "2  320.0HP 5.3L   None  None  8 Cylinder  None  None   \n",
       "3  420.0HP 5.0L   None  None  8 Cylinder  None  None   \n",
       "4  208.0HP 2.0L   None  None  4 Cylinder  None  None   \n",
       "\n",
       "                             6     7     8     9     10    11    12  \n",
       "0          Engine Gasoline Fuel  None  None  None  None  None  None  \n",
       "1          Engine Gasoline Fuel  None  None  None  None  None  None  \n",
       "2   Engine Flex Fuel Capability  None  None  None  None  None  None  \n",
       "3          Engine Gasoline Fuel  None  None  None  None  None  None  \n",
       "4          Engine Gasoline Fuel  None  None  None  None  None  None  "
      ]
     },
     "execution_count": 31,
     "metadata": {},
     "output_type": "execute_result"
    }
   ],
   "source": [
    "engine_split.head()"
   ]
  },
  {
   "cell_type": "code",
   "execution_count": 32,
   "metadata": {},
   "outputs": [
    {
     "data": {
      "text/html": [
       "<div>\n",
       "<style scoped>\n",
       "    .dataframe tbody tr th:only-of-type {\n",
       "        vertical-align: middle;\n",
       "    }\n",
       "\n",
       "    .dataframe tbody tr th {\n",
       "        vertical-align: top;\n",
       "    }\n",
       "\n",
       "    .dataframe thead th {\n",
       "        text-align: right;\n",
       "    }\n",
       "</style>\n",
       "<table border=\"1\" class=\"dataframe\">\n",
       "  <thead>\n",
       "    <tr style=\"text-align: right;\">\n",
       "      <th></th>\n",
       "      <th>0</th>\n",
       "      <th>1</th>\n",
       "      <th>2</th>\n",
       "      <th>3</th>\n",
       "      <th>4</th>\n",
       "      <th>5</th>\n",
       "      <th>6</th>\n",
       "      <th>7</th>\n",
       "      <th>8</th>\n",
       "      <th>9</th>\n",
       "      <th>10</th>\n",
       "      <th>11</th>\n",
       "      <th>12</th>\n",
       "    </tr>\n",
       "  </thead>\n",
       "  <tbody>\n",
       "  </tbody>\n",
       "</table>\n",
       "</div>"
      ],
      "text/plain": [
       "Empty DataFrame\n",
       "Columns: [0, 1, 2, 3, 4, 5, 6, 7, 8, 9, 10, 11, 12]\n",
       "Index: []"
      ]
     },
     "execution_count": 32,
     "metadata": {},
     "output_type": "execute_result"
    }
   ],
   "source": [
    "engine_split[engine_split[0].apply(lambda x: \"Cylinder\" in x)].head(10)"
   ]
  },
  {
   "cell_type": "code",
   "execution_count": 33,
   "metadata": {},
   "outputs": [
    {
     "data": {
      "text/plain": [
       "array([None, '10 Cylinder', '12 Cylinder'], dtype=object)"
      ]
     },
     "execution_count": 33,
     "metadata": {},
     "output_type": "execute_result"
    }
   ],
   "source": [
    "engine_split[1].unique()"
   ]
  },
  {
   "cell_type": "code",
   "execution_count": 34,
   "metadata": {},
   "outputs": [
    {
     "data": {
      "text/plain": [
       "array([None, 'V6 Cylinder'], dtype=object)"
      ]
     },
     "execution_count": 34,
     "metadata": {},
     "output_type": "execute_result"
    }
   ],
   "source": [
    "engine_split[2].unique()"
   ]
  },
  {
   "cell_type": "code",
   "execution_count": 35,
   "metadata": {},
   "outputs": [
    {
     "data": {
      "text/plain": [
       "array(['4 Cylinder', '8 Cylinder', None, '6 Cylinder', '5 Cylinder',\n",
       "       '3 Cylinder'], dtype=object)"
      ]
     },
     "execution_count": 35,
     "metadata": {},
     "output_type": "execute_result"
    }
   ],
   "source": [
    "engine_split[3].unique()"
   ]
  },
  {
   "cell_type": "code",
   "execution_count": 36,
   "metadata": {},
   "outputs": [
    {
     "data": {
      "text/plain": [
       "array([None, 'V6', 'V1', 'V8'], dtype=object)"
      ]
     },
     "execution_count": 36,
     "metadata": {},
     "output_type": "execute_result"
    }
   ],
   "source": [
    "engine_split[4].unique()"
   ]
  },
  {
   "cell_type": "code",
   "execution_count": 37,
   "metadata": {},
   "outputs": [
    {
     "data": {
      "text/plain": [
       "array([None, '16V', '24V', '12V', '48V', '64V', '97V'], dtype=object)"
      ]
     },
     "execution_count": 37,
     "metadata": {},
     "output_type": "execute_result"
    }
   ],
   "source": [
    "engine_split[5].unique()"
   ]
  },
  {
   "cell_type": "code",
   "execution_count": 38,
   "metadata": {},
   "outputs": [
    {
     "data": {
      "text/plain": [
       "array([' Engine Gasoline Fuel', ' Engine Flex Fuel Capability', ' ', None,\n",
       "       ' Engine Gasoline/Mild Electric Hybrid', '0 ',\n",
       "       ' Engine Diesel Fuel', ' PDI DOHC Turbo', ' GDI DOHC',\n",
       "       ' Engine Plug-In Electric/Gas', ' GDI DOHC Turbo',\n",
       "       ' GDI DOHC Twin Turbo', ' Engine Gas/Electric Hybrid',\n",
       "       ' MPFI DOHC', ' GDI SOHC Turbo', '2 ', ' DDI OHV Turbo Diesel',\n",
       "       ' GDI DOHC Turbo Hybrid', ' DDI DOHC Turbo Diesel', ' PDI DOHC',\n",
       "       '', ' GDI DOHC Turbo Flexible Fuel', ' GDI DOHC Hybrid',\n",
       "       ' SOHC I-VTEC ', ' PDI DOHC Twin Turbo', ' Engine', ' MPFI SOHC',\n",
       "       ' MPFI DOHC Turbo', ' MPFI DOHC Hybrid', ' PDI DOHC Hybrid',\n",
       "       ' GDI DOHC Flexible Fuel', ')'], dtype=object)"
      ]
     },
     "execution_count": 38,
     "metadata": {},
     "output_type": "execute_result"
    }
   ],
   "source": [
    "engine_split[6].unique()"
   ]
  },
  {
   "cell_type": "code",
   "execution_count": 39,
   "metadata": {},
   "outputs": [
    {
     "data": {
      "text/plain": [
       "array([None, 'V6'], dtype=object)"
      ]
     },
     "execution_count": 39,
     "metadata": {},
     "output_type": "execute_result"
    }
   ],
   "source": [
    "engine_split[10].unique()"
   ]
  },
  {
   "cell_type": "code",
   "execution_count": 40,
   "metadata": {},
   "outputs": [
    {
     "data": {
      "text/plain": [
       "array([None, '24V', '40V', '32V', '16V', '48V', '18V', '12V'],\n",
       "      dtype=object)"
      ]
     },
     "execution_count": 40,
     "metadata": {},
     "output_type": "execute_result"
    }
   ],
   "source": [
    "engine_split[11].unique()"
   ]
  },
  {
   "cell_type": "code",
   "execution_count": 41,
   "metadata": {},
   "outputs": [],
   "source": [
    "def makeCylinderColumn(x):\n",
    "    if re.search(\"([0-9][0-9]+.Cylinder)\",str(x[1]))!=None:\n",
    "        return x[1]\n",
    "    elif re.search(\"(V[0-9]+.Cylinder)\",str(x[2]))!=None:\n",
    "        return x[2].replace(\"V\",\"\")\n",
    "    elif re.search(\"([0-9]+.Cylinder)\",str(x[3]))!=None:\n",
    "        return x[3]\n",
    "    elif re.search(\"(V[0-9])\",str(x[4]))!=None:\n",
    "        return x[4].replace(\"V\",\"\")+\" \"+\"Cylinder\"\n",
    "    elif re.search(\"(V[0-9])\",str(x[5]))!=None:\n",
    "        return x[5].replace(\"V\",\"\")+\" \"+\"Cylinder\"\n",
    "    elif re.search(\"(V[0-9])\",str(x[10]))!=None:\n",
    "        return x[10].replace(\"V\",\"\")+\" \"+\"Cylinder\"\n",
    "    elif re.search(\"(V[0-9])\",str(x[11]))!=None:\n",
    "        return x[11].replace(\"V\",\"\")+\" \"+\"Cylinder\"\n",
    "    else:\n",
    "        if x[0]==\"–\":\n",
    "            #return \"unknown\"\n",
    "            return \"0 Cylinder\"\n",
    "        else:\n",
    "            #return \"unknown\"\n",
    "            return \"0 Cylinder\""
   ]
  },
  {
   "cell_type": "code",
   "execution_count": 42,
   "metadata": {},
   "outputs": [],
   "source": [
    "temp = pd.Series(engine_split.apply(makeCylinderColumn,axis=1,result_type=\"expand\"))"
   ]
  },
  {
   "cell_type": "code",
   "execution_count": 43,
   "metadata": {},
   "outputs": [],
   "source": [
    "df[\"engine_cylinders\"] = temp"
   ]
  },
  {
   "cell_type": "markdown",
   "metadata": {},
   "source": [
    "Filling missing fuel type by using the same brand and model that has fuel type already. "
   ]
  },
  {
   "cell_type": "code",
   "execution_count": 44,
   "metadata": {},
   "outputs": [],
   "source": [
    "df[\"fuel_type\"] = df.groupby([\"brand\",\"model\"])[\"fuel_type\"].ffill().bfill()"
   ]
  },
  {
   "cell_type": "code",
   "execution_count": 45,
   "metadata": {},
   "outputs": [
    {
     "data": {
      "text/plain": [
       "clean_title    21419\n",
       "accident        2452\n",
       "dtype: int64"
      ]
     },
     "execution_count": 45,
     "metadata": {},
     "output_type": "execute_result"
    }
   ],
   "source": [
    "df.isna().sum()[df.isna().sum()>0].sort_values(ascending=False)"
   ]
  },
  {
   "cell_type": "markdown",
   "metadata": {},
   "source": [
    "Fixing different spelling for the same type of transmission. </br>"
   ]
  },
  {
   "cell_type": "code",
   "execution_count": 46,
   "metadata": {},
   "outputs": [
    {
     "data": {
      "text/plain": [
       "52"
      ]
     },
     "execution_count": 46,
     "metadata": {},
     "output_type": "execute_result"
    }
   ],
   "source": [
    "df[\"transmission\"].nunique()"
   ]
  },
  {
   "cell_type": "code",
   "execution_count": 47,
   "metadata": {},
   "outputs": [
    {
     "data": {
      "text/plain": [
       "transmission\n",
       "A/T                                                   49904\n",
       "8-Speed A/T                                           20645\n",
       "Transmission w/Dual Shift Mode                        19255\n",
       "6-Speed A/T                                           18044\n",
       "6-Speed M/T                                           11998\n",
       "7-Speed A/T                                           11124\n",
       "Automatic                                             10691\n",
       "8-Speed Automatic                                      8431\n",
       "10-Speed A/T                                           8044\n",
       "9-Speed A/T                                            3866\n",
       "5-Speed A/T                                            3217\n",
       "10-Speed Automatic                                     3164\n",
       "6-Speed Automatic                                      2799\n",
       "4-Speed A/T                                            2546\n",
       "5-Speed M/T                                            2409\n",
       "9-Speed Automatic                                      2325\n",
       "CVT Transmission                                       1990\n",
       "1-Speed A/T                                            1869\n",
       "M/T                                                    1179\n",
       "7-Speed Automatic with Auto-Shift                      1172\n",
       "Automatic CVT                                           829\n",
       "8-Speed Automatic with Auto-Shift                       549\n",
       "1-Speed Automatic                                       365\n",
       "7-Speed M/T                                             355\n",
       "6-Speed Manual                                          211\n",
       "7-Speed Automatic                                       178\n",
       "5-Speed Automatic                                       159\n",
       "Transmission Overdrive Switch                           156\n",
       "7-Speed Manual                                          151\n",
       "6-Speed Automatic with Auto-Shift                       111\n",
       "2                                                        91\n",
       "–                                                        87\n",
       "2-Speed A/T                                              71\n",
       "Variable                                                 66\n",
       "F                                                        65\n",
       "4-Speed Automatic                                        48\n",
       "10-Speed Automatic with Overdrive                        40\n",
       "6 Speed Mt                                               37\n",
       "9-Speed Automatic with Auto-Shift                        33\n",
       "6-Speed Electronically Controlled Automatic with O       31\n",
       "7-Speed                                                  29\n",
       "8-Speed Manual                                           28\n",
       "Manual                                                   27\n",
       "6-Speed                                                  27\n",
       "2-Speed Automatic                                        22\n",
       "6 Speed At/Mt                                            20\n",
       "7-Speed DCT Automatic                                    18\n",
       "Single-Speed Fixed Gear                                  16\n",
       "CVT-F                                                    15\n",
       "8-SPEED AT                                               13\n",
       "8-SPEED A/T                                               7\n",
       "SCHEDULED FOR OR IN PRODUCTION                            6\n",
       "Name: count, dtype: int64"
      ]
     },
     "execution_count": 47,
     "metadata": {},
     "output_type": "execute_result"
    }
   ],
   "source": [
    "df[\"transmission\"].value_counts()"
   ]
  },
  {
   "cell_type": "code",
   "execution_count": 48,
   "metadata": {},
   "outputs": [],
   "source": [
    "df[\"transmission\"] = df[\"transmission\"].str.lower()"
   ]
  },
  {
   "cell_type": "code",
   "execution_count": 49,
   "metadata": {},
   "outputs": [],
   "source": [
    "df[\"transmission\"] = df[\"transmission\"].str.replace(\"automatic\",\"a/t\")\n",
    "df[\"transmission\"] = df[\"transmission\"].str.replace(\"manual\",\"m/t\")\n",
    "df[\"transmission\"] = df[\"transmission\"].str.replace(\"mt\",\"m/t\")\n",
    "df[\"transmission\"] = df[\"transmission\"].str.replace(\"at\",\"a/t\")"
   ]
  },
  {
   "cell_type": "code",
   "execution_count": 50,
   "metadata": {},
   "outputs": [
    {
     "data": {
      "text/plain": [
       "transmission\n",
       "a/t                                             60595\n",
       "8-speed a/t                                     29096\n",
       "6-speed a/t                                     20843\n",
       "transmission w/dual shift mode                  19255\n",
       "6-speed m/t                                     12209\n",
       "7-speed a/t                                     11302\n",
       "10-speed a/t                                    11208\n",
       "9-speed a/t                                      6191\n",
       "5-speed a/t                                      3376\n",
       "4-speed a/t                                      2594\n",
       "5-speed m/t                                      2409\n",
       "1-speed a/t                                      2234\n",
       "cvt transmission                                 1990\n",
       "m/t                                              1206\n",
       "7-speed a/t with auto-shift                      1172\n",
       "a/t cvt                                           829\n",
       "8-speed a/t with auto-shift                       549\n",
       "7-speed m/t                                       506\n",
       "transmission overdrive switch                     156\n",
       "6-speed a/t with auto-shift                       111\n",
       "2-speed a/t                                        93\n",
       "2                                                  91\n",
       "–                                                  87\n",
       "variable                                           66\n",
       "f                                                  65\n",
       "10-speed a/t with overdrive                        40\n",
       "6 speed m/t                                        37\n",
       "9-speed a/t with auto-shift                        33\n",
       "6-speed electronically controlled a/t with o       31\n",
       "7-speed                                            29\n",
       "8-speed m/t                                        28\n",
       "6-speed                                            27\n",
       "6 speed a/t/m/t                                    20\n",
       "7-speed dct a/t                                    18\n",
       "single-speed fixed gear                            16\n",
       "cvt-f                                              15\n",
       "scheduled for or in production                      6\n",
       "Name: count, dtype: int64"
      ]
     },
     "execution_count": 50,
     "metadata": {},
     "output_type": "execute_result"
    }
   ],
   "source": [
    "df[\"transmission\"].value_counts()"
   ]
  },
  {
   "cell_type": "markdown",
   "metadata": {},
   "source": [
    "Filling missing values for accident column."
   ]
  },
  {
   "cell_type": "code",
   "execution_count": 51,
   "metadata": {},
   "outputs": [
    {
     "data": {
      "text/plain": [
       "2"
      ]
     },
     "execution_count": 51,
     "metadata": {},
     "output_type": "execute_result"
    }
   ],
   "source": [
    "df[\"accident\"].nunique()"
   ]
  },
  {
   "cell_type": "code",
   "execution_count": 52,
   "metadata": {},
   "outputs": [
    {
     "data": {
      "text/plain": [
       "accident\n",
       "None reported                             144514\n",
       "At least 1 accident or damage reported     41567\n",
       "Name: count, dtype: int64"
      ]
     },
     "execution_count": 52,
     "metadata": {},
     "output_type": "execute_result"
    }
   ],
   "source": [
    "df[\"accident\"].value_counts()"
   ]
  },
  {
   "cell_type": "code",
   "execution_count": 53,
   "metadata": {},
   "outputs": [],
   "source": [
    "df[\"accident\"].fillna(\"missing\",inplace=True)"
   ]
  },
  {
   "cell_type": "markdown",
   "metadata": {},
   "source": [
    "Filling missing values for clean_title column."
   ]
  },
  {
   "cell_type": "code",
   "execution_count": 54,
   "metadata": {},
   "outputs": [
    {
     "data": {
      "text/plain": [
       "clean_title\n",
       "Yes    167114\n",
       "Name: count, dtype: int64"
      ]
     },
     "execution_count": 54,
     "metadata": {},
     "output_type": "execute_result"
    }
   ],
   "source": [
    "df[\"clean_title\"].value_counts()"
   ]
  },
  {
   "cell_type": "code",
   "execution_count": 55,
   "metadata": {},
   "outputs": [],
   "source": [
    "df[\"clean_title\"] = df[\"clean_title\"].fillna(\"No\")"
   ]
  },
  {
   "cell_type": "code",
   "execution_count": 56,
   "metadata": {},
   "outputs": [
    {
     "data": {
      "text/html": [
       "<div>\n",
       "<style scoped>\n",
       "    .dataframe tbody tr th:only-of-type {\n",
       "        vertical-align: middle;\n",
       "    }\n",
       "\n",
       "    .dataframe tbody tr th {\n",
       "        vertical-align: top;\n",
       "    }\n",
       "\n",
       "    .dataframe thead th {\n",
       "        text-align: right;\n",
       "    }\n",
       "</style>\n",
       "<table border=\"1\" class=\"dataframe\">\n",
       "  <thead>\n",
       "    <tr style=\"text-align: right;\">\n",
       "      <th></th>\n",
       "      <th>brand</th>\n",
       "      <th>model</th>\n",
       "      <th>model_year</th>\n",
       "      <th>milage</th>\n",
       "      <th>fuel_type</th>\n",
       "      <th>engine</th>\n",
       "      <th>transmission</th>\n",
       "      <th>ext_col</th>\n",
       "      <th>int_col</th>\n",
       "      <th>accident</th>\n",
       "      <th>clean_title</th>\n",
       "      <th>price</th>\n",
       "      <th>horsepower</th>\n",
       "      <th>engine_capacity</th>\n",
       "      <th>engine_cylinders</th>\n",
       "    </tr>\n",
       "  </thead>\n",
       "  <tbody>\n",
       "    <tr>\n",
       "      <th>0</th>\n",
       "      <td>MINI</td>\n",
       "      <td>Cooper S Base</td>\n",
       "      <td>2007</td>\n",
       "      <td>213000</td>\n",
       "      <td>Gasoline</td>\n",
       "      <td>172.0HP 1.6L 4 Cylinder Engine Gasoline Fuel</td>\n",
       "      <td>a/t</td>\n",
       "      <td>Yellow</td>\n",
       "      <td>Gray</td>\n",
       "      <td>None reported</td>\n",
       "      <td>Yes</td>\n",
       "      <td>4200</td>\n",
       "      <td>172</td>\n",
       "      <td>1.6L</td>\n",
       "      <td>4 Cylinder</td>\n",
       "    </tr>\n",
       "    <tr>\n",
       "      <th>1</th>\n",
       "      <td>Lincoln</td>\n",
       "      <td>LS V8</td>\n",
       "      <td>2002</td>\n",
       "      <td>143250</td>\n",
       "      <td>Gasoline</td>\n",
       "      <td>252.0HP 3.9L 8 Cylinder Engine Gasoline Fuel</td>\n",
       "      <td>a/t</td>\n",
       "      <td>Silver</td>\n",
       "      <td>Beige</td>\n",
       "      <td>At least 1 accident or damage reported</td>\n",
       "      <td>Yes</td>\n",
       "      <td>4999</td>\n",
       "      <td>252</td>\n",
       "      <td>3.9L</td>\n",
       "      <td>8 Cylinder</td>\n",
       "    </tr>\n",
       "    <tr>\n",
       "      <th>2</th>\n",
       "      <td>Chevrolet</td>\n",
       "      <td>Silverado 2500 LT</td>\n",
       "      <td>2002</td>\n",
       "      <td>136731</td>\n",
       "      <td>E85 Flex Fuel</td>\n",
       "      <td>320.0HP 5.3L 8 Cylinder Engine Flex Fuel Capab...</td>\n",
       "      <td>a/t</td>\n",
       "      <td>Blue</td>\n",
       "      <td>Gray</td>\n",
       "      <td>None reported</td>\n",
       "      <td>Yes</td>\n",
       "      <td>13900</td>\n",
       "      <td>320</td>\n",
       "      <td>5.3L</td>\n",
       "      <td>8 Cylinder</td>\n",
       "    </tr>\n",
       "    <tr>\n",
       "      <th>3</th>\n",
       "      <td>Genesis</td>\n",
       "      <td>G90 5.0 Ultimate</td>\n",
       "      <td>2017</td>\n",
       "      <td>19500</td>\n",
       "      <td>Gasoline</td>\n",
       "      <td>420.0HP 5.0L 8 Cylinder Engine Gasoline Fuel</td>\n",
       "      <td>transmission w/dual shift mode</td>\n",
       "      <td>Black</td>\n",
       "      <td>Black</td>\n",
       "      <td>None reported</td>\n",
       "      <td>Yes</td>\n",
       "      <td>45000</td>\n",
       "      <td>420</td>\n",
       "      <td>5.0L</td>\n",
       "      <td>8 Cylinder</td>\n",
       "    </tr>\n",
       "    <tr>\n",
       "      <th>4</th>\n",
       "      <td>Mercedes-Benz</td>\n",
       "      <td>Metris Base</td>\n",
       "      <td>2021</td>\n",
       "      <td>7388</td>\n",
       "      <td>Gasoline</td>\n",
       "      <td>208.0HP 2.0L 4 Cylinder Engine Gasoline Fuel</td>\n",
       "      <td>7-speed a/t</td>\n",
       "      <td>Black</td>\n",
       "      <td>Beige</td>\n",
       "      <td>None reported</td>\n",
       "      <td>Yes</td>\n",
       "      <td>97500</td>\n",
       "      <td>208</td>\n",
       "      <td>2.0L</td>\n",
       "      <td>4 Cylinder</td>\n",
       "    </tr>\n",
       "  </tbody>\n",
       "</table>\n",
       "</div>"
      ],
      "text/plain": [
       "           brand              model  model_year  milage      fuel_type  \\\n",
       "0           MINI      Cooper S Base        2007  213000       Gasoline   \n",
       "1        Lincoln              LS V8        2002  143250       Gasoline   \n",
       "2      Chevrolet  Silverado 2500 LT        2002  136731  E85 Flex Fuel   \n",
       "3        Genesis   G90 5.0 Ultimate        2017   19500       Gasoline   \n",
       "4  Mercedes-Benz        Metris Base        2021    7388       Gasoline   \n",
       "\n",
       "                                              engine  \\\n",
       "0       172.0HP 1.6L 4 Cylinder Engine Gasoline Fuel   \n",
       "1       252.0HP 3.9L 8 Cylinder Engine Gasoline Fuel   \n",
       "2  320.0HP 5.3L 8 Cylinder Engine Flex Fuel Capab...   \n",
       "3       420.0HP 5.0L 8 Cylinder Engine Gasoline Fuel   \n",
       "4       208.0HP 2.0L 4 Cylinder Engine Gasoline Fuel   \n",
       "\n",
       "                     transmission ext_col int_col  \\\n",
       "0                             a/t  Yellow    Gray   \n",
       "1                             a/t  Silver   Beige   \n",
       "2                             a/t    Blue    Gray   \n",
       "3  transmission w/dual shift mode   Black   Black   \n",
       "4                     7-speed a/t   Black   Beige   \n",
       "\n",
       "                                 accident clean_title  price horsepower  \\\n",
       "0                           None reported         Yes   4200        172   \n",
       "1  At least 1 accident or damage reported         Yes   4999        252   \n",
       "2                           None reported         Yes  13900        320   \n",
       "3                           None reported         Yes  45000        420   \n",
       "4                           None reported         Yes  97500        208   \n",
       "\n",
       "  engine_capacity engine_cylinders  \n",
       "0            1.6L       4 Cylinder  \n",
       "1            3.9L       8 Cylinder  \n",
       "2            5.3L       8 Cylinder  \n",
       "3            5.0L       8 Cylinder  \n",
       "4            2.0L       4 Cylinder  "
      ]
     },
     "execution_count": 56,
     "metadata": {},
     "output_type": "execute_result"
    }
   ],
   "source": [
    "df.head()"
   ]
  },
  {
   "cell_type": "markdown",
   "metadata": {},
   "source": [
    "Removing L and Cylinders from appropriate columns and converting it to more suitable data types"
   ]
  },
  {
   "cell_type": "code",
   "execution_count": 57,
   "metadata": {},
   "outputs": [],
   "source": [
    "df[\"engine_capacity\"] = df[\"engine_capacity\"].str.split(\"L\",expand=True)[0].astype(\"float64\")"
   ]
  },
  {
   "cell_type": "code",
   "execution_count": 58,
   "metadata": {},
   "outputs": [],
   "source": [
    "df[\"engine_cylinders\"] = df[\"engine_cylinders\"].str.split(\" \",expand=True)[0].astype(\"int64\")"
   ]
  },
  {
   "cell_type": "markdown",
   "metadata": {},
   "source": [
    "Making new features out of existing ones"
   ]
  },
  {
   "cell_type": "code",
   "execution_count": 59,
   "metadata": {},
   "outputs": [],
   "source": [
    "df[\"car_age\"] = 2024 - df[\"model_year\"]"
   ]
  },
  {
   "cell_type": "code",
   "execution_count": 60,
   "metadata": {},
   "outputs": [],
   "source": [
    "df[\"horsepower\"] = df[\"horsepower\"].astype(\"int64\")"
   ]
  },
  {
   "cell_type": "code",
   "execution_count": 61,
   "metadata": {},
   "outputs": [],
   "source": [
    "def checkDivide(x,y):\n",
    "    0.0 if (x==0)|(y==0) else x/y"
   ]
  },
  {
   "cell_type": "code",
   "execution_count": 62,
   "metadata": {},
   "outputs": [],
   "source": [
    "df[\"milage_per_year\"] = df[\"milage\"].divide(df[\"car_age\"]).replace(np.inf,0.0)"
   ]
  },
  {
   "cell_type": "code",
   "execution_count": 63,
   "metadata": {},
   "outputs": [],
   "source": [
    "df[\"power_ratio\"] = df[\"horsepower\"].divide(df[\"engine_capacity\"]).replace(np.inf,0.0)\n",
    "df[\"power_ratio\"].fillna(0.0,inplace=True)"
   ]
  },
  {
   "cell_type": "markdown",
   "metadata": {},
   "source": [
    "Converting all exterior colors to only 12 base colors which are most frequent"
   ]
  },
  {
   "cell_type": "code",
   "execution_count": 64,
   "metadata": {},
   "outputs": [
    {
     "data": {
      "text/plain": [
       "319"
      ]
     },
     "execution_count": 64,
     "metadata": {},
     "output_type": "execute_result"
    }
   ],
   "source": [
    "df[\"ext_col\"].nunique()"
   ]
  },
  {
   "cell_type": "code",
   "execution_count": 65,
   "metadata": {},
   "outputs": [
    {
     "data": {
      "text/plain": [
       "ext_col\n",
       "Black     48658\n",
       "White     43815\n",
       "Gray      25293\n",
       "Silver    16995\n",
       "Blue      14555\n",
       "Red        9901\n",
       "Green      2698\n",
       "Gold       1668\n",
       "Brown      1162\n",
       "Orange     1139\n",
       "Beige      1087\n",
       "Yellow      978\n",
       "Name: count, dtype: int64"
      ]
     },
     "execution_count": 65,
     "metadata": {},
     "output_type": "execute_result"
    }
   ],
   "source": [
    "df[\"ext_col\"].value_counts()[0:12]"
   ]
  },
  {
   "cell_type": "code",
   "execution_count": 66,
   "metadata": {},
   "outputs": [],
   "source": [
    "basic_colors = df[\"ext_col\"].value_counts()[0:12].index.values"
   ]
  },
  {
   "cell_type": "code",
   "execution_count": 67,
   "metadata": {},
   "outputs": [
    {
     "data": {
      "text/plain": [
       "array(['Black', 'White', 'Gray', 'Silver', 'Blue', 'Red', 'Green', 'Gold',\n",
       "       'Brown', 'Orange', 'Beige', 'Yellow'], dtype=object)"
      ]
     },
     "execution_count": 67,
     "metadata": {},
     "output_type": "execute_result"
    }
   ],
   "source": [
    "basic_colors"
   ]
  },
  {
   "cell_type": "code",
   "execution_count": 68,
   "metadata": {},
   "outputs": [],
   "source": [
    "def colorUpdate(x,colors=basic_colors):\n",
    "    for color in colors:\n",
    "        if color.lower() in x.lower():\n",
    "            return color"
   ]
  },
  {
   "cell_type": "code",
   "execution_count": 69,
   "metadata": {},
   "outputs": [],
   "source": [
    "df[\"ext_col\"] = df[\"ext_col\"].apply(colorUpdate)"
   ]
  },
  {
   "cell_type": "code",
   "execution_count": 70,
   "metadata": {},
   "outputs": [
    {
     "data": {
      "text/plain": [
       "4522"
      ]
     },
     "execution_count": 70,
     "metadata": {},
     "output_type": "execute_result"
    }
   ],
   "source": [
    "df[\"ext_col\"].isna().sum()"
   ]
  },
  {
   "cell_type": "code",
   "execution_count": 71,
   "metadata": {},
   "outputs": [],
   "source": [
    "df[\"ext_col\"].fillna(\"Other\",inplace=True)"
   ]
  },
  {
   "cell_type": "markdown",
   "metadata": {},
   "source": [
    "Converting all interior colors to only 11 base colors which are most frequent"
   ]
  },
  {
   "cell_type": "code",
   "execution_count": 72,
   "metadata": {},
   "outputs": [
    {
     "data": {
      "text/plain": [
       "156"
      ]
     },
     "execution_count": 72,
     "metadata": {},
     "output_type": "execute_result"
    }
   ],
   "source": [
    "df[\"int_col\"].nunique()"
   ]
  },
  {
   "cell_type": "code",
   "execution_count": 73,
   "metadata": {},
   "outputs": [
    {
     "data": {
      "text/plain": [
       "int_col\n",
       "Black        107674\n",
       "Beige         24495\n",
       "Gray          21204\n",
       "Brown          5810\n",
       "Red            5145\n",
       "White          4743\n",
       "–              4527\n",
       "Jet Black      2398\n",
       "Ebony          1833\n",
       "Orange          932\n",
       "Blue            743\n",
       "Name: count, dtype: int64"
      ]
     },
     "execution_count": 73,
     "metadata": {},
     "output_type": "execute_result"
    }
   ],
   "source": [
    "df[\"int_col\"].value_counts()[0:11]"
   ]
  },
  {
   "cell_type": "code",
   "execution_count": 74,
   "metadata": {},
   "outputs": [],
   "source": [
    "basic_colors = df[\"int_col\"].value_counts()[0:11].index.values"
   ]
  },
  {
   "cell_type": "code",
   "execution_count": 75,
   "metadata": {},
   "outputs": [
    {
     "data": {
      "text/plain": [
       "array(['Black', 'Beige', 'Gray', 'Brown', 'Red', 'White', '–',\n",
       "       'Jet Black', 'Ebony', 'Orange', 'Blue'], dtype=object)"
      ]
     },
     "execution_count": 75,
     "metadata": {},
     "output_type": "execute_result"
    }
   ],
   "source": [
    "basic_colors"
   ]
  },
  {
   "cell_type": "code",
   "execution_count": 76,
   "metadata": {},
   "outputs": [],
   "source": [
    "def colorUpdate(x,colors=basic_colors):\n",
    "    for color in colors:\n",
    "        if color.lower() in x.lower():\n",
    "            return color"
   ]
  },
  {
   "cell_type": "code",
   "execution_count": 77,
   "metadata": {},
   "outputs": [],
   "source": [
    "df[\"int_col\"] = df[\"int_col\"].apply(colorUpdate)"
   ]
  },
  {
   "cell_type": "code",
   "execution_count": 78,
   "metadata": {},
   "outputs": [
    {
     "data": {
      "text/plain": [
       "int_col\n",
       "Black     112677\n",
       "Beige      24917\n",
       "Gray       21500\n",
       "Brown       6017\n",
       "Red         5507\n",
       "White       4794\n",
       "–           4527\n",
       "Ebony       2094\n",
       "Orange       969\n",
       "Blue         833\n",
       "Name: count, dtype: int64"
      ]
     },
     "execution_count": 78,
     "metadata": {},
     "output_type": "execute_result"
    }
   ],
   "source": [
    "df[\"int_col\"].value_counts()"
   ]
  },
  {
   "cell_type": "code",
   "execution_count": 79,
   "metadata": {},
   "outputs": [
    {
     "data": {
      "text/plain": [
       "4698"
      ]
     },
     "execution_count": 79,
     "metadata": {},
     "output_type": "execute_result"
    }
   ],
   "source": [
    "df[\"int_col\"].isna().sum()"
   ]
  },
  {
   "cell_type": "code",
   "execution_count": 80,
   "metadata": {},
   "outputs": [],
   "source": [
    "df[\"int_col\"].fillna(\"Othre\",inplace=True)"
   ]
  },
  {
   "cell_type": "markdown",
   "metadata": {},
   "source": [
    "Making brand ranking column based on their average price"
   ]
  },
  {
   "cell_type": "code",
   "execution_count": 81,
   "metadata": {},
   "outputs": [],
   "source": [
    "plotting = df.groupby(\"brand\")[\"price\"].mean().reset_index().sort_values(\"price\",ascending=False)"
   ]
  },
  {
   "cell_type": "code",
   "execution_count": 82,
   "metadata": {},
   "outputs": [
    {
     "data": {
      "text/html": [
       "<div>\n",
       "<style scoped>\n",
       "    .dataframe tbody tr th:only-of-type {\n",
       "        vertical-align: middle;\n",
       "    }\n",
       "\n",
       "    .dataframe tbody tr th {\n",
       "        vertical-align: top;\n",
       "    }\n",
       "\n",
       "    .dataframe thead th {\n",
       "        text-align: right;\n",
       "    }\n",
       "</style>\n",
       "<table border=\"1\" class=\"dataframe\">\n",
       "  <thead>\n",
       "    <tr style=\"text-align: right;\">\n",
       "      <th></th>\n",
       "      <th>price</th>\n",
       "    </tr>\n",
       "  </thead>\n",
       "  <tbody>\n",
       "    <tr>\n",
       "      <th>count</th>\n",
       "      <td>57.000000</td>\n",
       "    </tr>\n",
       "    <tr>\n",
       "      <th>mean</th>\n",
       "      <td>48869.116009</td>\n",
       "    </tr>\n",
       "    <tr>\n",
       "      <th>std</th>\n",
       "      <td>36030.718134</td>\n",
       "    </tr>\n",
       "    <tr>\n",
       "      <th>min</th>\n",
       "      <td>14652.416667</td>\n",
       "    </tr>\n",
       "    <tr>\n",
       "      <th>25%</th>\n",
       "      <td>28095.000000</td>\n",
       "    </tr>\n",
       "    <tr>\n",
       "      <th>50%</th>\n",
       "      <td>34801.090131</td>\n",
       "    </tr>\n",
       "    <tr>\n",
       "      <th>75%</th>\n",
       "      <td>53204.880000</td>\n",
       "    </tr>\n",
       "    <tr>\n",
       "      <th>max</th>\n",
       "      <td>169600.000000</td>\n",
       "    </tr>\n",
       "  </tbody>\n",
       "</table>\n",
       "</div>"
      ],
      "text/plain": [
       "               price\n",
       "count      57.000000\n",
       "mean    48869.116009\n",
       "std     36030.718134\n",
       "min     14652.416667\n",
       "25%     28095.000000\n",
       "50%     34801.090131\n",
       "75%     53204.880000\n",
       "max    169600.000000"
      ]
     },
     "execution_count": 82,
     "metadata": {},
     "output_type": "execute_result"
    }
   ],
   "source": [
    "plotting.describe()"
   ]
  },
  {
   "cell_type": "code",
   "execution_count": 83,
   "metadata": {},
   "outputs": [
    {
     "data": {
      "text/plain": [
       "<Axes: xlabel='price', ylabel='brand'>"
      ]
     },
     "execution_count": 83,
     "metadata": {},
     "output_type": "execute_result"
    },
    {
     "data": {
      "image/png": "[encoded data removed]",
      "text/plain": [
       "<Figure size 1000x1000 with 1 Axes>"
      ]
     },
     "metadata": {},
     "output_type": "display_data"
    }
   ],
   "source": [
    "sns.set_theme(font_scale=1)\n",
    "plt.figure(figsize=(10,10))\n",
    "sns.barplot(data=plotting, y=\"brand\", x=\"price\")"
   ]
  },
  {
   "cell_type": "code",
   "execution_count": 84,
   "metadata": {},
   "outputs": [],
   "source": [
    "luxury_brand = plotting.iloc[:7,0].values\n",
    "premium_brand = plotting.iloc[7:21,0].values\n",
    "mass_market_brand = plotting.iloc[21:49,0].values\n",
    "budget_brand = plotting.iloc[49:,0].values"
   ]
  },
  {
   "cell_type": "code",
   "execution_count": 85,
   "metadata": {},
   "outputs": [],
   "source": [
    "def brandRank(x):\n",
    "    if x in luxury_brand:\n",
    "        return \"luxury\"\n",
    "    elif x in premium_brand:\n",
    "        return \"premium\"\n",
    "    elif x in mass_market_brand:\n",
    "        return \"mass_market\"\n",
    "    elif x in budget_brand:\n",
    "        return \"budget\"\n",
    "    else:\n",
    "        return \"other\""
   ]
  },
  {
   "cell_type": "code",
   "execution_count": 86,
   "metadata": {},
   "outputs": [],
   "source": [
    "df[\"brand_category\"] = df[\"brand\"].apply(brandRank)"
   ]
  },
  {
   "cell_type": "code",
   "execution_count": 87,
   "metadata": {},
   "outputs": [
    {
     "data": {
      "text/html": [
       "<div>\n",
       "<style scoped>\n",
       "    .dataframe tbody tr th:only-of-type {\n",
       "        vertical-align: middle;\n",
       "    }\n",
       "\n",
       "    .dataframe tbody tr th {\n",
       "        vertical-align: top;\n",
       "    }\n",
       "\n",
       "    .dataframe thead th {\n",
       "        text-align: right;\n",
       "    }\n",
       "</style>\n",
       "<table border=\"1\" class=\"dataframe\">\n",
       "  <thead>\n",
       "    <tr style=\"text-align: right;\">\n",
       "      <th></th>\n",
       "      <th>brand</th>\n",
       "      <th>model</th>\n",
       "      <th>model_year</th>\n",
       "      <th>milage</th>\n",
       "      <th>fuel_type</th>\n",
       "      <th>engine</th>\n",
       "      <th>transmission</th>\n",
       "      <th>ext_col</th>\n",
       "      <th>int_col</th>\n",
       "      <th>accident</th>\n",
       "      <th>clean_title</th>\n",
       "      <th>price</th>\n",
       "      <th>horsepower</th>\n",
       "      <th>engine_capacity</th>\n",
       "      <th>engine_cylinders</th>\n",
       "      <th>car_age</th>\n",
       "      <th>milage_per_year</th>\n",
       "      <th>power_ratio</th>\n",
       "      <th>brand_category</th>\n",
       "    </tr>\n",
       "  </thead>\n",
       "  <tbody>\n",
       "    <tr>\n",
       "      <th>0</th>\n",
       "      <td>MINI</td>\n",
       "      <td>Cooper S Base</td>\n",
       "      <td>2007</td>\n",
       "      <td>213000</td>\n",
       "      <td>Gasoline</td>\n",
       "      <td>172.0HP 1.6L 4 Cylinder Engine Gasoline Fuel</td>\n",
       "      <td>a/t</td>\n",
       "      <td>Yellow</td>\n",
       "      <td>Gray</td>\n",
       "      <td>None reported</td>\n",
       "      <td>Yes</td>\n",
       "      <td>4200</td>\n",
       "      <td>172</td>\n",
       "      <td>1.6</td>\n",
       "      <td>4</td>\n",
       "      <td>17</td>\n",
       "      <td>12529.411765</td>\n",
       "      <td>107.500000</td>\n",
       "      <td>budget</td>\n",
       "    </tr>\n",
       "    <tr>\n",
       "      <th>1</th>\n",
       "      <td>Lincoln</td>\n",
       "      <td>LS V8</td>\n",
       "      <td>2002</td>\n",
       "      <td>143250</td>\n",
       "      <td>Gasoline</td>\n",
       "      <td>252.0HP 3.9L 8 Cylinder Engine Gasoline Fuel</td>\n",
       "      <td>a/t</td>\n",
       "      <td>Silver</td>\n",
       "      <td>Beige</td>\n",
       "      <td>At least 1 accident or damage reported</td>\n",
       "      <td>Yes</td>\n",
       "      <td>4999</td>\n",
       "      <td>252</td>\n",
       "      <td>3.9</td>\n",
       "      <td>8</td>\n",
       "      <td>22</td>\n",
       "      <td>6511.363636</td>\n",
       "      <td>64.615385</td>\n",
       "      <td>mass_market</td>\n",
       "    </tr>\n",
       "    <tr>\n",
       "      <th>2</th>\n",
       "      <td>Chevrolet</td>\n",
       "      <td>Silverado 2500 LT</td>\n",
       "      <td>2002</td>\n",
       "      <td>136731</td>\n",
       "      <td>E85 Flex Fuel</td>\n",
       "      <td>320.0HP 5.3L 8 Cylinder Engine Flex Fuel Capab...</td>\n",
       "      <td>a/t</td>\n",
       "      <td>Blue</td>\n",
       "      <td>Gray</td>\n",
       "      <td>None reported</td>\n",
       "      <td>Yes</td>\n",
       "      <td>13900</td>\n",
       "      <td>320</td>\n",
       "      <td>5.3</td>\n",
       "      <td>8</td>\n",
       "      <td>22</td>\n",
       "      <td>6215.045455</td>\n",
       "      <td>60.377358</td>\n",
       "      <td>mass_market</td>\n",
       "    </tr>\n",
       "    <tr>\n",
       "      <th>3</th>\n",
       "      <td>Genesis</td>\n",
       "      <td>G90 5.0 Ultimate</td>\n",
       "      <td>2017</td>\n",
       "      <td>19500</td>\n",
       "      <td>Gasoline</td>\n",
       "      <td>420.0HP 5.0L 8 Cylinder Engine Gasoline Fuel</td>\n",
       "      <td>transmission w/dual shift mode</td>\n",
       "      <td>Black</td>\n",
       "      <td>Black</td>\n",
       "      <td>None reported</td>\n",
       "      <td>Yes</td>\n",
       "      <td>45000</td>\n",
       "      <td>420</td>\n",
       "      <td>5.0</td>\n",
       "      <td>8</td>\n",
       "      <td>7</td>\n",
       "      <td>2785.714286</td>\n",
       "      <td>84.000000</td>\n",
       "      <td>premium</td>\n",
       "    </tr>\n",
       "    <tr>\n",
       "      <th>4</th>\n",
       "      <td>Mercedes-Benz</td>\n",
       "      <td>Metris Base</td>\n",
       "      <td>2021</td>\n",
       "      <td>7388</td>\n",
       "      <td>Gasoline</td>\n",
       "      <td>208.0HP 2.0L 4 Cylinder Engine Gasoline Fuel</td>\n",
       "      <td>7-speed a/t</td>\n",
       "      <td>Black</td>\n",
       "      <td>Beige</td>\n",
       "      <td>None reported</td>\n",
       "      <td>Yes</td>\n",
       "      <td>97500</td>\n",
       "      <td>208</td>\n",
       "      <td>2.0</td>\n",
       "      <td>4</td>\n",
       "      <td>3</td>\n",
       "      <td>2462.666667</td>\n",
       "      <td>104.000000</td>\n",
       "      <td>premium</td>\n",
       "    </tr>\n",
       "  </tbody>\n",
       "</table>\n",
       "</div>"
      ],
      "text/plain": [
       "           brand              model  model_year  milage      fuel_type  \\\n",
       "0           MINI      Cooper S Base        2007  213000       Gasoline   \n",
       "1        Lincoln              LS V8        2002  143250       Gasoline   \n",
       "2      Chevrolet  Silverado 2500 LT        2002  136731  E85 Flex Fuel   \n",
       "3        Genesis   G90 5.0 Ultimate        2017   19500       Gasoline   \n",
       "4  Mercedes-Benz        Metris Base        2021    7388       Gasoline   \n",
       "\n",
       "                                              engine  \\\n",
       "0       172.0HP 1.6L 4 Cylinder Engine Gasoline Fuel   \n",
       "1       252.0HP 3.9L 8 Cylinder Engine Gasoline Fuel   \n",
       "2  320.0HP 5.3L 8 Cylinder Engine Flex Fuel Capab...   \n",
       "3       420.0HP 5.0L 8 Cylinder Engine Gasoline Fuel   \n",
       "4       208.0HP 2.0L 4 Cylinder Engine Gasoline Fuel   \n",
       "\n",
       "                     transmission ext_col int_col  \\\n",
       "0                             a/t  Yellow    Gray   \n",
       "1                             a/t  Silver   Beige   \n",
       "2                             a/t    Blue    Gray   \n",
       "3  transmission w/dual shift mode   Black   Black   \n",
       "4                     7-speed a/t   Black   Beige   \n",
       "\n",
       "                                 accident clean_title  price  horsepower  \\\n",
       "0                           None reported         Yes   4200         172   \n",
       "1  At least 1 accident or damage reported         Yes   4999         252   \n",
       "2                           None reported         Yes  13900         320   \n",
       "3                           None reported         Yes  45000         420   \n",
       "4                           None reported         Yes  97500         208   \n",
       "\n",
       "   engine_capacity  engine_cylinders  car_age  milage_per_year  power_ratio  \\\n",
       "0              1.6                 4       17     12529.411765   107.500000   \n",
       "1              3.9                 8       22      6511.363636    64.615385   \n",
       "2              5.3                 8       22      6215.045455    60.377358   \n",
       "3              5.0                 8        7      2785.714286    84.000000   \n",
       "4              2.0                 4        3      2462.666667   104.000000   \n",
       "\n",
       "  brand_category  \n",
       "0         budget  \n",
       "1    mass_market  \n",
       "2    mass_market  \n",
       "3        premium  \n",
       "4        premium  "
      ]
     },
     "execution_count": 87,
     "metadata": {},
     "output_type": "execute_result"
    }
   ],
   "source": [
    "df.head()"
   ]
  },
  {
   "cell_type": "markdown",
   "metadata": {},
   "source": [
    "Removing unnecessary columns and changing order for easier interpretation"
   ]
  },
  {
   "cell_type": "code",
   "execution_count": 88,
   "metadata": {},
   "outputs": [],
   "source": [
    "df.drop(columns=[\"model\", \"model_year\",\"engine\"],inplace=True)"
   ]
  },
  {
   "cell_type": "code",
   "execution_count": 89,
   "metadata": {},
   "outputs": [
    {
     "data": {
      "text/html": [
       "<div>\n",
       "<style scoped>\n",
       "    .dataframe tbody tr th:only-of-type {\n",
       "        vertical-align: middle;\n",
       "    }\n",
       "\n",
       "    .dataframe tbody tr th {\n",
       "        vertical-align: top;\n",
       "    }\n",
       "\n",
       "    .dataframe thead th {\n",
       "        text-align: right;\n",
       "    }\n",
       "</style>\n",
       "<table border=\"1\" class=\"dataframe\">\n",
       "  <thead>\n",
       "    <tr style=\"text-align: right;\">\n",
       "      <th></th>\n",
       "      <th>brand</th>\n",
       "      <th>milage</th>\n",
       "      <th>fuel_type</th>\n",
       "      <th>transmission</th>\n",
       "      <th>ext_col</th>\n",
       "      <th>int_col</th>\n",
       "      <th>accident</th>\n",
       "      <th>clean_title</th>\n",
       "      <th>price</th>\n",
       "      <th>horsepower</th>\n",
       "      <th>engine_capacity</th>\n",
       "      <th>engine_cylinders</th>\n",
       "      <th>car_age</th>\n",
       "      <th>milage_per_year</th>\n",
       "      <th>power_ratio</th>\n",
       "      <th>brand_category</th>\n",
       "    </tr>\n",
       "  </thead>\n",
       "  <tbody>\n",
       "    <tr>\n",
       "      <th>0</th>\n",
       "      <td>MINI</td>\n",
       "      <td>213000</td>\n",
       "      <td>Gasoline</td>\n",
       "      <td>a/t</td>\n",
       "      <td>Yellow</td>\n",
       "      <td>Gray</td>\n",
       "      <td>None reported</td>\n",
       "      <td>Yes</td>\n",
       "      <td>4200</td>\n",
       "      <td>172</td>\n",
       "      <td>1.6</td>\n",
       "      <td>4</td>\n",
       "      <td>17</td>\n",
       "      <td>12529.411765</td>\n",
       "      <td>107.500000</td>\n",
       "      <td>budget</td>\n",
       "    </tr>\n",
       "    <tr>\n",
       "      <th>1</th>\n",
       "      <td>Lincoln</td>\n",
       "      <td>143250</td>\n",
       "      <td>Gasoline</td>\n",
       "      <td>a/t</td>\n",
       "      <td>Silver</td>\n",
       "      <td>Beige</td>\n",
       "      <td>At least 1 accident or damage reported</td>\n",
       "      <td>Yes</td>\n",
       "      <td>4999</td>\n",
       "      <td>252</td>\n",
       "      <td>3.9</td>\n",
       "      <td>8</td>\n",
       "      <td>22</td>\n",
       "      <td>6511.363636</td>\n",
       "      <td>64.615385</td>\n",
       "      <td>mass_market</td>\n",
       "    </tr>\n",
       "    <tr>\n",
       "      <th>2</th>\n",
       "      <td>Chevrolet</td>\n",
       "      <td>136731</td>\n",
       "      <td>E85 Flex Fuel</td>\n",
       "      <td>a/t</td>\n",
       "      <td>Blue</td>\n",
       "      <td>Gray</td>\n",
       "      <td>None reported</td>\n",
       "      <td>Yes</td>\n",
       "      <td>13900</td>\n",
       "      <td>320</td>\n",
       "      <td>5.3</td>\n",
       "      <td>8</td>\n",
       "      <td>22</td>\n",
       "      <td>6215.045455</td>\n",
       "      <td>60.377358</td>\n",
       "      <td>mass_market</td>\n",
       "    </tr>\n",
       "    <tr>\n",
       "      <th>3</th>\n",
       "      <td>Genesis</td>\n",
       "      <td>19500</td>\n",
       "      <td>Gasoline</td>\n",
       "      <td>transmission w/dual shift mode</td>\n",
       "      <td>Black</td>\n",
       "      <td>Black</td>\n",
       "      <td>None reported</td>\n",
       "      <td>Yes</td>\n",
       "      <td>45000</td>\n",
       "      <td>420</td>\n",
       "      <td>5.0</td>\n",
       "      <td>8</td>\n",
       "      <td>7</td>\n",
       "      <td>2785.714286</td>\n",
       "      <td>84.000000</td>\n",
       "      <td>premium</td>\n",
       "    </tr>\n",
       "    <tr>\n",
       "      <th>4</th>\n",
       "      <td>Mercedes-Benz</td>\n",
       "      <td>7388</td>\n",
       "      <td>Gasoline</td>\n",
       "      <td>7-speed a/t</td>\n",
       "      <td>Black</td>\n",
       "      <td>Beige</td>\n",
       "      <td>None reported</td>\n",
       "      <td>Yes</td>\n",
       "      <td>97500</td>\n",
       "      <td>208</td>\n",
       "      <td>2.0</td>\n",
       "      <td>4</td>\n",
       "      <td>3</td>\n",
       "      <td>2462.666667</td>\n",
       "      <td>104.000000</td>\n",
       "      <td>premium</td>\n",
       "    </tr>\n",
       "  </tbody>\n",
       "</table>\n",
       "</div>"
      ],
      "text/plain": [
       "           brand  milage      fuel_type                    transmission  \\\n",
       "0           MINI  213000       Gasoline                             a/t   \n",
       "1        Lincoln  143250       Gasoline                             a/t   \n",
       "2      Chevrolet  136731  E85 Flex Fuel                             a/t   \n",
       "3        Genesis   19500       Gasoline  transmission w/dual shift mode   \n",
       "4  Mercedes-Benz    7388       Gasoline                     7-speed a/t   \n",
       "\n",
       "  ext_col int_col                                accident clean_title  price  \\\n",
       "0  Yellow    Gray                           None reported         Yes   4200   \n",
       "1  Silver   Beige  At least 1 accident or damage reported         Yes   4999   \n",
       "2    Blue    Gray                           None reported         Yes  13900   \n",
       "3   Black   Black                           None reported         Yes  45000   \n",
       "4   Black   Beige                           None reported         Yes  97500   \n",
       "\n",
       "   horsepower  engine_capacity  engine_cylinders  car_age  milage_per_year  \\\n",
       "0         172              1.6                 4       17     12529.411765   \n",
       "1         252              3.9                 8       22      6511.363636   \n",
       "2         320              5.3                 8       22      6215.045455   \n",
       "3         420              5.0                 8        7      2785.714286   \n",
       "4         208              2.0                 4        3      2462.666667   \n",
       "\n",
       "   power_ratio brand_category  \n",
       "0   107.500000         budget  \n",
       "1    64.615385    mass_market  \n",
       "2    60.377358    mass_market  \n",
       "3    84.000000        premium  \n",
       "4   104.000000        premium  "
      ]
     },
     "execution_count": 89,
     "metadata": {},
     "output_type": "execute_result"
    }
   ],
   "source": [
    "df.head()"
   ]
  },
  {
   "cell_type": "code",
   "execution_count": 90,
   "metadata": {},
   "outputs": [
    {
     "data": {
      "text/plain": [
       "['brand',\n",
       " 'milage',\n",
       " 'fuel_type',\n",
       " 'transmission',\n",
       " 'ext_col',\n",
       " 'int_col',\n",
       " 'accident',\n",
       " 'clean_title',\n",
       " 'horsepower',\n",
       " 'engine_capacity',\n",
       " 'engine_cylinders',\n",
       " 'car_age',\n",
       " 'milage_per_year',\n",
       " 'power_ratio',\n",
       " 'brand_category',\n",
       " 'price']"
      ]
     },
     "execution_count": 90,
     "metadata": {},
     "output_type": "execute_result"
    }
   ],
   "source": [
    "column_names = list(df.columns.values)\n",
    "column_names_arr = column_names[:8] + column_names[-7:]\n",
    "column_names_arr.append(column_names[-8])\n",
    "column_names_arr"
   ]
  },
  {
   "cell_type": "code",
   "execution_count": 91,
   "metadata": {},
   "outputs": [],
   "source": [
    "df = df.loc[:,column_names_arr]"
   ]
  },
  {
   "cell_type": "code",
   "execution_count": 92,
   "metadata": {},
   "outputs": [
    {
     "data": {
      "text/html": [
       "<div>\n",
       "<style scoped>\n",
       "    .dataframe tbody tr th:only-of-type {\n",
       "        vertical-align: middle;\n",
       "    }\n",
       "\n",
       "    .dataframe tbody tr th {\n",
       "        vertical-align: top;\n",
       "    }\n",
       "\n",
       "    .dataframe thead th {\n",
       "        text-align: right;\n",
       "    }\n",
       "</style>\n",
       "<table border=\"1\" class=\"dataframe\">\n",
       "  <thead>\n",
       "    <tr style=\"text-align: right;\">\n",
       "      <th></th>\n",
       "      <th>brand</th>\n",
       "      <th>milage</th>\n",
       "      <th>fuel_type</th>\n",
       "      <th>transmission</th>\n",
       "      <th>ext_col</th>\n",
       "      <th>int_col</th>\n",
       "      <th>accident</th>\n",
       "      <th>clean_title</th>\n",
       "      <th>horsepower</th>\n",
       "      <th>engine_capacity</th>\n",
       "      <th>engine_cylinders</th>\n",
       "      <th>car_age</th>\n",
       "      <th>milage_per_year</th>\n",
       "      <th>power_ratio</th>\n",
       "      <th>brand_category</th>\n",
       "      <th>price</th>\n",
       "    </tr>\n",
       "  </thead>\n",
       "  <tbody>\n",
       "    <tr>\n",
       "      <th>0</th>\n",
       "      <td>MINI</td>\n",
       "      <td>213000</td>\n",
       "      <td>Gasoline</td>\n",
       "      <td>a/t</td>\n",
       "      <td>Yellow</td>\n",
       "      <td>Gray</td>\n",
       "      <td>None reported</td>\n",
       "      <td>Yes</td>\n",
       "      <td>172</td>\n",
       "      <td>1.6</td>\n",
       "      <td>4</td>\n",
       "      <td>17</td>\n",
       "      <td>12529.411765</td>\n",
       "      <td>107.500000</td>\n",
       "      <td>budget</td>\n",
       "      <td>4200</td>\n",
       "    </tr>\n",
       "    <tr>\n",
       "      <th>1</th>\n",
       "      <td>Lincoln</td>\n",
       "      <td>143250</td>\n",
       "      <td>Gasoline</td>\n",
       "      <td>a/t</td>\n",
       "      <td>Silver</td>\n",
       "      <td>Beige</td>\n",
       "      <td>At least 1 accident or damage reported</td>\n",
       "      <td>Yes</td>\n",
       "      <td>252</td>\n",
       "      <td>3.9</td>\n",
       "      <td>8</td>\n",
       "      <td>22</td>\n",
       "      <td>6511.363636</td>\n",
       "      <td>64.615385</td>\n",
       "      <td>mass_market</td>\n",
       "      <td>4999</td>\n",
       "    </tr>\n",
       "    <tr>\n",
       "      <th>2</th>\n",
       "      <td>Chevrolet</td>\n",
       "      <td>136731</td>\n",
       "      <td>E85 Flex Fuel</td>\n",
       "      <td>a/t</td>\n",
       "      <td>Blue</td>\n",
       "      <td>Gray</td>\n",
       "      <td>None reported</td>\n",
       "      <td>Yes</td>\n",
       "      <td>320</td>\n",
       "      <td>5.3</td>\n",
       "      <td>8</td>\n",
       "      <td>22</td>\n",
       "      <td>6215.045455</td>\n",
       "      <td>60.377358</td>\n",
       "      <td>mass_market</td>\n",
       "      <td>13900</td>\n",
       "    </tr>\n",
       "    <tr>\n",
       "      <th>3</th>\n",
       "      <td>Genesis</td>\n",
       "      <td>19500</td>\n",
       "      <td>Gasoline</td>\n",
       "      <td>transmission w/dual shift mode</td>\n",
       "      <td>Black</td>\n",
       "      <td>Black</td>\n",
       "      <td>None reported</td>\n",
       "      <td>Yes</td>\n",
       "      <td>420</td>\n",
       "      <td>5.0</td>\n",
       "      <td>8</td>\n",
       "      <td>7</td>\n",
       "      <td>2785.714286</td>\n",
       "      <td>84.000000</td>\n",
       "      <td>premium</td>\n",
       "      <td>45000</td>\n",
       "    </tr>\n",
       "    <tr>\n",
       "      <th>4</th>\n",
       "      <td>Mercedes-Benz</td>\n",
       "      <td>7388</td>\n",
       "      <td>Gasoline</td>\n",
       "      <td>7-speed a/t</td>\n",
       "      <td>Black</td>\n",
       "      <td>Beige</td>\n",
       "      <td>None reported</td>\n",
       "      <td>Yes</td>\n",
       "      <td>208</td>\n",
       "      <td>2.0</td>\n",
       "      <td>4</td>\n",
       "      <td>3</td>\n",
       "      <td>2462.666667</td>\n",
       "      <td>104.000000</td>\n",
       "      <td>premium</td>\n",
       "      <td>97500</td>\n",
       "    </tr>\n",
       "  </tbody>\n",
       "</table>\n",
       "</div>"
      ],
      "text/plain": [
       "           brand  milage      fuel_type                    transmission  \\\n",
       "0           MINI  213000       Gasoline                             a/t   \n",
       "1        Lincoln  143250       Gasoline                             a/t   \n",
       "2      Chevrolet  136731  E85 Flex Fuel                             a/t   \n",
       "3        Genesis   19500       Gasoline  transmission w/dual shift mode   \n",
       "4  Mercedes-Benz    7388       Gasoline                     7-speed a/t   \n",
       "\n",
       "  ext_col int_col                                accident clean_title  \\\n",
       "0  Yellow    Gray                           None reported         Yes   \n",
       "1  Silver   Beige  At least 1 accident or damage reported         Yes   \n",
       "2    Blue    Gray                           None reported         Yes   \n",
       "3   Black   Black                           None reported         Yes   \n",
       "4   Black   Beige                           None reported         Yes   \n",
       "\n",
       "   horsepower  engine_capacity  engine_cylinders  car_age  milage_per_year  \\\n",
       "0         172              1.6                 4       17     12529.411765   \n",
       "1         252              3.9                 8       22      6511.363636   \n",
       "2         320              5.3                 8       22      6215.045455   \n",
       "3         420              5.0                 8        7      2785.714286   \n",
       "4         208              2.0                 4        3      2462.666667   \n",
       "\n",
       "   power_ratio brand_category  price  \n",
       "0   107.500000         budget   4200  \n",
       "1    64.615385    mass_market   4999  \n",
       "2    60.377358    mass_market  13900  \n",
       "3    84.000000        premium  45000  \n",
       "4   104.000000        premium  97500  "
      ]
     },
     "execution_count": 92,
     "metadata": {},
     "output_type": "execute_result"
    }
   ],
   "source": [
    "df.head()"
   ]
  },
  {
   "cell_type": "markdown",
   "metadata": {},
   "source": [
    "## Preparing data for model prediciton"
   ]
  },
  {
   "cell_type": "code",
   "execution_count": 93,
   "metadata": {},
   "outputs": [],
   "source": [
    "from sklearn.pipeline import Pipeline\n",
    "from sklearn.compose import ColumnTransformer\n",
    "from sklearn.preprocessing import OneHotEncoder,PowerTransformer,StandardScaler\n",
    "from sklearn.model_selection import train_test_split,cross_validate,cross_val_score,RandomizedSearchCV,StratifiedKFold\n",
    "from sklearn.feature_selection import SelectKBest,chi2\n",
    "from sklearn.metrics import mean_squared_error"
   ]
  },
  {
   "cell_type": "code",
   "execution_count": 94,
   "metadata": {},
   "outputs": [
    {
     "name": "stdout",
     "output_type": "stream",
     "text": [
      "(188533, 15)\n",
      "(188533,)\n"
     ]
    }
   ],
   "source": [
    "X = df.iloc[:,:-1]\n",
    "y = df.iloc[:,-1]\n",
    "\n",
    "print(X.shape)\n",
    "print(y.shape)"
   ]
  },
  {
   "cell_type": "code",
   "execution_count": 95,
   "metadata": {},
   "outputs": [],
   "source": [
    "X_train, X_test, y_train, y_test = train_test_split(X,y,test_size=0.2)"
   ]
  },
  {
   "cell_type": "code",
   "execution_count": 96,
   "metadata": {},
   "outputs": [
    {
     "data": {
      "text/plain": [
       "array(['brand', 'fuel_type', 'transmission', 'ext_col', 'int_col',\n",
       "       'accident', 'clean_title', 'brand_category'], dtype=object)"
      ]
     },
     "execution_count": 96,
     "metadata": {},
     "output_type": "execute_result"
    }
   ],
   "source": [
    "category_columns = X_train.select_dtypes([\"object\"]).columns.values\n",
    "category_columns"
   ]
  },
  {
   "cell_type": "code",
   "execution_count": 97,
   "metadata": {},
   "outputs": [
    {
     "data": {
      "text/plain": [
       "array(['milage', 'horsepower', 'engine_capacity', 'engine_cylinders',\n",
       "       'car_age', 'milage_per_year', 'power_ratio'], dtype=object)"
      ]
     },
     "execution_count": 97,
     "metadata": {},
     "output_type": "execute_result"
    }
   ],
   "source": [
    "numeric_columns = X_train.select_dtypes([\"int64\",\"float64\"]).columns.values\n",
    "numeric_columns"
   ]
  },
  {
   "cell_type": "code",
   "execution_count": 98,
   "metadata": {},
   "outputs": [],
   "source": [
    "numeric_pipeline = Pipeline(steps=[\n",
    "    (\"pwr\",PowerTransformer(method=\"yeo-johnson\")),\n",
    "    #(\"std\",StandardScaler())\n",
    "])"
   ]
  },
  {
   "cell_type": "code",
   "execution_count": 99,
   "metadata": {},
   "outputs": [],
   "source": [
    "category_pipeline = Pipeline(steps=[\n",
    "    (\"onehot\",OneHotEncoder(handle_unknown='ignore')),\n",
    "    #(\"kbest\",SelectKBest(chi2,k=200))\n",
    "])"
   ]
  },
  {
   "cell_type": "code",
   "execution_count": 100,
   "metadata": {},
   "outputs": [],
   "source": [
    "preprocess = ColumnTransformer(transformers=[\n",
    "    (\"num\",numeric_pipeline,numeric_columns),\n",
    "    (\"cat\",category_pipeline,category_columns)\n",
    "],remainder=\"passthrough\",sparse_threshold=0)"
   ]
  },
  {
   "cell_type": "markdown",
   "metadata": {},
   "source": [
    "## Making models"
   ]
  },
  {
   "cell_type": "code",
   "execution_count": 101,
   "metadata": {},
   "outputs": [],
   "source": [
    "from sklearn.linear_model import LinearRegression, Ridge, Lasso\n",
    "from sklearn.neighbors import KNeighborsRegressor\n",
    "from sklearn.tree import DecisionTreeRegressor\n",
    "from sklearn.svm import SVR\n",
    "from sklearn.ensemble import RandomForestRegressor, HistGradientBoostingRegressor,  AdaBoostRegressor\n",
    "from xgboost import XGBRegressor\n",
    "from catboost import CatBoostRegressor\n",
    "from lightgbm import LGBMRegressor"
   ]
  },
  {
   "cell_type": "code",
   "execution_count": 102,
   "metadata": {},
   "outputs": [],
   "source": [
    "used_models = [CatBoostRegressor(verbose=False),LGBMRegressor(verbose=0),XGBRegressor(),LinearRegression(),HistGradientBoostingRegressor()]\n",
    "\n",
    "names_models = [\"Catboost\", \"LGBM\",\"XGboost\",\"Linear regression\",\"Histboost\"]\n",
    "\n",
    "df_base_models = pd.DataFrame(columns=[\"Model\",\"Train RMSE\",\"Test RMSE\"])"
   ]
  },
  {
   "cell_type": "code",
   "execution_count": 103,
   "metadata": {},
   "outputs": [
    {
     "data": {
      "text/html": [
       "<div>\n",
       "<style scoped>\n",
       "    .dataframe tbody tr th:only-of-type {\n",
       "        vertical-align: middle;\n",
       "    }\n",
       "\n",
       "    .dataframe tbody tr th {\n",
       "        vertical-align: top;\n",
       "    }\n",
       "\n",
       "    .dataframe thead th {\n",
       "        text-align: right;\n",
       "    }\n",
       "</style>\n",
       "<table border=\"1\" class=\"dataframe\">\n",
       "  <thead>\n",
       "    <tr style=\"text-align: right;\">\n",
       "      <th></th>\n",
       "      <th>Model</th>\n",
       "      <th>Train RMSE</th>\n",
       "      <th>Test RMSE</th>\n",
       "    </tr>\n",
       "  </thead>\n",
       "  <tbody>\n",
       "    <tr>\n",
       "      <th>4</th>\n",
       "      <td>Histboost</td>\n",
       "      <td>7.386338e+04</td>\n",
       "      <td>69188.14950</td>\n",
       "    </tr>\n",
       "    <tr>\n",
       "      <th>1</th>\n",
       "      <td>LGBM</td>\n",
       "      <td>7.399333e+04</td>\n",
       "      <td>69237.02419</td>\n",
       "    </tr>\n",
       "    <tr>\n",
       "      <th>0</th>\n",
       "      <td>Catboost</td>\n",
       "      <td>7.484543e+04</td>\n",
       "      <td>69595.50554</td>\n",
       "    </tr>\n",
       "    <tr>\n",
       "      <th>3</th>\n",
       "      <td>Linear regression</td>\n",
       "      <td>8.784533e+13</td>\n",
       "      <td>69721.85901</td>\n",
       "    </tr>\n",
       "    <tr>\n",
       "      <th>2</th>\n",
       "      <td>XGboost</td>\n",
       "      <td>7.686496e+04</td>\n",
       "      <td>70918.43149</td>\n",
       "    </tr>\n",
       "  </tbody>\n",
       "</table>\n",
       "</div>"
      ],
      "text/plain": [
       "               Model    Train RMSE    Test RMSE\n",
       "4          Histboost  7.386338e+04  69188.14950\n",
       "1               LGBM  7.399333e+04  69237.02419\n",
       "0           Catboost  7.484543e+04  69595.50554\n",
       "3  Linear regression  8.784533e+13  69721.85901\n",
       "2            XGboost  7.686496e+04  70918.43149"
      ]
     },
     "execution_count": 103,
     "metadata": {},
     "output_type": "execute_result"
    }
   ],
   "source": [
    "for name,model in zip(names_models,used_models):\n",
    "\n",
    "    pipeline_base_models = Pipeline(steps=[\n",
    "    (\"prep\",preprocess),\n",
    "    (name,model)\n",
    "    ])\n",
    "\n",
    "    result = cross_val_score(pipeline_base_models, X_train, y_train, cv=5,scoring=\"neg_mean_squared_error\",n_jobs=-1)\n",
    "\n",
    "    pipeline_base_models.fit(X_train,y_train)\n",
    "\n",
    "    y_hat = pipeline_base_models.predict(X_test)\n",
    "\n",
    "    df_base_models.loc[len(df_base_models)] = [name,round(np.sqrt(abs(result).mean()),5),round(np.sqrt(mean_squared_error(y_test,y_hat)),5)]\n",
    "\n",
    "df_base_models.sort_values(\"Test RMSE\")  \n"
   ]
  },
  {
   "cell_type": "markdown",
   "metadata": {},
   "source": [
    "### Blending models"
   ]
  },
  {
   "cell_type": "code",
   "execution_count": 104,
   "metadata": {},
   "outputs": [],
   "source": [
    "meta_x, meta_y, hist_hat, lgbm_hat ,cat_hat = pd.DataFrame(), pd.Series(), list(), list(), list()"
   ]
  },
  {
   "cell_type": "code",
   "execution_count": 105,
   "metadata": {},
   "outputs": [],
   "source": [
    "skf = StratifiedKFold(n_splits=5, shuffle=True, random_state=23)"
   ]
  },
  {
   "cell_type": "code",
   "execution_count": 106,
   "metadata": {},
   "outputs": [],
   "source": [
    "pipeline_cat = Pipeline(steps=[\n",
    "    (\"prepro\",preprocess),\n",
    "    (\"cat\",CatBoostRegressor(verbose=False))\n",
    "])\n",
    "pipeline_hist = Pipeline(steps=[\n",
    "    (\"prepro\",preprocess),\n",
    "    (\"hist\",HistGradientBoostingRegressor())\n",
    "])\n",
    "pipeline_lgbm = Pipeline(steps=[\n",
    "    (\"prepro\",preprocess),\n",
    "    (\"lgbm\",LGBMRegressor(verbose=0))\n",
    "])"
   ]
  },
  {
   "cell_type": "code",
   "execution_count": 107,
   "metadata": {},
   "outputs": [],
   "source": [
    "for train_ix, test_ix in skf.split(X_train,y_train):\n",
    "    train_x, test_x = X_train.iloc[train_ix],X_train.iloc[test_ix] \n",
    "    train_y, test_y = y_train.iloc[train_ix],y_train.iloc[test_ix]\n",
    "\n",
    "    meta_x = pd.concat([meta_x,test_x],axis=0)\n",
    "    meta_y = pd.concat([meta_y,test_y],axis=0)\n",
    "\n",
    "    pipeline_cat.fit(train_x,train_y)\n",
    "    cat_hat.extend(pipeline_cat.predict(test_x))\n",
    "\n",
    "    pipeline_hist.fit(train_x,train_y)\n",
    "    hist_hat.extend(pipeline_hist.predict(test_x))\n",
    "\n",
    "    pipeline_lgbm.fit(train_x,train_y)\n",
    "    lgbm_hat.extend(pipeline_lgbm.predict(test_x))\n"
   ]
  },
  {
   "cell_type": "code",
   "execution_count": 108,
   "metadata": {},
   "outputs": [],
   "source": [
    "pipeline_cat = Pipeline(steps=[\n",
    "    (\"prepro\",preprocess),\n",
    "    (\"cat\",CatBoostRegressor(verbose=False))\n",
    "])\n",
    "pipeline_hist = Pipeline(steps=[\n",
    "    (\"prepro\",preprocess),\n",
    "    (\"hist\",HistGradientBoostingRegressor())\n",
    "])\n",
    "pipeline_lgbm = Pipeline(steps=[\n",
    "    (\"prepro\",preprocess),\n",
    "    (\"lgbm\",LGBMRegressor(verbose=0))\n",
    "])"
   ]
  },
  {
   "cell_type": "code",
   "execution_count": 109,
   "metadata": {},
   "outputs": [
    {
     "data": {
      "text/html": [
       "<style>#sk-container-id-1 {\n",
       "  /* Definition of color scheme common for light and dark mode */\n",
       "  --sklearn-color-text: black;\n",
       "  --sklearn-color-line: gray;\n",
       "  /* Definition of color scheme for unfitted estimators */\n",
       "  --sklearn-color-unfitted-level-0: #fff5e6;\n",
       "  --sklearn-color-unfitted-level-1: #f6e4d2;\n",
       "  --sklearn-color-unfitted-level-2: #ffe0b3;\n",
       "  --sklearn-color-unfitted-level-3: chocolate;\n",
       "  /* Definition of color scheme for fitted estimators */\n",
       "  --sklearn-color-fitted-level-0: #f0f8ff;\n",
       "  --sklearn-color-fitted-level-1: #d4ebff;\n",
       "  --sklearn-color-fitted-level-2: #b3dbfd;\n",
       "  --sklearn-color-fitted-level-3: cornflowerblue;\n",
       "\n",
       "  /* Specific color for light theme */\n",
       "  --sklearn-color-text-on-default-background: var(--sg-text-color, var(--theme-code-foreground, var(--jp-content-font-color1, black)));\n",
       "  --sklearn-color-background: var(--sg-background-color, var(--theme-background, var(--jp-layout-color0, white)));\n",
       "  --sklearn-color-border-box: var(--sg-text-color, var(--theme-code-foreground, var(--jp-content-font-color1, black)));\n",
       "  --sklearn-color-icon: #696969;\n",
       "\n",
       "  @media (prefers-color-scheme: dark) {\n",
       "    /* Redefinition of color scheme for dark theme */\n",
       "    --sklearn-color-text-on-default-background: var(--sg-text-color, var(--theme-code-foreground, var(--jp-content-font-color1, white)));\n",
       "    --sklearn-color-background: var(--sg-background-color, var(--theme-background, var(--jp-layout-color0, #111)));\n",
       "    --sklearn-color-border-box: var(--sg-text-color, var(--theme-code-foreground, var(--jp-content-font-color1, white)));\n",
       "    --sklearn-color-icon: #878787;\n",
       "  }\n",
       "}\n",
       "\n",
       "#sk-container-id-1 {\n",
       "  color: var(--sklearn-color-text);\n",
       "}\n",
       "\n",
       "#sk-container-id-1 pre {\n",
       "  padding: 0;\n",
       "}\n",
       "\n",
       "#sk-container-id-1 input.sk-hidden--visually {\n",
       "  border: 0;\n",
       "  clip: rect(1px 1px 1px 1px);\n",
       "  clip: rect(1px, 1px, 1px, 1px);\n",
       "  height: 1px;\n",
       "  margin: -1px;\n",
       "  overflow: hidden;\n",
       "  padding: 0;\n",
       "  position: absolute;\n",
       "  width: 1px;\n",
       "}\n",
       "\n",
       "#sk-container-id-1 div.sk-dashed-wrapped {\n",
       "  border: 1px dashed var(--sklearn-color-line);\n",
       "  margin: 0 0.4em 0.5em 0.4em;\n",
       "  box-sizing: border-box;\n",
       "  padding-bottom: 0.4em;\n",
       "  background-color: var(--sklearn-color-background);\n",
       "}\n",
       "\n",
       "#sk-container-id-1 div.sk-container {\n",
       "  /* jupyter's `normalize.less` sets `[hidden] { display: none; }`\n",
       "     but bootstrap.min.css set `[hidden] { display: none !important; }`\n",
       "     so we also need the `!important` here to be able to override the\n",
       "     default hidden behavior on the sphinx rendered scikit-learn.org.\n",
       "     See: https://github.com/scikit-learn/scikit-learn/issues/21755 */\n",
       "  display: inline-block !important;\n",
       "  position: relative;\n",
       "}\n",
       "\n",
       "#sk-container-id-1 div.sk-text-repr-fallback {\n",
       "  display: none;\n",
       "}\n",
       "\n",
       "div.sk-parallel-item,\n",
       "div.sk-serial,\n",
       "div.sk-item {\n",
       "  /* draw centered vertical line to link estimators */\n",
       "  background-image: linear-gradient(var(--sklearn-color-text-on-default-background), var(--sklearn-color-text-on-default-background));\n",
       "  background-size: 2px 100%;\n",
       "  background-repeat: no-repeat;\n",
       "  background-position: center center;\n",
       "}\n",
       "\n",
       "/* Parallel-specific style estimator block */\n",
       "\n",
       "#sk-container-id-1 div.sk-parallel-item::after {\n",
       "  content: \"\";\n",
       "  width: 100%;\n",
       "  border-bottom: 2px solid var(--sklearn-color-text-on-default-background);\n",
       "  flex-grow: 1;\n",
       "}\n",
       "\n",
       "#sk-container-id-1 div.sk-parallel {\n",
       "  display: flex;\n",
       "  align-items: stretch;\n",
       "  justify-content: center;\n",
       "  background-color: var(--sklearn-color-background);\n",
       "  position: relative;\n",
       "}\n",
       "\n",
       "#sk-container-id-1 div.sk-parallel-item {\n",
       "  display: flex;\n",
       "  flex-direction: column;\n",
       "}\n",
       "\n",
       "#sk-container-id-1 div.sk-parallel-item:first-child::after {\n",
       "  align-self: flex-end;\n",
       "  width: 50%;\n",
       "}\n",
       "\n",
       "#sk-container-id-1 div.sk-parallel-item:last-child::after {\n",
       "  align-self: flex-start;\n",
       "  width: 50%;\n",
       "}\n",
       "\n",
       "#sk-container-id-1 div.sk-parallel-item:only-child::after {\n",
       "  width: 0;\n",
       "}\n",
       "\n",
       "/* Serial-specific style estimator block */\n",
       "\n",
       "#sk-container-id-1 div.sk-serial {\n",
       "  display: flex;\n",
       "  flex-direction: column;\n",
       "  align-items: center;\n",
       "  background-color: var(--sklearn-color-background);\n",
       "  padding-right: 1em;\n",
       "  padding-left: 1em;\n",
       "}\n",
       "\n",
       "\n",
       "/* Toggleable style: style used for estimator/Pipeline/ColumnTransformer box that is\n",
       "clickable and can be expanded/collapsed.\n",
       "- Pipeline and ColumnTransformer use this feature and define the default style\n",
       "- Estimators will overwrite some part of the style using the `sk-estimator` class\n",
       "*/\n",
       "\n",
       "/* Pipeline and ColumnTransformer style (default) */\n",
       "\n",
       "#sk-container-id-1 div.sk-toggleable {\n",
       "  /* Default theme specific background. It is overwritten whether we have a\n",
       "  specific estimator or a Pipeline/ColumnTransformer */\n",
       "  background-color: var(--sklearn-color-background);\n",
       "}\n",
       "\n",
       "/* Toggleable label */\n",
       "#sk-container-id-1 label.sk-toggleable__label {\n",
       "  cursor: pointer;\n",
       "  display: block;\n",
       "  width: 100%;\n",
       "  margin-bottom: 0;\n",
       "  padding: 0.5em;\n",
       "  box-sizing: border-box;\n",
       "  text-align: center;\n",
       "}\n",
       "\n",
       "#sk-container-id-1 label.sk-toggleable__label-arrow:before {\n",
       "  /* Arrow on the left of the label */\n",
       "  content: \"▸\";\n",
       "  float: left;\n",
       "  margin-right: 0.25em;\n",
       "  color: var(--sklearn-color-icon);\n",
       "}\n",
       "\n",
       "#sk-container-id-1 label.sk-toggleable__label-arrow:hover:before {\n",
       "  color: var(--sklearn-color-text);\n",
       "}\n",
       "\n",
       "/* Toggleable content - dropdown */\n",
       "\n",
       "#sk-container-id-1 div.sk-toggleable__content {\n",
       "  max-height: 0;\n",
       "  max-width: 0;\n",
       "  overflow: hidden;\n",
       "  text-align: left;\n",
       "  /* unfitted */\n",
       "  background-color: var(--sklearn-color-unfitted-level-0);\n",
       "}\n",
       "\n",
       "#sk-container-id-1 div.sk-toggleable__content.fitted {\n",
       "  /* fitted */\n",
       "  background-color: var(--sklearn-color-fitted-level-0);\n",
       "}\n",
       "\n",
       "#sk-container-id-1 div.sk-toggleable__content pre {\n",
       "  margin: 0.2em;\n",
       "  border-radius: 0.25em;\n",
       "  color: var(--sklearn-color-text);\n",
       "  /* unfitted */\n",
       "  background-color: var(--sklearn-color-unfitted-level-0);\n",
       "}\n",
       "\n",
       "#sk-container-id-1 div.sk-toggleable__content.fitted pre {\n",
       "  /* unfitted */\n",
       "  background-color: var(--sklearn-color-fitted-level-0);\n",
       "}\n",
       "\n",
       "#sk-container-id-1 input.sk-toggleable__control:checked~div.sk-toggleable__content {\n",
       "  /* Expand drop-down */\n",
       "  max-height: 200px;\n",
       "  max-width: 100%;\n",
       "  overflow: auto;\n",
       "}\n",
       "\n",
       "#sk-container-id-1 input.sk-toggleable__control:checked~label.sk-toggleable__label-arrow:before {\n",
       "  content: \"▾\";\n",
       "}\n",
       "\n",
       "/* Pipeline/ColumnTransformer-specific style */\n",
       "\n",
       "#sk-container-id-1 div.sk-label input.sk-toggleable__control:checked~label.sk-toggleable__label {\n",
       "  color: var(--sklearn-color-text);\n",
       "  background-color: var(--sklearn-color-unfitted-level-2);\n",
       "}\n",
       "\n",
       "#sk-container-id-1 div.sk-label.fitted input.sk-toggleable__control:checked~label.sk-toggleable__label {\n",
       "  background-color: var(--sklearn-color-fitted-level-2);\n",
       "}\n",
       "\n",
       "/* Estimator-specific style */\n",
       "\n",
       "/* Colorize estimator box */\n",
       "#sk-container-id-1 div.sk-estimator input.sk-toggleable__control:checked~label.sk-toggleable__label {\n",
       "  /* unfitted */\n",
       "  background-color: var(--sklearn-color-unfitted-level-2);\n",
       "}\n",
       "\n",
       "#sk-container-id-1 div.sk-estimator.fitted input.sk-toggleable__control:checked~label.sk-toggleable__label {\n",
       "  /* fitted */\n",
       "  background-color: var(--sklearn-color-fitted-level-2);\n",
       "}\n",
       "\n",
       "#sk-container-id-1 div.sk-label label.sk-toggleable__label,\n",
       "#sk-container-id-1 div.sk-label label {\n",
       "  /* The background is the default theme color */\n",
       "  color: var(--sklearn-color-text-on-default-background);\n",
       "}\n",
       "\n",
       "/* On hover, darken the color of the background */\n",
       "#sk-container-id-1 div.sk-label:hover label.sk-toggleable__label {\n",
       "  color: var(--sklearn-color-text);\n",
       "  background-color: var(--sklearn-color-unfitted-level-2);\n",
       "}\n",
       "\n",
       "/* Label box, darken color on hover, fitted */\n",
       "#sk-container-id-1 div.sk-label.fitted:hover label.sk-toggleable__label.fitted {\n",
       "  color: var(--sklearn-color-text);\n",
       "  background-color: var(--sklearn-color-fitted-level-2);\n",
       "}\n",
       "\n",
       "/* Estimator label */\n",
       "\n",
       "#sk-container-id-1 div.sk-label label {\n",
       "  font-family: monospace;\n",
       "  font-weight: bold;\n",
       "  display: inline-block;\n",
       "  line-height: 1.2em;\n",
       "}\n",
       "\n",
       "#sk-container-id-1 div.sk-label-container {\n",
       "  text-align: center;\n",
       "}\n",
       "\n",
       "/* Estimator-specific */\n",
       "#sk-container-id-1 div.sk-estimator {\n",
       "  font-family: monospace;\n",
       "  border: 1px dotted var(--sklearn-color-border-box);\n",
       "  border-radius: 0.25em;\n",
       "  box-sizing: border-box;\n",
       "  margin-bottom: 0.5em;\n",
       "  /* unfitted */\n",
       "  background-color: var(--sklearn-color-unfitted-level-0);\n",
       "}\n",
       "\n",
       "#sk-container-id-1 div.sk-estimator.fitted {\n",
       "  /* fitted */\n",
       "  background-color: var(--sklearn-color-fitted-level-0);\n",
       "}\n",
       "\n",
       "/* on hover */\n",
       "#sk-container-id-1 div.sk-estimator:hover {\n",
       "  /* unfitted */\n",
       "  background-color: var(--sklearn-color-unfitted-level-2);\n",
       "}\n",
       "\n",
       "#sk-container-id-1 div.sk-estimator.fitted:hover {\n",
       "  /* fitted */\n",
       "  background-color: var(--sklearn-color-fitted-level-2);\n",
       "}\n",
       "\n",
       "/* Specification for estimator info (e.g. \"i\" and \"?\") */\n",
       "\n",
       "/* Common style for \"i\" and \"?\" */\n",
       "\n",
       ".sk-estimator-doc-link,\n",
       "a:link.sk-estimator-doc-link,\n",
       "a:visited.sk-estimator-doc-link {\n",
       "  float: right;\n",
       "  font-size: smaller;\n",
       "  line-height: 1em;\n",
       "  font-family: monospace;\n",
       "  background-color: var(--sklearn-color-background);\n",
       "  border-radius: 1em;\n",
       "  height: 1em;\n",
       "  width: 1em;\n",
       "  text-decoration: none !important;\n",
       "  margin-left: 1ex;\n",
       "  /* unfitted */\n",
       "  border: var(--sklearn-color-unfitted-level-1) 1pt solid;\n",
       "  color: var(--sklearn-color-unfitted-level-1);\n",
       "}\n",
       "\n",
       ".sk-estimator-doc-link.fitted,\n",
       "a:link.sk-estimator-doc-link.fitted,\n",
       "a:visited.sk-estimator-doc-link.fitted {\n",
       "  /* fitted */\n",
       "  border: var(--sklearn-color-fitted-level-1) 1pt solid;\n",
       "  color: var(--sklearn-color-fitted-level-1);\n",
       "}\n",
       "\n",
       "/* On hover */\n",
       "div.sk-estimator:hover .sk-estimator-doc-link:hover,\n",
       ".sk-estimator-doc-link:hover,\n",
       "div.sk-label-container:hover .sk-estimator-doc-link:hover,\n",
       ".sk-estimator-doc-link:hover {\n",
       "  /* unfitted */\n",
       "  background-color: var(--sklearn-color-unfitted-level-3);\n",
       "  color: var(--sklearn-color-background);\n",
       "  text-decoration: none;\n",
       "}\n",
       "\n",
       "div.sk-estimator.fitted:hover .sk-estimator-doc-link.fitted:hover,\n",
       ".sk-estimator-doc-link.fitted:hover,\n",
       "div.sk-label-container:hover .sk-estimator-doc-link.fitted:hover,\n",
       ".sk-estimator-doc-link.fitted:hover {\n",
       "  /* fitted */\n",
       "  background-color: var(--sklearn-color-fitted-level-3);\n",
       "  color: var(--sklearn-color-background);\n",
       "  text-decoration: none;\n",
       "}\n",
       "\n",
       "/* Span, style for the box shown on hovering the info icon */\n",
       ".sk-estimator-doc-link span {\n",
       "  display: none;\n",
       "  z-index: 9999;\n",
       "  position: relative;\n",
       "  font-weight: normal;\n",
       "  right: .2ex;\n",
       "  padding: .5ex;\n",
       "  margin: .5ex;\n",
       "  width: min-content;\n",
       "  min-width: 20ex;\n",
       "  max-width: 50ex;\n",
       "  color: var(--sklearn-color-text);\n",
       "  box-shadow: 2pt 2pt 4pt #999;\n",
       "  /* unfitted */\n",
       "  background: var(--sklearn-color-unfitted-level-0);\n",
       "  border: .5pt solid var(--sklearn-color-unfitted-level-3);\n",
       "}\n",
       "\n",
       ".sk-estimator-doc-link.fitted span {\n",
       "  /* fitted */\n",
       "  background: var(--sklearn-color-fitted-level-0);\n",
       "  border: var(--sklearn-color-fitted-level-3);\n",
       "}\n",
       "\n",
       ".sk-estimator-doc-link:hover span {\n",
       "  display: block;\n",
       "}\n",
       "\n",
       "/* \"?\"-specific style due to the `<a>` HTML tag */\n",
       "\n",
       "#sk-container-id-1 a.estimator_doc_link {\n",
       "  float: right;\n",
       "  font-size: 1rem;\n",
       "  line-height: 1em;\n",
       "  font-family: monospace;\n",
       "  background-color: var(--sklearn-color-background);\n",
       "  border-radius: 1rem;\n",
       "  height: 1rem;\n",
       "  width: 1rem;\n",
       "  text-decoration: none;\n",
       "  /* unfitted */\n",
       "  color: var(--sklearn-color-unfitted-level-1);\n",
       "  border: var(--sklearn-color-unfitted-level-1) 1pt solid;\n",
       "}\n",
       "\n",
       "#sk-container-id-1 a.estimator_doc_link.fitted {\n",
       "  /* fitted */\n",
       "  border: var(--sklearn-color-fitted-level-1) 1pt solid;\n",
       "  color: var(--sklearn-color-fitted-level-1);\n",
       "}\n",
       "\n",
       "/* On hover */\n",
       "#sk-container-id-1 a.estimator_doc_link:hover {\n",
       "  /* unfitted */\n",
       "  background-color: var(--sklearn-color-unfitted-level-3);\n",
       "  color: var(--sklearn-color-background);\n",
       "  text-decoration: none;\n",
       "}\n",
       "\n",
       "#sk-container-id-1 a.estimator_doc_link.fitted:hover {\n",
       "  /* fitted */\n",
       "  background-color: var(--sklearn-color-fitted-level-3);\n",
       "}\n",
       "</style><div id=\"sk-container-id-1\" class=\"sk-top-container\"><div class=\"sk-text-repr-fallback\"><pre>Pipeline(steps=[(&#x27;prepro&#x27;,\n",
       "                 ColumnTransformer(remainder=&#x27;passthrough&#x27;, sparse_threshold=0,\n",
       "                                   transformers=[(&#x27;num&#x27;,\n",
       "                                                  Pipeline(steps=[(&#x27;pwr&#x27;,\n",
       "                                                                   PowerTransformer())]),\n",
       "                                                  array([&#x27;milage&#x27;, &#x27;horsepower&#x27;, &#x27;engine_capacity&#x27;, &#x27;engine_cylinders&#x27;,\n",
       "       &#x27;car_age&#x27;, &#x27;milage_per_year&#x27;, &#x27;power_ratio&#x27;], dtype=object)),\n",
       "                                                 (&#x27;cat&#x27;,\n",
       "                                                  Pipeline(steps=[(&#x27;onehot&#x27;,\n",
       "                                                                   OneHotEncoder(handle_unknown=&#x27;ignore&#x27;))]),\n",
       "                                                  array([&#x27;brand&#x27;, &#x27;fuel_type&#x27;, &#x27;transmission&#x27;, &#x27;ext_col&#x27;, &#x27;int_col&#x27;,\n",
       "       &#x27;accident&#x27;, &#x27;clean_title&#x27;, &#x27;brand_category&#x27;], dtype=object))])),\n",
       "                (&#x27;lgbm&#x27;, LGBMRegressor(verbose=0))])</pre><b>In a Jupyter environment, please rerun this cell to show the HTML representation or trust the notebook. <br />On GitHub, the HTML representation is unable to render, please try loading this page with nbviewer.org.</b></div><div class=\"sk-container\" hidden><div class=\"sk-item sk-dashed-wrapped\"><div class=\"sk-label-container\"><div class=\"sk-label fitted sk-toggleable\"><input class=\"sk-toggleable__control sk-hidden--visually\" id=\"sk-estimator-id-1\" type=\"checkbox\" ><label for=\"sk-estimator-id-1\" class=\"sk-toggleable__label fitted sk-toggleable__label-arrow fitted\">&nbsp;&nbsp;Pipeline<a class=\"sk-estimator-doc-link fitted\" rel=\"noreferrer\" target=\"_blank\" href=\"https://scikit-learn.org/1.5/modules/generated/sklearn.pipeline.Pipeline.html\">?<span>Documentation for Pipeline</span></a><span class=\"sk-estimator-doc-link fitted\">i<span>Fitted</span></span></label><div class=\"sk-toggleable__content fitted\"><pre>Pipeline(steps=[(&#x27;prepro&#x27;,\n",
       "                 ColumnTransformer(remainder=&#x27;passthrough&#x27;, sparse_threshold=0,\n",
       "                                   transformers=[(&#x27;num&#x27;,\n",
       "                                                  Pipeline(steps=[(&#x27;pwr&#x27;,\n",
       "                                                                   PowerTransformer())]),\n",
       "                                                  array([&#x27;milage&#x27;, &#x27;horsepower&#x27;, &#x27;engine_capacity&#x27;, &#x27;engine_cylinders&#x27;,\n",
       "       &#x27;car_age&#x27;, &#x27;milage_per_year&#x27;, &#x27;power_ratio&#x27;], dtype=object)),\n",
       "                                                 (&#x27;cat&#x27;,\n",
       "                                                  Pipeline(steps=[(&#x27;onehot&#x27;,\n",
       "                                                                   OneHotEncoder(handle_unknown=&#x27;ignore&#x27;))]),\n",
       "                                                  array([&#x27;brand&#x27;, &#x27;fuel_type&#x27;, &#x27;transmission&#x27;, &#x27;ext_col&#x27;, &#x27;int_col&#x27;,\n",
       "       &#x27;accident&#x27;, &#x27;clean_title&#x27;, &#x27;brand_category&#x27;], dtype=object))])),\n",
       "                (&#x27;lgbm&#x27;, LGBMRegressor(verbose=0))])</pre></div> </div></div><div class=\"sk-serial\"><div class=\"sk-item sk-dashed-wrapped\"><div class=\"sk-label-container\"><div class=\"sk-label fitted sk-toggleable\"><input class=\"sk-toggleable__control sk-hidden--visually\" id=\"sk-estimator-id-2\" type=\"checkbox\" ><label for=\"sk-estimator-id-2\" class=\"sk-toggleable__label fitted sk-toggleable__label-arrow fitted\">&nbsp;prepro: ColumnTransformer<a class=\"sk-estimator-doc-link fitted\" rel=\"noreferrer\" target=\"_blank\" href=\"https://scikit-learn.org/1.5/modules/generated/sklearn.compose.ColumnTransformer.html\">?<span>Documentation for prepro: ColumnTransformer</span></a></label><div class=\"sk-toggleable__content fitted\"><pre>ColumnTransformer(remainder=&#x27;passthrough&#x27;, sparse_threshold=0,\n",
       "                  transformers=[(&#x27;num&#x27;,\n",
       "                                 Pipeline(steps=[(&#x27;pwr&#x27;, PowerTransformer())]),\n",
       "                                 array([&#x27;milage&#x27;, &#x27;horsepower&#x27;, &#x27;engine_capacity&#x27;, &#x27;engine_cylinders&#x27;,\n",
       "       &#x27;car_age&#x27;, &#x27;milage_per_year&#x27;, &#x27;power_ratio&#x27;], dtype=object)),\n",
       "                                (&#x27;cat&#x27;,\n",
       "                                 Pipeline(steps=[(&#x27;onehot&#x27;,\n",
       "                                                  OneHotEncoder(handle_unknown=&#x27;ignore&#x27;))]),\n",
       "                                 array([&#x27;brand&#x27;, &#x27;fuel_type&#x27;, &#x27;transmission&#x27;, &#x27;ext_col&#x27;, &#x27;int_col&#x27;,\n",
       "       &#x27;accident&#x27;, &#x27;clean_title&#x27;, &#x27;brand_category&#x27;], dtype=object))])</pre></div> </div></div><div class=\"sk-parallel\"><div class=\"sk-parallel-item\"><div class=\"sk-item\"><div class=\"sk-label-container\"><div class=\"sk-label fitted sk-toggleable\"><input class=\"sk-toggleable__control sk-hidden--visually\" id=\"sk-estimator-id-3\" type=\"checkbox\" ><label for=\"sk-estimator-id-3\" class=\"sk-toggleable__label fitted sk-toggleable__label-arrow fitted\">num</label><div class=\"sk-toggleable__content fitted\"><pre>[&#x27;milage&#x27; &#x27;horsepower&#x27; &#x27;engine_capacity&#x27; &#x27;engine_cylinders&#x27; &#x27;car_age&#x27;\n",
       " &#x27;milage_per_year&#x27; &#x27;power_ratio&#x27;]</pre></div> </div></div><div class=\"sk-serial\"><div class=\"sk-item\"><div class=\"sk-serial\"><div class=\"sk-item\"><div class=\"sk-estimator fitted sk-toggleable\"><input class=\"sk-toggleable__control sk-hidden--visually\" id=\"sk-estimator-id-4\" type=\"checkbox\" ><label for=\"sk-estimator-id-4\" class=\"sk-toggleable__label fitted sk-toggleable__label-arrow fitted\">&nbsp;PowerTransformer<a class=\"sk-estimator-doc-link fitted\" rel=\"noreferrer\" target=\"_blank\" href=\"https://scikit-learn.org/1.5/modules/generated/sklearn.preprocessing.PowerTransformer.html\">?<span>Documentation for PowerTransformer</span></a></label><div class=\"sk-toggleable__content fitted\"><pre>PowerTransformer()</pre></div> </div></div></div></div></div></div></div><div class=\"sk-parallel-item\"><div class=\"sk-item\"><div class=\"sk-label-container\"><div class=\"sk-label fitted sk-toggleable\"><input class=\"sk-toggleable__control sk-hidden--visually\" id=\"sk-estimator-id-5\" type=\"checkbox\" ><label for=\"sk-estimator-id-5\" class=\"sk-toggleable__label fitted sk-toggleable__label-arrow fitted\">cat</label><div class=\"sk-toggleable__content fitted\"><pre>[&#x27;brand&#x27; &#x27;fuel_type&#x27; &#x27;transmission&#x27; &#x27;ext_col&#x27; &#x27;int_col&#x27; &#x27;accident&#x27;\n",
       " &#x27;clean_title&#x27; &#x27;brand_category&#x27;]</pre></div> </div></div><div class=\"sk-serial\"><div class=\"sk-item\"><div class=\"sk-serial\"><div class=\"sk-item\"><div class=\"sk-estimator fitted sk-toggleable\"><input class=\"sk-toggleable__control sk-hidden--visually\" id=\"sk-estimator-id-6\" type=\"checkbox\" ><label for=\"sk-estimator-id-6\" class=\"sk-toggleable__label fitted sk-toggleable__label-arrow fitted\">&nbsp;OneHotEncoder<a class=\"sk-estimator-doc-link fitted\" rel=\"noreferrer\" target=\"_blank\" href=\"https://scikit-learn.org/1.5/modules/generated/sklearn.preprocessing.OneHotEncoder.html\">?<span>Documentation for OneHotEncoder</span></a></label><div class=\"sk-toggleable__content fitted\"><pre>OneHotEncoder(handle_unknown=&#x27;ignore&#x27;)</pre></div> </div></div></div></div></div></div></div><div class=\"sk-parallel-item\"><div class=\"sk-item\"><div class=\"sk-label-container\"><div class=\"sk-label fitted sk-toggleable\"><input class=\"sk-toggleable__control sk-hidden--visually\" id=\"sk-estimator-id-7\" type=\"checkbox\" ><label for=\"sk-estimator-id-7\" class=\"sk-toggleable__label fitted sk-toggleable__label-arrow fitted\">remainder</label><div class=\"sk-toggleable__content fitted\"><pre>[]</pre></div> </div></div><div class=\"sk-serial\"><div class=\"sk-item\"><div class=\"sk-estimator fitted sk-toggleable\"><input class=\"sk-toggleable__control sk-hidden--visually\" id=\"sk-estimator-id-8\" type=\"checkbox\" ><label for=\"sk-estimator-id-8\" class=\"sk-toggleable__label fitted sk-toggleable__label-arrow fitted\">passthrough</label><div class=\"sk-toggleable__content fitted\"><pre>passthrough</pre></div> </div></div></div></div></div></div></div><div class=\"sk-item\"><div class=\"sk-estimator fitted sk-toggleable\"><input class=\"sk-toggleable__control sk-hidden--visually\" id=\"sk-estimator-id-9\" type=\"checkbox\" ><label for=\"sk-estimator-id-9\" class=\"sk-toggleable__label fitted sk-toggleable__label-arrow fitted\">LGBMRegressor</label><div class=\"sk-toggleable__content fitted\"><pre>LGBMRegressor(verbose=0)</pre></div> </div></div></div></div></div></div>"
      ],
      "text/plain": [
       "Pipeline(steps=[('prepro',\n",
       "                 ColumnTransformer(remainder='passthrough', sparse_threshold=0,\n",
       "                                   transformers=[('num',\n",
       "                                                  Pipeline(steps=[('pwr',\n",
       "                                                                   PowerTransformer())]),\n",
       "                                                  array(['milage', 'horsepower', 'engine_capacity', 'engine_cylinders',\n",
       "       'car_age', 'milage_per_year', 'power_ratio'], dtype=object)),\n",
       "                                                 ('cat',\n",
       "                                                  Pipeline(steps=[('onehot',\n",
       "                                                                   OneHotEncoder(handle_unknown='ignore'))]),\n",
       "                                                  array(['brand', 'fuel_type', 'transmission', 'ext_col', 'int_col',\n",
       "       'accident', 'clean_title', 'brand_category'], dtype=object))])),\n",
       "                ('lgbm', LGBMRegressor(verbose=0))])"
      ]
     },
     "execution_count": 109,
     "metadata": {},
     "output_type": "execute_result"
    }
   ],
   "source": [
    "pipeline_cat.fit(X_train,y_train)\n",
    "pipeline_hist.fit(X_train,y_train)\n",
    "pipeline_lgbm.fit(X_train,y_train)"
   ]
  },
  {
   "cell_type": "code",
   "execution_count": 110,
   "metadata": {},
   "outputs": [],
   "source": [
    "test_cat_hat = pipeline_cat.predict(X_test)\n",
    "test_hist_hat = pipeline_hist.predict(X_test)\n",
    "test_lgbm_hat = pipeline_lgbm.predict(X_test)"
   ]
  },
  {
   "cell_type": "code",
   "execution_count": 111,
   "metadata": {},
   "outputs": [
    {
     "name": "stdout",
     "output_type": "stream",
     "text": [
      "Catboost test RMSE: 69595.50554\n",
      "Histboost test RMSE: 69168.20777\n",
      "LGBM test RMSE: 69237.02419\n"
     ]
    }
   ],
   "source": [
    "print(f\"Catboost test RMSE: {np.sqrt(mean_squared_error(test_cat_hat,y_test)):.5f}\")\n",
    "print(f\"Histboost test RMSE: {np.sqrt(mean_squared_error(test_hist_hat,y_test)):.5f}\")\n",
    "print(f\"LGBM test RMSE: {np.sqrt(mean_squared_error(test_lgbm_hat,y_test)):.5f}\")"
   ]
  },
  {
   "cell_type": "code",
   "execution_count": 112,
   "metadata": {},
   "outputs": [],
   "source": [
    "meta_train = meta_x.copy()\n",
    "meta_train[\"cathat\"], meta_train[\"histhat\"], meta_train[\"lgbmhat\"] = cat_hat, hist_hat ,lgbm_hat"
   ]
  },
  {
   "cell_type": "code",
   "execution_count": 113,
   "metadata": {},
   "outputs": [],
   "source": [
    "pipeline_meta = Pipeline(steps=[\n",
    "    (\"prepro\",preprocess),\n",
    "    (\"meta\",Lasso())\n",
    "])"
   ]
  },
  {
   "cell_type": "code",
   "execution_count": 114,
   "metadata": {},
   "outputs": [
    {
     "data": {
      "text/html": [
       "<style>#sk-container-id-2 {\n",
       "  /* Definition of color scheme common for light and dark mode */\n",
       "  --sklearn-color-text: black;\n",
       "  --sklearn-color-line: gray;\n",
       "  /* Definition of color scheme for unfitted estimators */\n",
       "  --sklearn-color-unfitted-level-0: #fff5e6;\n",
       "  --sklearn-color-unfitted-level-1: #f6e4d2;\n",
       "  --sklearn-color-unfitted-level-2: #ffe0b3;\n",
       "  --sklearn-color-unfitted-level-3: chocolate;\n",
       "  /* Definition of color scheme for fitted estimators */\n",
       "  --sklearn-color-fitted-level-0: #f0f8ff;\n",
       "  --sklearn-color-fitted-level-1: #d4ebff;\n",
       "  --sklearn-color-fitted-level-2: #b3dbfd;\n",
       "  --sklearn-color-fitted-level-3: cornflowerblue;\n",
       "\n",
       "  /* Specific color for light theme */\n",
       "  --sklearn-color-text-on-default-background: var(--sg-text-color, var(--theme-code-foreground, var(--jp-content-font-color1, black)));\n",
       "  --sklearn-color-background: var(--sg-background-color, var(--theme-background, var(--jp-layout-color0, white)));\n",
       "  --sklearn-color-border-box: var(--sg-text-color, var(--theme-code-foreground, var(--jp-content-font-color1, black)));\n",
       "  --sklearn-color-icon: #696969;\n",
       "\n",
       "  @media (prefers-color-scheme: dark) {\n",
       "    /* Redefinition of color scheme for dark theme */\n",
       "    --sklearn-color-text-on-default-background: var(--sg-text-color, var(--theme-code-foreground, var(--jp-content-font-color1, white)));\n",
       "    --sklearn-color-background: var(--sg-background-color, var(--theme-background, var(--jp-layout-color0, #111)));\n",
       "    --sklearn-color-border-box: var(--sg-text-color, var(--theme-code-foreground, var(--jp-content-font-color1, white)));\n",
       "    --sklearn-color-icon: #878787;\n",
       "  }\n",
       "}\n",
       "\n",
       "#sk-container-id-2 {\n",
       "  color: var(--sklearn-color-text);\n",
       "}\n",
       "\n",
       "#sk-container-id-2 pre {\n",
       "  padding: 0;\n",
       "}\n",
       "\n",
       "#sk-container-id-2 input.sk-hidden--visually {\n",
       "  border: 0;\n",
       "  clip: rect(1px 1px 1px 1px);\n",
       "  clip: rect(1px, 1px, 1px, 1px);\n",
       "  height: 1px;\n",
       "  margin: -1px;\n",
       "  overflow: hidden;\n",
       "  padding: 0;\n",
       "  position: absolute;\n",
       "  width: 1px;\n",
       "}\n",
       "\n",
       "#sk-container-id-2 div.sk-dashed-wrapped {\n",
       "  border: 1px dashed var(--sklearn-color-line);\n",
       "  margin: 0 0.4em 0.5em 0.4em;\n",
       "  box-sizing: border-box;\n",
       "  padding-bottom: 0.4em;\n",
       "  background-color: var(--sklearn-color-background);\n",
       "}\n",
       "\n",
       "#sk-container-id-2 div.sk-container {\n",
       "  /* jupyter's `normalize.less` sets `[hidden] { display: none; }`\n",
       "     but bootstrap.min.css set `[hidden] { display: none !important; }`\n",
       "     so we also need the `!important` here to be able to override the\n",
       "     default hidden behavior on the sphinx rendered scikit-learn.org.\n",
       "     See: https://github.com/scikit-learn/scikit-learn/issues/21755 */\n",
       "  display: inline-block !important;\n",
       "  position: relative;\n",
       "}\n",
       "\n",
       "#sk-container-id-2 div.sk-text-repr-fallback {\n",
       "  display: none;\n",
       "}\n",
       "\n",
       "div.sk-parallel-item,\n",
       "div.sk-serial,\n",
       "div.sk-item {\n",
       "  /* draw centered vertical line to link estimators */\n",
       "  background-image: linear-gradient(var(--sklearn-color-text-on-default-background), var(--sklearn-color-text-on-default-background));\n",
       "  background-size: 2px 100%;\n",
       "  background-repeat: no-repeat;\n",
       "  background-position: center center;\n",
       "}\n",
       "\n",
       "/* Parallel-specific style estimator block */\n",
       "\n",
       "#sk-container-id-2 div.sk-parallel-item::after {\n",
       "  content: \"\";\n",
       "  width: 100%;\n",
       "  border-bottom: 2px solid var(--sklearn-color-text-on-default-background);\n",
       "  flex-grow: 1;\n",
       "}\n",
       "\n",
       "#sk-container-id-2 div.sk-parallel {\n",
       "  display: flex;\n",
       "  align-items: stretch;\n",
       "  justify-content: center;\n",
       "  background-color: var(--sklearn-color-background);\n",
       "  position: relative;\n",
       "}\n",
       "\n",
       "#sk-container-id-2 div.sk-parallel-item {\n",
       "  display: flex;\n",
       "  flex-direction: column;\n",
       "}\n",
       "\n",
       "#sk-container-id-2 div.sk-parallel-item:first-child::after {\n",
       "  align-self: flex-end;\n",
       "  width: 50%;\n",
       "}\n",
       "\n",
       "#sk-container-id-2 div.sk-parallel-item:last-child::after {\n",
       "  align-self: flex-start;\n",
       "  width: 50%;\n",
       "}\n",
       "\n",
       "#sk-container-id-2 div.sk-parallel-item:only-child::after {\n",
       "  width: 0;\n",
       "}\n",
       "\n",
       "/* Serial-specific style estimator block */\n",
       "\n",
       "#sk-container-id-2 div.sk-serial {\n",
       "  display: flex;\n",
       "  flex-direction: column;\n",
       "  align-items: center;\n",
       "  background-color: var(--sklearn-color-background);\n",
       "  padding-right: 1em;\n",
       "  padding-left: 1em;\n",
       "}\n",
       "\n",
       "\n",
       "/* Toggleable style: style used for estimator/Pipeline/ColumnTransformer box that is\n",
       "clickable and can be expanded/collapsed.\n",
       "- Pipeline and ColumnTransformer use this feature and define the default style\n",
       "- Estimators will overwrite some part of the style using the `sk-estimator` class\n",
       "*/\n",
       "\n",
       "/* Pipeline and ColumnTransformer style (default) */\n",
       "\n",
       "#sk-container-id-2 div.sk-toggleable {\n",
       "  /* Default theme specific background. It is overwritten whether we have a\n",
       "  specific estimator or a Pipeline/ColumnTransformer */\n",
       "  background-color: var(--sklearn-color-background);\n",
       "}\n",
       "\n",
       "/* Toggleable label */\n",
       "#sk-container-id-2 label.sk-toggleable__label {\n",
       "  cursor: pointer;\n",
       "  display: block;\n",
       "  width: 100%;\n",
       "  margin-bottom: 0;\n",
       "  padding: 0.5em;\n",
       "  box-sizing: border-box;\n",
       "  text-align: center;\n",
       "}\n",
       "\n",
       "#sk-container-id-2 label.sk-toggleable__label-arrow:before {\n",
       "  /* Arrow on the left of the label */\n",
       "  content: \"▸\";\n",
       "  float: left;\n",
       "  margin-right: 0.25em;\n",
       "  color: var(--sklearn-color-icon);\n",
       "}\n",
       "\n",
       "#sk-container-id-2 label.sk-toggleable__label-arrow:hover:before {\n",
       "  color: var(--sklearn-color-text);\n",
       "}\n",
       "\n",
       "/* Toggleable content - dropdown */\n",
       "\n",
       "#sk-container-id-2 div.sk-toggleable__content {\n",
       "  max-height: 0;\n",
       "  max-width: 0;\n",
       "  overflow: hidden;\n",
       "  text-align: left;\n",
       "  /* unfitted */\n",
       "  background-color: var(--sklearn-color-unfitted-level-0);\n",
       "}\n",
       "\n",
       "#sk-container-id-2 div.sk-toggleable__content.fitted {\n",
       "  /* fitted */\n",
       "  background-color: var(--sklearn-color-fitted-level-0);\n",
       "}\n",
       "\n",
       "#sk-container-id-2 div.sk-toggleable__content pre {\n",
       "  margin: 0.2em;\n",
       "  border-radius: 0.25em;\n",
       "  color: var(--sklearn-color-text);\n",
       "  /* unfitted */\n",
       "  background-color: var(--sklearn-color-unfitted-level-0);\n",
       "}\n",
       "\n",
       "#sk-container-id-2 div.sk-toggleable__content.fitted pre {\n",
       "  /* unfitted */\n",
       "  background-color: var(--sklearn-color-fitted-level-0);\n",
       "}\n",
       "\n",
       "#sk-container-id-2 input.sk-toggleable__control:checked~div.sk-toggleable__content {\n",
       "  /* Expand drop-down */\n",
       "  max-height: 200px;\n",
       "  max-width: 100%;\n",
       "  overflow: auto;\n",
       "}\n",
       "\n",
       "#sk-container-id-2 input.sk-toggleable__control:checked~label.sk-toggleable__label-arrow:before {\n",
       "  content: \"▾\";\n",
       "}\n",
       "\n",
       "/* Pipeline/ColumnTransformer-specific style */\n",
       "\n",
       "#sk-container-id-2 div.sk-label input.sk-toggleable__control:checked~label.sk-toggleable__label {\n",
       "  color: var(--sklearn-color-text);\n",
       "  background-color: var(--sklearn-color-unfitted-level-2);\n",
       "}\n",
       "\n",
       "#sk-container-id-2 div.sk-label.fitted input.sk-toggleable__control:checked~label.sk-toggleable__label {\n",
       "  background-color: var(--sklearn-color-fitted-level-2);\n",
       "}\n",
       "\n",
       "/* Estimator-specific style */\n",
       "\n",
       "/* Colorize estimator box */\n",
       "#sk-container-id-2 div.sk-estimator input.sk-toggleable__control:checked~label.sk-toggleable__label {\n",
       "  /* unfitted */\n",
       "  background-color: var(--sklearn-color-unfitted-level-2);\n",
       "}\n",
       "\n",
       "#sk-container-id-2 div.sk-estimator.fitted input.sk-toggleable__control:checked~label.sk-toggleable__label {\n",
       "  /* fitted */\n",
       "  background-color: var(--sklearn-color-fitted-level-2);\n",
       "}\n",
       "\n",
       "#sk-container-id-2 div.sk-label label.sk-toggleable__label,\n",
       "#sk-container-id-2 div.sk-label label {\n",
       "  /* The background is the default theme color */\n",
       "  color: var(--sklearn-color-text-on-default-background);\n",
       "}\n",
       "\n",
       "/* On hover, darken the color of the background */\n",
       "#sk-container-id-2 div.sk-label:hover label.sk-toggleable__label {\n",
       "  color: var(--sklearn-color-text);\n",
       "  background-color: var(--sklearn-color-unfitted-level-2);\n",
       "}\n",
       "\n",
       "/* Label box, darken color on hover, fitted */\n",
       "#sk-container-id-2 div.sk-label.fitted:hover label.sk-toggleable__label.fitted {\n",
       "  color: var(--sklearn-color-text);\n",
       "  background-color: var(--sklearn-color-fitted-level-2);\n",
       "}\n",
       "\n",
       "/* Estimator label */\n",
       "\n",
       "#sk-container-id-2 div.sk-label label {\n",
       "  font-family: monospace;\n",
       "  font-weight: bold;\n",
       "  display: inline-block;\n",
       "  line-height: 1.2em;\n",
       "}\n",
       "\n",
       "#sk-container-id-2 div.sk-label-container {\n",
       "  text-align: center;\n",
       "}\n",
       "\n",
       "/* Estimator-specific */\n",
       "#sk-container-id-2 div.sk-estimator {\n",
       "  font-family: monospace;\n",
       "  border: 1px dotted var(--sklearn-color-border-box);\n",
       "  border-radius: 0.25em;\n",
       "  box-sizing: border-box;\n",
       "  margin-bottom: 0.5em;\n",
       "  /* unfitted */\n",
       "  background-color: var(--sklearn-color-unfitted-level-0);\n",
       "}\n",
       "\n",
       "#sk-container-id-2 div.sk-estimator.fitted {\n",
       "  /* fitted */\n",
       "  background-color: var(--sklearn-color-fitted-level-0);\n",
       "}\n",
       "\n",
       "/* on hover */\n",
       "#sk-container-id-2 div.sk-estimator:hover {\n",
       "  /* unfitted */\n",
       "  background-color: var(--sklearn-color-unfitted-level-2);\n",
       "}\n",
       "\n",
       "#sk-container-id-2 div.sk-estimator.fitted:hover {\n",
       "  /* fitted */\n",
       "  background-color: var(--sklearn-color-fitted-level-2);\n",
       "}\n",
       "\n",
       "/* Specification for estimator info (e.g. \"i\" and \"?\") */\n",
       "\n",
       "/* Common style for \"i\" and \"?\" */\n",
       "\n",
       ".sk-estimator-doc-link,\n",
       "a:link.sk-estimator-doc-link,\n",
       "a:visited.sk-estimator-doc-link {\n",
       "  float: right;\n",
       "  font-size: smaller;\n",
       "  line-height: 1em;\n",
       "  font-family: monospace;\n",
       "  background-color: var(--sklearn-color-background);\n",
       "  border-radius: 1em;\n",
       "  height: 1em;\n",
       "  width: 1em;\n",
       "  text-decoration: none !important;\n",
       "  margin-left: 1ex;\n",
       "  /* unfitted */\n",
       "  border: var(--sklearn-color-unfitted-level-1) 1pt solid;\n",
       "  color: var(--sklearn-color-unfitted-level-1);\n",
       "}\n",
       "\n",
       ".sk-estimator-doc-link.fitted,\n",
       "a:link.sk-estimator-doc-link.fitted,\n",
       "a:visited.sk-estimator-doc-link.fitted {\n",
       "  /* fitted */\n",
       "  border: var(--sklearn-color-fitted-level-1) 1pt solid;\n",
       "  color: var(--sklearn-color-fitted-level-1);\n",
       "}\n",
       "\n",
       "/* On hover */\n",
       "div.sk-estimator:hover .sk-estimator-doc-link:hover,\n",
       ".sk-estimator-doc-link:hover,\n",
       "div.sk-label-container:hover .sk-estimator-doc-link:hover,\n",
       ".sk-estimator-doc-link:hover {\n",
       "  /* unfitted */\n",
       "  background-color: var(--sklearn-color-unfitted-level-3);\n",
       "  color: var(--sklearn-color-background);\n",
       "  text-decoration: none;\n",
       "}\n",
       "\n",
       "div.sk-estimator.fitted:hover .sk-estimator-doc-link.fitted:hover,\n",
       ".sk-estimator-doc-link.fitted:hover,\n",
       "div.sk-label-container:hover .sk-estimator-doc-link.fitted:hover,\n",
       ".sk-estimator-doc-link.fitted:hover {\n",
       "  /* fitted */\n",
       "  background-color: var(--sklearn-color-fitted-level-3);\n",
       "  color: var(--sklearn-color-background);\n",
       "  text-decoration: none;\n",
       "}\n",
       "\n",
       "/* Span, style for the box shown on hovering the info icon */\n",
       ".sk-estimator-doc-link span {\n",
       "  display: none;\n",
       "  z-index: 9999;\n",
       "  position: relative;\n",
       "  font-weight: normal;\n",
       "  right: .2ex;\n",
       "  padding: .5ex;\n",
       "  margin: .5ex;\n",
       "  width: min-content;\n",
       "  min-width: 20ex;\n",
       "  max-width: 50ex;\n",
       "  color: var(--sklearn-color-text);\n",
       "  box-shadow: 2pt 2pt 4pt #999;\n",
       "  /* unfitted */\n",
       "  background: var(--sklearn-color-unfitted-level-0);\n",
       "  border: .5pt solid var(--sklearn-color-unfitted-level-3);\n",
       "}\n",
       "\n",
       ".sk-estimator-doc-link.fitted span {\n",
       "  /* fitted */\n",
       "  background: var(--sklearn-color-fitted-level-0);\n",
       "  border: var(--sklearn-color-fitted-level-3);\n",
       "}\n",
       "\n",
       ".sk-estimator-doc-link:hover span {\n",
       "  display: block;\n",
       "}\n",
       "\n",
       "/* \"?\"-specific style due to the `<a>` HTML tag */\n",
       "\n",
       "#sk-container-id-2 a.estimator_doc_link {\n",
       "  float: right;\n",
       "  font-size: 1rem;\n",
       "  line-height: 1em;\n",
       "  font-family: monospace;\n",
       "  background-color: var(--sklearn-color-background);\n",
       "  border-radius: 1rem;\n",
       "  height: 1rem;\n",
       "  width: 1rem;\n",
       "  text-decoration: none;\n",
       "  /* unfitted */\n",
       "  color: var(--sklearn-color-unfitted-level-1);\n",
       "  border: var(--sklearn-color-unfitted-level-1) 1pt solid;\n",
       "}\n",
       "\n",
       "#sk-container-id-2 a.estimator_doc_link.fitted {\n",
       "  /* fitted */\n",
       "  border: var(--sklearn-color-fitted-level-1) 1pt solid;\n",
       "  color: var(--sklearn-color-fitted-level-1);\n",
       "}\n",
       "\n",
       "/* On hover */\n",
       "#sk-container-id-2 a.estimator_doc_link:hover {\n",
       "  /* unfitted */\n",
       "  background-color: var(--sklearn-color-unfitted-level-3);\n",
       "  color: var(--sklearn-color-background);\n",
       "  text-decoration: none;\n",
       "}\n",
       "\n",
       "#sk-container-id-2 a.estimator_doc_link.fitted:hover {\n",
       "  /* fitted */\n",
       "  background-color: var(--sklearn-color-fitted-level-3);\n",
       "}\n",
       "</style><div id=\"sk-container-id-2\" class=\"sk-top-container\"><div class=\"sk-text-repr-fallback\"><pre>Pipeline(steps=[(&#x27;prepro&#x27;,\n",
       "                 ColumnTransformer(remainder=&#x27;passthrough&#x27;, sparse_threshold=0,\n",
       "                                   transformers=[(&#x27;num&#x27;,\n",
       "                                                  Pipeline(steps=[(&#x27;pwr&#x27;,\n",
       "                                                                   PowerTransformer())]),\n",
       "                                                  array([&#x27;milage&#x27;, &#x27;horsepower&#x27;, &#x27;engine_capacity&#x27;, &#x27;engine_cylinders&#x27;,\n",
       "       &#x27;car_age&#x27;, &#x27;milage_per_year&#x27;, &#x27;power_ratio&#x27;], dtype=object)),\n",
       "                                                 (&#x27;cat&#x27;,\n",
       "                                                  Pipeline(steps=[(&#x27;onehot&#x27;,\n",
       "                                                                   OneHotEncoder(handle_unknown=&#x27;ignore&#x27;))]),\n",
       "                                                  array([&#x27;brand&#x27;, &#x27;fuel_type&#x27;, &#x27;transmission&#x27;, &#x27;ext_col&#x27;, &#x27;int_col&#x27;,\n",
       "       &#x27;accident&#x27;, &#x27;clean_title&#x27;, &#x27;brand_category&#x27;], dtype=object))])),\n",
       "                (&#x27;meta&#x27;, Lasso())])</pre><b>In a Jupyter environment, please rerun this cell to show the HTML representation or trust the notebook. <br />On GitHub, the HTML representation is unable to render, please try loading this page with nbviewer.org.</b></div><div class=\"sk-container\" hidden><div class=\"sk-item sk-dashed-wrapped\"><div class=\"sk-label-container\"><div class=\"sk-label fitted sk-toggleable\"><input class=\"sk-toggleable__control sk-hidden--visually\" id=\"sk-estimator-id-10\" type=\"checkbox\" ><label for=\"sk-estimator-id-10\" class=\"sk-toggleable__label fitted sk-toggleable__label-arrow fitted\">&nbsp;&nbsp;Pipeline<a class=\"sk-estimator-doc-link fitted\" rel=\"noreferrer\" target=\"_blank\" href=\"https://scikit-learn.org/1.5/modules/generated/sklearn.pipeline.Pipeline.html\">?<span>Documentation for Pipeline</span></a><span class=\"sk-estimator-doc-link fitted\">i<span>Fitted</span></span></label><div class=\"sk-toggleable__content fitted\"><pre>Pipeline(steps=[(&#x27;prepro&#x27;,\n",
       "                 ColumnTransformer(remainder=&#x27;passthrough&#x27;, sparse_threshold=0,\n",
       "                                   transformers=[(&#x27;num&#x27;,\n",
       "                                                  Pipeline(steps=[(&#x27;pwr&#x27;,\n",
       "                                                                   PowerTransformer())]),\n",
       "                                                  array([&#x27;milage&#x27;, &#x27;horsepower&#x27;, &#x27;engine_capacity&#x27;, &#x27;engine_cylinders&#x27;,\n",
       "       &#x27;car_age&#x27;, &#x27;milage_per_year&#x27;, &#x27;power_ratio&#x27;], dtype=object)),\n",
       "                                                 (&#x27;cat&#x27;,\n",
       "                                                  Pipeline(steps=[(&#x27;onehot&#x27;,\n",
       "                                                                   OneHotEncoder(handle_unknown=&#x27;ignore&#x27;))]),\n",
       "                                                  array([&#x27;brand&#x27;, &#x27;fuel_type&#x27;, &#x27;transmission&#x27;, &#x27;ext_col&#x27;, &#x27;int_col&#x27;,\n",
       "       &#x27;accident&#x27;, &#x27;clean_title&#x27;, &#x27;brand_category&#x27;], dtype=object))])),\n",
       "                (&#x27;meta&#x27;, Lasso())])</pre></div> </div></div><div class=\"sk-serial\"><div class=\"sk-item sk-dashed-wrapped\"><div class=\"sk-label-container\"><div class=\"sk-label fitted sk-toggleable\"><input class=\"sk-toggleable__control sk-hidden--visually\" id=\"sk-estimator-id-11\" type=\"checkbox\" ><label for=\"sk-estimator-id-11\" class=\"sk-toggleable__label fitted sk-toggleable__label-arrow fitted\">&nbsp;prepro: ColumnTransformer<a class=\"sk-estimator-doc-link fitted\" rel=\"noreferrer\" target=\"_blank\" href=\"https://scikit-learn.org/1.5/modules/generated/sklearn.compose.ColumnTransformer.html\">?<span>Documentation for prepro: ColumnTransformer</span></a></label><div class=\"sk-toggleable__content fitted\"><pre>ColumnTransformer(remainder=&#x27;passthrough&#x27;, sparse_threshold=0,\n",
       "                  transformers=[(&#x27;num&#x27;,\n",
       "                                 Pipeline(steps=[(&#x27;pwr&#x27;, PowerTransformer())]),\n",
       "                                 array([&#x27;milage&#x27;, &#x27;horsepower&#x27;, &#x27;engine_capacity&#x27;, &#x27;engine_cylinders&#x27;,\n",
       "       &#x27;car_age&#x27;, &#x27;milage_per_year&#x27;, &#x27;power_ratio&#x27;], dtype=object)),\n",
       "                                (&#x27;cat&#x27;,\n",
       "                                 Pipeline(steps=[(&#x27;onehot&#x27;,\n",
       "                                                  OneHotEncoder(handle_unknown=&#x27;ignore&#x27;))]),\n",
       "                                 array([&#x27;brand&#x27;, &#x27;fuel_type&#x27;, &#x27;transmission&#x27;, &#x27;ext_col&#x27;, &#x27;int_col&#x27;,\n",
       "       &#x27;accident&#x27;, &#x27;clean_title&#x27;, &#x27;brand_category&#x27;], dtype=object))])</pre></div> </div></div><div class=\"sk-parallel\"><div class=\"sk-parallel-item\"><div class=\"sk-item\"><div class=\"sk-label-container\"><div class=\"sk-label fitted sk-toggleable\"><input class=\"sk-toggleable__control sk-hidden--visually\" id=\"sk-estimator-id-12\" type=\"checkbox\" ><label for=\"sk-estimator-id-12\" class=\"sk-toggleable__label fitted sk-toggleable__label-arrow fitted\">num</label><div class=\"sk-toggleable__content fitted\"><pre>[&#x27;milage&#x27; &#x27;horsepower&#x27; &#x27;engine_capacity&#x27; &#x27;engine_cylinders&#x27; &#x27;car_age&#x27;\n",
       " &#x27;milage_per_year&#x27; &#x27;power_ratio&#x27;]</pre></div> </div></div><div class=\"sk-serial\"><div class=\"sk-item\"><div class=\"sk-serial\"><div class=\"sk-item\"><div class=\"sk-estimator fitted sk-toggleable\"><input class=\"sk-toggleable__control sk-hidden--visually\" id=\"sk-estimator-id-13\" type=\"checkbox\" ><label for=\"sk-estimator-id-13\" class=\"sk-toggleable__label fitted sk-toggleable__label-arrow fitted\">&nbsp;PowerTransformer<a class=\"sk-estimator-doc-link fitted\" rel=\"noreferrer\" target=\"_blank\" href=\"https://scikit-learn.org/1.5/modules/generated/sklearn.preprocessing.PowerTransformer.html\">?<span>Documentation for PowerTransformer</span></a></label><div class=\"sk-toggleable__content fitted\"><pre>PowerTransformer()</pre></div> </div></div></div></div></div></div></div><div class=\"sk-parallel-item\"><div class=\"sk-item\"><div class=\"sk-label-container\"><div class=\"sk-label fitted sk-toggleable\"><input class=\"sk-toggleable__control sk-hidden--visually\" id=\"sk-estimator-id-14\" type=\"checkbox\" ><label for=\"sk-estimator-id-14\" class=\"sk-toggleable__label fitted sk-toggleable__label-arrow fitted\">cat</label><div class=\"sk-toggleable__content fitted\"><pre>[&#x27;brand&#x27; &#x27;fuel_type&#x27; &#x27;transmission&#x27; &#x27;ext_col&#x27; &#x27;int_col&#x27; &#x27;accident&#x27;\n",
       " &#x27;clean_title&#x27; &#x27;brand_category&#x27;]</pre></div> </div></div><div class=\"sk-serial\"><div class=\"sk-item\"><div class=\"sk-serial\"><div class=\"sk-item\"><div class=\"sk-estimator fitted sk-toggleable\"><input class=\"sk-toggleable__control sk-hidden--visually\" id=\"sk-estimator-id-15\" type=\"checkbox\" ><label for=\"sk-estimator-id-15\" class=\"sk-toggleable__label fitted sk-toggleable__label-arrow fitted\">&nbsp;OneHotEncoder<a class=\"sk-estimator-doc-link fitted\" rel=\"noreferrer\" target=\"_blank\" href=\"https://scikit-learn.org/1.5/modules/generated/sklearn.preprocessing.OneHotEncoder.html\">?<span>Documentation for OneHotEncoder</span></a></label><div class=\"sk-toggleable__content fitted\"><pre>OneHotEncoder(handle_unknown=&#x27;ignore&#x27;)</pre></div> </div></div></div></div></div></div></div><div class=\"sk-parallel-item\"><div class=\"sk-item\"><div class=\"sk-label-container\"><div class=\"sk-label fitted sk-toggleable\"><input class=\"sk-toggleable__control sk-hidden--visually\" id=\"sk-estimator-id-16\" type=\"checkbox\" ><label for=\"sk-estimator-id-16\" class=\"sk-toggleable__label fitted sk-toggleable__label-arrow fitted\">remainder</label><div class=\"sk-toggleable__content fitted\"><pre>[&#x27;cathat&#x27;, &#x27;histhat&#x27;, &#x27;lgbmhat&#x27;]</pre></div> </div></div><div class=\"sk-serial\"><div class=\"sk-item\"><div class=\"sk-estimator fitted sk-toggleable\"><input class=\"sk-toggleable__control sk-hidden--visually\" id=\"sk-estimator-id-17\" type=\"checkbox\" ><label for=\"sk-estimator-id-17\" class=\"sk-toggleable__label fitted sk-toggleable__label-arrow fitted\">passthrough</label><div class=\"sk-toggleable__content fitted\"><pre>passthrough</pre></div> </div></div></div></div></div></div></div><div class=\"sk-item\"><div class=\"sk-estimator fitted sk-toggleable\"><input class=\"sk-toggleable__control sk-hidden--visually\" id=\"sk-estimator-id-18\" type=\"checkbox\" ><label for=\"sk-estimator-id-18\" class=\"sk-toggleable__label fitted sk-toggleable__label-arrow fitted\">&nbsp;Lasso<a class=\"sk-estimator-doc-link fitted\" rel=\"noreferrer\" target=\"_blank\" href=\"https://scikit-learn.org/1.5/modules/generated/sklearn.linear_model.Lasso.html\">?<span>Documentation for Lasso</span></a></label><div class=\"sk-toggleable__content fitted\"><pre>Lasso()</pre></div> </div></div></div></div></div></div>"
      ],
      "text/plain": [
       "Pipeline(steps=[('prepro',\n",
       "                 ColumnTransformer(remainder='passthrough', sparse_threshold=0,\n",
       "                                   transformers=[('num',\n",
       "                                                  Pipeline(steps=[('pwr',\n",
       "                                                                   PowerTransformer())]),\n",
       "                                                  array(['milage', 'horsepower', 'engine_capacity', 'engine_cylinders',\n",
       "       'car_age', 'milage_per_year', 'power_ratio'], dtype=object)),\n",
       "                                                 ('cat',\n",
       "                                                  Pipeline(steps=[('onehot',\n",
       "                                                                   OneHotEncoder(handle_unknown='ignore'))]),\n",
       "                                                  array(['brand', 'fuel_type', 'transmission', 'ext_col', 'int_col',\n",
       "       'accident', 'clean_title', 'brand_category'], dtype=object))])),\n",
       "                ('meta', Lasso())])"
      ]
     },
     "execution_count": 114,
     "metadata": {},
     "output_type": "execute_result"
    }
   ],
   "source": [
    "pipeline_meta.fit(meta_train,meta_y)"
   ]
  },
  {
   "cell_type": "code",
   "execution_count": 115,
   "metadata": {},
   "outputs": [],
   "source": [
    "meta_test = X_test.copy()\n",
    "meta_test[\"cathat\"], meta_test[\"histhat\"], meta_test[\"lgbmhat\"] = test_cat_hat, test_hist_hat ,test_lgbm_hat"
   ]
  },
  {
   "cell_type": "code",
   "execution_count": 116,
   "metadata": {},
   "outputs": [],
   "source": [
    "meta_hat = pipeline_meta.predict(meta_test)"
   ]
  },
  {
   "cell_type": "code",
   "execution_count": 117,
   "metadata": {},
   "outputs": [
    {
     "name": "stdout",
     "output_type": "stream",
     "text": [
      "Meta model test RMSE: 69047.95144\n"
     ]
    }
   ],
   "source": [
    "print(f\"Meta model test RMSE: {np.sqrt(mean_squared_error(meta_hat,y_test)):.5f}\")"
   ]
  },
  {
   "cell_type": "code",
   "execution_count": null,
   "metadata": {},
   "outputs": [],
   "source": []
  }
 ],
 "metadata": {
  "kernelspec": {
   "display_name": "myenv",
   "language": "python",
   "name": "python3"
  },
  "language_info": {
   "codemirror_mode": {
    "name": "ipython",
    "version": 3
   },
   "file_extension": ".py",
   "mimetype": "text/x-python",
   "name": "python",
   "nbconvert_exporter": "python",
   "pygments_lexer": "ipython3",
   "version": "3.12.6"
  }
 },
 "nbformat": 4,
 "nbformat_minor": 2
}
